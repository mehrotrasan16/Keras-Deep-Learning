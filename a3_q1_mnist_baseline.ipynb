{
  "nbformat": 4,
  "nbformat_minor": 0,
  "metadata": {
    "colab": {
      "name": "a3-q1-mnist-baseline.ipynb",
      "provenance": [],
      "collapsed_sections": [],
      "toc_visible": true,
      "mount_file_id": "1vDC-MHS06ZyIxPQDx2x1by4Rg72uHPe6",
      "authorship_tag": "ABX9TyPM6dRnu7lSWLyPE60gw561",
      "include_colab_link": true
    },
    "kernelspec": {
      "name": "python3",
      "display_name": "Python 3"
    },
    "accelerator": "GPU"
  },
  "cells": [
    {
      "cell_type": "markdown",
      "metadata": {
        "id": "view-in-github",
        "colab_type": "text"
      },
      "source": [
        "<a href=\"https://colab.research.google.com/github/mehrotrasan16/Keras-Deep-Learning/blob/03-tf-lite-quantizations-ASLMNIST/a3_q1_mnist_baseline.ipynb\" target=\"_parent\"><img src=\"https://colab.research.google.com/assets/colab-badge.svg\" alt=\"Open In Colab\"/></a>"
      ]
    },
    {
      "cell_type": "code",
      "metadata": {
        "id": "u9A1WE08_FLP",
        "outputId": "2835a932-6aa1-4eda-b253-1bd789e003dd",
        "colab": {
          "base_uri": "https://localhost:8080/"
        }
      },
      "source": [
        "import tempfile\n",
        "import os\n",
        "\n",
        "import tensorflow as tf\n",
        "import numpy as np\n",
        "\n",
        "import pandas as pd\n",
        "import matplotlib.pyplot as plt\n",
        "\n",
        "from tensorflow import keras\n",
        "from keras import layers, models\n",
        "\n",
        "%load_ext tensorboard"
      ],
      "execution_count": 37,
      "outputs": [
        {
          "output_type": "stream",
          "text": [
            "The tensorboard extension is already loaded. To reload it, use:\n",
            "  %reload_ext tensorboard\n"
          ],
          "name": "stdout"
        }
      ]
    },
    {
      "cell_type": "markdown",
      "metadata": {
        "id": "-Qmn6m9TCfmB"
      },
      "source": [
        "# Input dataset"
      ]
    },
    {
      "cell_type": "code",
      "metadata": {
        "id": "RBiMnvxXsjZK"
      },
      "source": [
        "# Load ASL MNIST \n",
        "train_pd = pd.read_csv('/content/drive/My Drive/Colab Notebooks/CS581-TestResults/assignment3/q1/SignLanguageMNIST/sign_mnist_train/sign_mnist_train.csv')\n",
        "test_pd = pd.read_csv('/content/drive/My Drive/Colab Notebooks/CS581-TestResults/assignment3/q1/SignLanguageMNIST/sign_mnist_test/sign_mnist_test.csv')\n",
        "train_labels = train_pd['label'].values\n",
        "test_labels = test_pd['label'].values\n",
        "del(train_pd['label'])\n",
        "del(test_pd['label'])\n",
        "train_images = train_pd.values\n",
        "test_images = test_pd.values"
      ],
      "execution_count": 2,
      "outputs": []
    },
    {
      "cell_type": "code",
      "metadata": {
        "id": "qtx_RFdSvZn-",
        "outputId": "e14b14b6-9022-4482-e3a8-ee9d341b69ab",
        "colab": {
          "base_uri": "https://localhost:8080/"
        }
      },
      "source": [
        "test_images.shape, test_labels.shape,train_images.shape,train_labels.shape"
      ],
      "execution_count": 3,
      "outputs": [
        {
          "output_type": "execute_result",
          "data": {
            "text/plain": [
              "((7172, 784), (7172,), (27455, 784), (27455,))"
            ]
          },
          "metadata": {
            "tags": []
          },
          "execution_count": 3
        }
      ]
    },
    {
      "cell_type": "code",
      "metadata": {
        "id": "qZl-zkaOvxMJ"
      },
      "source": [
        "train_images = train_images.reshape(train_images.shape[0],28,28,1)\n",
        "test_images = test_images.reshape(test_images.shape[0],28,28,1)"
      ],
      "execution_count": 4,
      "outputs": []
    },
    {
      "cell_type": "code",
      "metadata": {
        "id": "3wfl2PvovLNU"
      },
      "source": [
        "# Normalize the input image so that each pixel value is between 0 to 1.\n",
        "train_images = train_images / 255.0\n",
        "test_images = test_images / 255.0"
      ],
      "execution_count": 5,
      "outputs": []
    },
    {
      "cell_type": "code",
      "metadata": {
        "id": "hcipR4Y6zCOz",
        "outputId": "36a45468-4c17-4300-e06e-394d932e6241",
        "colab": {
          "base_uri": "https://localhost:8080/"
        }
      },
      "source": [
        "test_images.shape, test_labels.shape,train_images.shape,train_labels.shape"
      ],
      "execution_count": 6,
      "outputs": [
        {
          "output_type": "execute_result",
          "data": {
            "text/plain": [
              "((7172, 28, 28, 1), (7172,), (27455, 28, 28, 1), (27455,))"
            ]
          },
          "metadata": {
            "tags": []
          },
          "execution_count": 6
        }
      ]
    },
    {
      "cell_type": "code",
      "metadata": {
        "id": "Ip3oYVQYEH3_"
      },
      "source": [
        "# Define the model architecture.\n",
        "model = models.Sequential([\n",
        "keras.layers.Conv2D(64, kernel_size=(3,3), padding='same', activation='relu'),\n",
        "layers.MaxPool2D(pool_size=(2,2)),\n",
        "keras.layers.Conv2D(96, kernel_size=(3,3), padding='same', activation='relu',use_bias=False),\n",
        "layers.MaxPool2D(pool_size=(2,2)),\n",
        "keras.layers.Conv2D(128, kernel_size=(3,3), padding='same', activation='relu',use_bias=False),\n",
        "layers.MaxPool2D(pool_size=(2,2)),\n",
        "layers.Flatten(),\n",
        "keras.layers.Dense(512, activation='relu',use_bias=False),\n",
        "layers.Dropout(0.60),\n",
        "layers.Dense(25,activation='softmax')\n",
        "])"
      ],
      "execution_count": 46,
      "outputs": []
    },
    {
      "cell_type": "code",
      "metadata": {
        "id": "pbY-KGMPvbW9",
        "outputId": "7889b8ae-2ac6-475c-dcac-dc4aa369413d",
        "colab": {
          "base_uri": "https://localhost:8080/"
        }
      },
      "source": [
        "\n",
        "# Train the digit classification model\n",
        "model.compile(optimizer='adam',\n",
        "              loss=tf.keras.losses.SparseCategoricalCrossentropy(from_logits=True),\n",
        "              metrics=['accuracy'])\n",
        "\n",
        "history = model.fit(\n",
        "  train_images,\n",
        "  train_labels,\n",
        "  epochs=20,\n",
        "  batch_size=128,\n",
        "  validation_data=(test_images,test_labels)\n",
        ")\n"
      ],
      "execution_count": 47,
      "outputs": [
        {
          "output_type": "stream",
          "text": [
            "Epoch 1/20\n",
            "215/215 [==============================] - 2s 7ms/step - loss: 3.1043 - accuracy: 0.1755 - val_loss: 2.9757 - val_accuracy: 0.3088\n",
            "Epoch 2/20\n",
            "215/215 [==============================] - 1s 6ms/step - loss: 2.7231 - accuracy: 0.5731 - val_loss: 2.6533 - val_accuracy: 0.6454\n",
            "Epoch 3/20\n",
            "215/215 [==============================] - 1s 6ms/step - loss: 2.5451 - accuracy: 0.7468 - val_loss: 2.6100 - val_accuracy: 0.6793\n",
            "Epoch 4/20\n",
            "215/215 [==============================] - 1s 6ms/step - loss: 2.4614 - accuracy: 0.8291 - val_loss: 2.5039 - val_accuracy: 0.7864\n",
            "Epoch 5/20\n",
            "215/215 [==============================] - 1s 6ms/step - loss: 2.4063 - accuracy: 0.8834 - val_loss: 2.4396 - val_accuracy: 0.8491\n",
            "Epoch 6/20\n",
            "215/215 [==============================] - 1s 6ms/step - loss: 2.3835 - accuracy: 0.9042 - val_loss: 2.4202 - val_accuracy: 0.8677\n",
            "Epoch 7/20\n",
            "215/215 [==============================] - 1s 6ms/step - loss: 2.3759 - accuracy: 0.9112 - val_loss: 2.4176 - val_accuracy: 0.8723\n",
            "Epoch 8/20\n",
            "215/215 [==============================] - 1s 6ms/step - loss: 2.3734 - accuracy: 0.9133 - val_loss: 2.4208 - val_accuracy: 0.8656\n",
            "Epoch 9/20\n",
            "215/215 [==============================] - 1s 6ms/step - loss: 2.3725 - accuracy: 0.9137 - val_loss: 2.4068 - val_accuracy: 0.8812\n",
            "Epoch 10/20\n",
            "215/215 [==============================] - 1s 6ms/step - loss: 2.3711 - accuracy: 0.9151 - val_loss: 2.4208 - val_accuracy: 0.8635\n",
            "Epoch 11/20\n",
            "215/215 [==============================] - 1s 6ms/step - loss: 2.3598 - accuracy: 0.9268 - val_loss: 2.3667 - val_accuracy: 0.9198\n",
            "Epoch 12/20\n",
            "215/215 [==============================] - 1s 6ms/step - loss: 2.3373 - accuracy: 0.9492 - val_loss: 2.3574 - val_accuracy: 0.9321\n",
            "Epoch 13/20\n",
            "215/215 [==============================] - 1s 6ms/step - loss: 2.3351 - accuracy: 0.9511 - val_loss: 2.3504 - val_accuracy: 0.9377\n",
            "Epoch 14/20\n",
            "215/215 [==============================] - 1s 6ms/step - loss: 2.3331 - accuracy: 0.9528 - val_loss: 2.3692 - val_accuracy: 0.9173\n",
            "Epoch 15/20\n",
            "215/215 [==============================] - 1s 6ms/step - loss: 2.3325 - accuracy: 0.9535 - val_loss: 2.3521 - val_accuracy: 0.9340\n",
            "Epoch 16/20\n",
            "215/215 [==============================] - 1s 6ms/step - loss: 2.3319 - accuracy: 0.9541 - val_loss: 2.3539 - val_accuracy: 0.9318\n",
            "Epoch 17/20\n",
            "215/215 [==============================] - 1s 6ms/step - loss: 2.3317 - accuracy: 0.9542 - val_loss: 2.3500 - val_accuracy: 0.9349\n",
            "Epoch 18/20\n",
            "215/215 [==============================] - 1s 6ms/step - loss: 2.3062 - accuracy: 0.9805 - val_loss: 2.3234 - val_accuracy: 0.9646\n",
            "Epoch 19/20\n",
            "215/215 [==============================] - 1s 6ms/step - loss: 2.2926 - accuracy: 0.9934 - val_loss: 2.3299 - val_accuracy: 0.9573\n",
            "Epoch 20/20\n",
            "215/215 [==============================] - 1s 6ms/step - loss: 2.2894 - accuracy: 0.9967 - val_loss: 2.3239 - val_accuracy: 0.9639\n"
          ],
          "name": "stdout"
        }
      ]
    },
    {
      "cell_type": "code",
      "metadata": {
        "id": "sE8LlDX_EIvw",
        "outputId": "127a9628-4621-4c6c-c83b-f61b8006f51d",
        "colab": {
          "base_uri": "https://localhost:8080/"
        }
      },
      "source": [
        "model.summary()"
      ],
      "execution_count": 48,
      "outputs": [
        {
          "output_type": "stream",
          "text": [
            "Model: \"sequential_1\"\n",
            "_________________________________________________________________\n",
            "Layer (type)                 Output Shape              Param #   \n",
            "=================================================================\n",
            "conv2d_3 (Conv2D)            (None, 28, 28, 64)        640       \n",
            "_________________________________________________________________\n",
            "max_pooling2d_3 (MaxPooling2 (None, 14, 14, 64)        0         \n",
            "_________________________________________________________________\n",
            "conv2d_4 (Conv2D)            (None, 14, 14, 96)        55296     \n",
            "_________________________________________________________________\n",
            "max_pooling2d_4 (MaxPooling2 (None, 7, 7, 96)          0         \n",
            "_________________________________________________________________\n",
            "conv2d_5 (Conv2D)            (None, 7, 7, 128)         110592    \n",
            "_________________________________________________________________\n",
            "max_pooling2d_5 (MaxPooling2 (None, 3, 3, 128)         0         \n",
            "_________________________________________________________________\n",
            "flatten_1 (Flatten)          (None, 1152)              0         \n",
            "_________________________________________________________________\n",
            "dense_2 (Dense)              (None, 512)               589824    \n",
            "_________________________________________________________________\n",
            "dropout_1 (Dropout)          (None, 512)               0         \n",
            "_________________________________________________________________\n",
            "dense_3 (Dense)              (None, 25)                12825     \n",
            "=================================================================\n",
            "Total params: 769,177\n",
            "Trainable params: 769,177\n",
            "Non-trainable params: 0\n",
            "_________________________________________________________________\n"
          ],
          "name": "stdout"
        }
      ]
    },
    {
      "cell_type": "code",
      "metadata": {
        "id": "OZ5jVUfxAUZA",
        "outputId": "dc467627-ab1c-44aa-f19a-bd1a367c09ac",
        "colab": {
          "base_uri": "https://localhost:8080/",
          "height": 562
        }
      },
      "source": [
        "plt.plot(history.history['accuracy'], label='accuracy')\n",
        "plt.plot(history.history['val_accuracy'], label = 'val_accuracy')\n",
        "plt.xlabel('Epoch')\n",
        "plt.ylabel('Accuracy')\n",
        "plt.ylim([0.5, 1])\n",
        "plt.legend(loc='lower right')\n",
        "plt.show()\n",
        "\n",
        "plt.plot(history.history['loss'], label='loss')\n",
        "plt.plot(history.history['val_loss'], label = 'val_loss')\n",
        "plt.xlabel('Epoch')\n",
        "plt.ylabel('Loss')\n",
        "#plt.ylim([0.5, 1])\n",
        "plt.legend(loc='lower right')\n",
        "plt.show()\n",
        "\n",
        "test_loss, test_acc = model.evaluate(test_images,  test_labels, verbose=2)"
      ],
      "execution_count": 49,
      "outputs": [
        {
          "output_type": "display_data",
          "data": {
            "image/png": "[encoded data removed]",
            "text/plain": [
              "<Figure size 432x288 with 1 Axes>"
            ]
          },
          "metadata": {
            "tags": [],
            "needs_background": "light"
          }
        },
        {
          "output_type": "display_data",
          "data": {
            "image/png": "[encoded data removed]",
            "text/plain": [
              "<Figure size 432x288 with 1 Axes>"
            ]
          },
          "metadata": {
            "tags": [],
            "needs_background": "light"
          }
        },
        {
          "output_type": "stream",
          "text": [
            "225/225 - 0s - loss: 2.3239 - accuracy: 0.9639\n"
          ],
          "name": "stdout"
        }
      ]
    },
    {
      "cell_type": "code",
      "metadata": {
        "id": "ZRSX1HbVBOZc"
      },
      "source": [
        "tflite_models_dir = '/content/drive/My Drive/Colab Notebooks/CS581-TestResults/assignment3/q1/tflite_models'"
      ],
      "execution_count": 11,
      "outputs": []
    },
    {
      "cell_type": "markdown",
      "metadata": {
        "id": "A9tdCNrCIfg0"
      },
      "source": [
        "# Baseline to TFLite"
      ]
    },
    {
      "cell_type": "code",
      "metadata": {
        "id": "wLUkkua9IfFV",
        "outputId": "8666a98b-ba77-4c7c-856a-84a3f49d7a20",
        "colab": {
          "base_uri": "https://localhost:8080/"
        }
      },
      "source": [
        "converter = tf.lite.TFLiteConverter.from_keras_model(model)\n",
        "tflite_model = converter.convert()\n",
        "tf_lite_model_file = '/content/drive/My Drive/Colab Notebooks/CS581-TestResults/assignment3/q1/tflite_models/sign_mnist_model.tflite'\n",
        "\n",
        "with open(tf_lite_model_file,'wb') as f:\n",
        "    f.write(tflite_model)"
      ],
      "execution_count": 12,
      "outputs": [
        {
          "output_type": "stream",
          "text": [
            "WARNING:tensorflow:From /usr/local/lib/python3.6/dist-packages/tensorflow/python/training/tracking/tracking.py:111: Model.state_updates (from tensorflow.python.keras.engine.training) is deprecated and will be removed in a future version.\n",
            "Instructions for updating:\n",
            "This property should not be used in TensorFlow 2.0, as updates are applied automatically.\n",
            "WARNING:tensorflow:From /usr/local/lib/python3.6/dist-packages/tensorflow/python/training/tracking/tracking.py:111: Layer.updates (from tensorflow.python.keras.engine.base_layer) is deprecated and will be removed in a future version.\n",
            "Instructions for updating:\n",
            "This property should not be used in TensorFlow 2.0, as updates are applied automatically.\n",
            "INFO:tensorflow:Assets written to: /tmp/tmp2n64pzqn/assets\n"
          ],
          "name": "stdout"
        }
      ]
    },
    {
      "cell_type": "markdown",
      "metadata": {
        "id": "KvnF0eiPIgFK"
      },
      "source": [
        "### Baseline TFLite Size(MB)"
      ]
    },
    {
      "cell_type": "code",
      "metadata": {
        "id": "NK6vwIQwNb5i",
        "outputId": "32b01fe0-2103-4860-bc87-e958599c9221",
        "colab": {
          "base_uri": "https://localhost:8080/"
        }
      },
      "source": [
        "(os.path.getsize(tf_lite_model_file) / 1024) / 1024"
      ],
      "execution_count": 13,
      "outputs": [
        {
          "output_type": "execute_result",
          "data": {
            "text/plain": [
              "1.4630508422851562"
            ]
          },
          "metadata": {
            "tags": []
          },
          "execution_count": 13
        }
      ]
    },
    {
      "cell_type": "markdown",
      "metadata": {
        "id": "24vL-4wzIj4c"
      },
      "source": [
        "### Baseline TFLite Accuracy"
      ]
    },
    {
      "cell_type": "code",
      "metadata": {
        "id": "eEAy2K1bRSkl"
      },
      "source": [
        "def evaluate_model(interpreter):\n",
        "    input_index = interpreter.get_input_details()[0][\"index\"]\n",
        "    output_index = interpreter.get_output_details()[0]['index']\n",
        "    predictions = []\n",
        "\n",
        "    for img in test_images:\n",
        "        timg = np.expand_dims(img,axis = 0).astype(np.float32)\n",
        "        interpreter.set_tensor(input_index,timg)\n",
        "        \n",
        "        interpreter.invoke()\n",
        "\n",
        "        output = interpreter.tensor(output_index)\n",
        "        pred = np.argmax(output()[0])\n",
        "        predictions.append(pred)\n",
        "\n",
        "    predictions = np.array(predictions)\n",
        "    accuracy= (predictions == test_labels).mean()\n",
        "    return accuracy    "
      ],
      "execution_count": 14,
      "outputs": []
    },
    {
      "cell_type": "code",
      "metadata": {
        "id": "-Qv6W2ctIBeY"
      },
      "source": [
        "interpreter= tf.lite.Interpreter(model_path='/content/drive/My Drive/Colab Notebooks/CS581-TestResults/assignment3/q1/tflite_models/sign_mnist_model.tflite')\n",
        "interpreter.allocate_tensors()"
      ],
      "execution_count": 15,
      "outputs": []
    },
    {
      "cell_type": "code",
      "metadata": {
        "id": "zNvmHVFYISsq"
      },
      "source": [
        "tflite_test_acc = evaluate_model(interpreter)"
      ],
      "execution_count": 16,
      "outputs": []
    },
    {
      "cell_type": "code",
      "metadata": {
        "id": "C_qiPT1BIcTN",
        "outputId": "5228a9d5-3104-4b1b-d098-32c3a2a34c70",
        "colab": {
          "base_uri": "https://localhost:8080/"
        }
      },
      "source": [
        "tflite_test_acc"
      ],
      "execution_count": 17,
      "outputs": [
        {
          "output_type": "execute_result",
          "data": {
            "text/plain": [
              "0.8063301728945901"
            ]
          },
          "metadata": {
            "tags": []
          },
          "execution_count": 17
        }
      ]
    },
    {
      "cell_type": "markdown",
      "metadata": {
        "id": "MfKHxy5DB0fe"
      },
      "source": [
        "# Baseline to float16 optimization"
      ]
    },
    {
      "cell_type": "code",
      "metadata": {
        "id": "xieSDY55I6LU"
      },
      "source": [
        "converter = tf.lite.TFLiteConverter.from_keras_model(model)\n",
        "converter.optimizations = [tf.lite.Optimize.DEFAULT]\n",
        "converter.target_spec.supported_types = [tf.float16]"
      ],
      "execution_count": 18,
      "outputs": []
    },
    {
      "cell_type": "code",
      "metadata": {
        "id": "kum56nYqJXWz",
        "outputId": "5d99bd88-fd8a-44ca-99e5-f60a25d29008",
        "colab": {
          "base_uri": "https://localhost:8080/"
        }
      },
      "source": [
        "tflite_fp16_model = converter.convert()\n",
        "tflite_fp16_file = '/content/drive/My Drive/Colab Notebooks/CS581-TestResults/assignment3/q1/tflite_models/sign_mnist_model_quant_f16.tflite'\n",
        "with open(tflite_fp16_file,'wb') as f:\n",
        "    f.write(tflite_fp16_model)"
      ],
      "execution_count": 19,
      "outputs": [
        {
          "output_type": "stream",
          "text": [
            "INFO:tensorflow:Assets written to: /tmp/tmpvigo2_uy/assets\n"
          ],
          "name": "stdout"
        },
        {
          "output_type": "stream",
          "text": [
            "INFO:tensorflow:Assets written to: /tmp/tmpvigo2_uy/assets\n"
          ],
          "name": "stderr"
        }
      ]
    },
    {
      "cell_type": "markdown",
      "metadata": {
        "id": "-blQxSqmIsJF"
      },
      "source": [
        "### TFLite float16 optimization size(MB)"
      ]
    },
    {
      "cell_type": "code",
      "metadata": {
        "id": "yhk995FIM1P0",
        "outputId": "ddebbbd4-a2c7-44d3-a879-512433d0f5a4",
        "colab": {
          "base_uri": "https://localhost:8080/"
        }
      },
      "source": [
        "(os.path.getsize(tflite_fp16_file) / 1024) / 1024"
      ],
      "execution_count": 20,
      "outputs": [
        {
          "output_type": "execute_result",
          "data": {
            "text/plain": [
              "0.7343902587890625"
            ]
          },
          "metadata": {
            "tags": []
          },
          "execution_count": 20
        }
      ]
    },
    {
      "cell_type": "markdown",
      "metadata": {
        "id": "B6LmsHcnIwx7"
      },
      "source": [
        "### TFLite float16 optimization accuracy"
      ]
    },
    {
      "cell_type": "code",
      "metadata": {
        "id": "xzPpUDTnNZ_F"
      },
      "source": [
        "interpreter_f16= tf.lite.Interpreter(model_path='/content/drive/My Drive/Colab Notebooks/CS581-TestResults/assignment3/q1/tflite_models/sign_mnist_model_quant_f16.tflite')\n",
        "interpreter_f16.allocate_tensors()"
      ],
      "execution_count": 21,
      "outputs": []
    },
    {
      "cell_type": "code",
      "metadata": {
        "id": "fIWxe_SiI6M-",
        "outputId": "47b08101-871a-4596-d306-72038c2c3e1d",
        "colab": {
          "base_uri": "https://localhost:8080/"
        }
      },
      "source": [
        "tflite_f16_test_acc = evaluate_model(interpreter_f16)\n",
        "tflite_f16_test_acc"
      ],
      "execution_count": 22,
      "outputs": [
        {
          "output_type": "execute_result",
          "data": {
            "text/plain": [
              "0.8063301728945901"
            ]
          },
          "metadata": {
            "tags": []
          },
          "execution_count": 22
        }
      ]
    },
    {
      "cell_type": "markdown",
      "metadata": {
        "id": "oB01-No2D6s5"
      },
      "source": [
        "# Dynamic Range Optimization"
      ]
    },
    {
      "cell_type": "code",
      "metadata": {
        "id": "vaN2xVxoD9QR",
        "outputId": "1bf8d799-774b-4b67-a642-2a221dace905",
        "colab": {
          "base_uri": "https://localhost:8080/"
        }
      },
      "source": [
        "converter = tf.lite.TFLiteConverter.from_keras_model(model)\n",
        "converter.optimizations = [tf.lite.Optimize.DEFAULT]\n",
        "\n",
        "tflite_model_quant_dyn = converter.convert()"
      ],
      "execution_count": 23,
      "outputs": [
        {
          "output_type": "stream",
          "text": [
            "INFO:tensorflow:Assets written to: /tmp/tmptv6b11ym/assets\n"
          ],
          "name": "stdout"
        },
        {
          "output_type": "stream",
          "text": [
            "INFO:tensorflow:Assets written to: /tmp/tmptv6b11ym/assets\n"
          ],
          "name": "stderr"
        }
      ]
    },
    {
      "cell_type": "code",
      "metadata": {
        "id": "KtWPd3ZZoXMF",
        "outputId": "756ca802-951f-41b6-cd6b-2e3978573215",
        "colab": {
          "base_uri": "https://localhost:8080/"
        }
      },
      "source": [
        "tflite_dyn_model = converter.convert()\n",
        "tflite_dyn_file = '/content/drive/My Drive/Colab Notebooks/CS581-TestResults/assignment3/q1/tflite_models/sign_mnist_model_quant_dyn.tflite'\n",
        "with open(tflite_dyn_file,'wb') as f:\n",
        "    f.write(tflite_dyn_model)"
      ],
      "execution_count": 24,
      "outputs": [
        {
          "output_type": "stream",
          "text": [
            "INFO:tensorflow:Assets written to: /tmp/tmph8_fuiq8/assets\n"
          ],
          "name": "stdout"
        },
        {
          "output_type": "stream",
          "text": [
            "INFO:tensorflow:Assets written to: /tmp/tmph8_fuiq8/assets\n"
          ],
          "name": "stderr"
        }
      ]
    },
    {
      "cell_type": "markdown",
      "metadata": {
        "id": "BBt2-4ttqzdO"
      },
      "source": [
        "## Dynamic Optimization Size"
      ]
    },
    {
      "cell_type": "code",
      "metadata": {
        "id": "PpTAyOjGod9j",
        "outputId": "326a9ff1-2333-4e57-e499-21d6eb930992",
        "colab": {
          "base_uri": "https://localhost:8080/"
        }
      },
      "source": [
        "(os.path.getsize(tflite_dyn_file) / 1024) / 1024"
      ],
      "execution_count": 25,
      "outputs": [
        {
          "output_type": "execute_result",
          "data": {
            "text/plain": [
              "0.372100830078125"
            ]
          },
          "metadata": {
            "tags": []
          },
          "execution_count": 25
        }
      ]
    },
    {
      "cell_type": "markdown",
      "metadata": {
        "id": "K6je1Jk0q3OP"
      },
      "source": [
        "## Dynamic Optimization Accuracy"
      ]
    },
    {
      "cell_type": "code",
      "metadata": {
        "id": "T_chrMWDp7P3"
      },
      "source": [
        "interpreter_dyn = tf.lite.Interpreter(model_path='/content/drive/My Drive/Colab Notebooks/CS581-TestResults/assignment3/q1/tflite_models/sign_mnist_model_quant_dyn.tflite')\n",
        "interpreter_dyn.allocate_tensors()"
      ],
      "execution_count": 26,
      "outputs": []
    },
    {
      "cell_type": "code",
      "metadata": {
        "id": "FguZw0nurzJB",
        "outputId": "3f3b4d19-f7d5-4530-c016-162809cf2880",
        "colab": {
          "base_uri": "https://localhost:8080/"
        }
      },
      "source": [
        "tflite_dyn_test_acc = evaluate_model(interpreter_dyn)\n",
        "tflite_dyn_test_acc"
      ],
      "execution_count": 27,
      "outputs": [
        {
          "output_type": "execute_result",
          "data": {
            "text/plain": [
              "0.8063301728945901"
            ]
          },
          "metadata": {
            "tags": []
          },
          "execution_count": 27
        }
      ]
    },
    {
      "cell_type": "markdown",
      "metadata": {
        "id": "peSU5JjtCBAF"
      },
      "source": [
        "# Baseline to int8 quantization (weights and activations)\n"
      ]
    },
    {
      "cell_type": "code",
      "metadata": {
        "id": "yJ426WP6KJvh",
        "outputId": "dc3fcc3d-aae6-4980-8dbd-cc9240451308",
        "colab": {
          "base_uri": "https://localhost:8080/"
        }
      },
      "source": [
        "type(train_images),train_images.shape"
      ],
      "execution_count": 28,
      "outputs": [
        {
          "output_type": "execute_result",
          "data": {
            "text/plain": [
              "(numpy.ndarray, (27455, 28, 28, 1))"
            ]
          },
          "metadata": {
            "tags": []
          },
          "execution_count": 28
        }
      ]
    },
    {
      "cell_type": "code",
      "metadata": {
        "id": "P-xhCPECKdv7"
      },
      "source": [
        "train_images = train_images.astype(np.float32)"
      ],
      "execution_count": 29,
      "outputs": []
    },
    {
      "cell_type": "code",
      "metadata": {
        "id": "VS5Bd-1GCGbV",
        "outputId": "4e11ba4e-f0f3-4c5e-97d3-35f1fd010f2e",
        "colab": {
          "base_uri": "https://localhost:8080/"
        }
      },
      "source": [
        "def representative_data_gen():\n",
        "  for input_value in tf.data.Dataset.from_tensor_slices(train_images).batch(1).take(100):\n",
        "    yield [input_value]\n",
        "\n",
        "converter = tf.lite.TFLiteConverter.from_keras_model(model)\n",
        "converter.optimizations = [tf.lite.Optimize.DEFAULT]\n",
        "converter.representative_dataset = representative_data_gen\n",
        "# Ensure that if any ops can't be quantized, the converter throws an error\n",
        "converter.target_spec.supported_ops = [tf.lite.OpsSet.TFLITE_BUILTINS_INT8]\n",
        "# Set the input and output tensors to uint8 (APIs added in r2.3)\n",
        "converter.inference_input_type = tf.uint8\n",
        "converter.inference_output_type = tf.uint8\n",
        "\n",
        "tflite_int8_model = converter.convert()"
      ],
      "execution_count": 30,
      "outputs": [
        {
          "output_type": "stream",
          "text": [
            "INFO:tensorflow:Assets written to: /tmp/tmpsvzvz8s2/assets\n"
          ],
          "name": "stdout"
        },
        {
          "output_type": "stream",
          "text": [
            "INFO:tensorflow:Assets written to: /tmp/tmpsvzvz8s2/assets\n"
          ],
          "name": "stderr"
        }
      ]
    },
    {
      "cell_type": "code",
      "metadata": {
        "id": "5rVtGtYvLx6n"
      },
      "source": [
        "tflite_int8_file = '/content/drive/My Drive/Colab Notebooks/CS581-TestResults/assignment3/q1/tflite_models/sign_mnist_model_quant_int8.tflite'\n",
        "with open(tflite_int8_file,'wb') as f:\n",
        "    f.write(tflite_int8_model)"
      ],
      "execution_count": 31,
      "outputs": []
    },
    {
      "cell_type": "markdown",
      "metadata": {
        "id": "_zW2sM5oL0Yu"
      },
      "source": [
        "### TFLite to int8 optimization size"
      ]
    },
    {
      "cell_type": "code",
      "metadata": {
        "id": "PDL4qWRADNTX",
        "outputId": "92465834-f43b-48c6-f2de-2b54937021b0",
        "colab": {
          "base_uri": "https://localhost:8080/"
        }
      },
      "source": [
        "(os.path.getsize(tflite_int8_file) / 1024) / 1024"
      ],
      "execution_count": 32,
      "outputs": [
        {
          "output_type": "execute_result",
          "data": {
            "text/plain": [
              "0.376708984375"
            ]
          },
          "metadata": {
            "tags": []
          },
          "execution_count": 32
        }
      ]
    },
    {
      "cell_type": "markdown",
      "metadata": {
        "id": "h-qa3chvL-T6"
      },
      "source": [
        "### TLFITE to int8 optimization accuracy"
      ]
    },
    {
      "cell_type": "code",
      "metadata": {
        "id": "U599cI9Nm996"
      },
      "source": [
        "# Helper function to evaluate a TFLite model on all images\n",
        "def evaluate_model_int8(tflite_file, model_type):\n",
        "  global test_images\n",
        "  global test_labels\n",
        "\n",
        "  test_image_indices = range(test_images.shape[0])\n",
        "  predictions = run_tflite_model(tflite_file, test_image_indices)\n",
        "\n",
        "  accuracy = (np.sum(test_labels== predictions) * 100) / len(test_images)\n",
        "\n",
        "  print('%s model accuracy is %.4f%% (Number of test samples=%d)' % (\n",
        "      model_type, accuracy, len(test_images)))"
      ],
      "execution_count": 33,
      "outputs": []
    },
    {
      "cell_type": "code",
      "metadata": {
        "id": "b5R05MBcm6Jg"
      },
      "source": [
        "# Helper function to run inference on a TFLite model\n",
        "def run_tflite_model(tflite_file, test_image_indices):\n",
        "  global test_images\n",
        "\n",
        "  # Initialize the interpreter\n",
        "  interpreter = tf.lite.Interpreter(model_path=str(tflite_file))\n",
        "  interpreter.allocate_tensors()\n",
        "\n",
        "  input_details = interpreter.get_input_details()[0]\n",
        "  output_details = interpreter.get_output_details()[0]\n",
        "\n",
        "  predictions = np.zeros((len(test_image_indices),), dtype=int)\n",
        "  for i, test_image_index in enumerate(test_image_indices):\n",
        "    test_image = test_images[test_image_index]\n",
        "    test_label = test_labels[test_image_index]\n",
        "\n",
        "    # Check if the input type is quantized, then rescale input data to uint8\n",
        "    if input_details['dtype'] == np.uint8:\n",
        "      input_scale, input_zero_point = input_details[\"quantization\"]\n",
        "      test_image = test_image / input_scale + input_zero_point\n",
        "\n",
        "    test_image = np.expand_dims(test_image, axis=0).astype(input_details[\"dtype\"])\n",
        "    interpreter.set_tensor(input_details[\"index\"], test_image)\n",
        "    interpreter.invoke()\n",
        "    output = interpreter.get_tensor(output_details[\"index\"])[0]\n",
        "\n",
        "    predictions[i] = output.argmax()\n",
        "\n",
        "  return predictions\n"
      ],
      "execution_count": 34,
      "outputs": []
    },
    {
      "cell_type": "code",
      "metadata": {
        "id": "5WZlv1lTvQJb",
        "outputId": "a75bebd8-6922-4739-e3fc-07a09227ec9b",
        "colab": {
          "base_uri": "https://localhost:8080/"
        }
      },
      "source": [
        "evaluate_model_int8(tflite_int8_file,model_type='Quantized')"
      ],
      "execution_count": 35,
      "outputs": [
        {
          "output_type": "stream",
          "text": [
            "Quantized model accuracy is 80.4657% (Number of test samples=7172)\n"
          ],
          "name": "stdout"
        }
      ]
    },
    {
      "cell_type": "code",
      "metadata": {
        "id": "Fc3j7eOzx2Rh"
      },
      "source": [
        ""
      ],
      "execution_count": 35,
      "outputs": []
    },
    {
      "cell_type": "markdown",
      "metadata": {
        "id": "zLbwfLBx31rv"
      },
      "source": [
        "# Quantization Aware Optimization - on the Whole model"
      ]
    },
    {
      "cell_type": "code",
      "metadata": {
        "id": "PkX0aBogGGsT",
        "outputId": "4f25dd80-3926-4121-df1a-2ed6ba34e4f0",
        "colab": {
          "base_uri": "https://localhost:8080/"
        }
      },
      "source": [
        "! pip install -q tensorflow-model-optimization\n"
      ],
      "execution_count": 38,
      "outputs": [
        {
          "output_type": "stream",
          "text": [
            "\u001b[?25l\r\u001b[K     |██                              | 10kB 24.7MB/s eta 0:00:01\r\u001b[K     |███▉                            | 20kB 3.5MB/s eta 0:00:01\r\u001b[K     |█████▊                          | 30kB 4.6MB/s eta 0:00:01\r\u001b[K     |███████▋                        | 40kB 4.8MB/s eta 0:00:01\r\u001b[K     |█████████▌                      | 51kB 4.0MB/s eta 0:00:01\r\u001b[K     |███████████▍                    | 61kB 4.5MB/s eta 0:00:01\r\u001b[K     |█████████████▎                  | 71kB 4.7MB/s eta 0:00:01\r\u001b[K     |███████████████▏                | 81kB 5.1MB/s eta 0:00:01\r\u001b[K     |█████████████████               | 92kB 5.4MB/s eta 0:00:01\r\u001b[K     |███████████████████             | 102kB 5.4MB/s eta 0:00:01\r\u001b[K     |████████████████████▉           | 112kB 5.4MB/s eta 0:00:01\r\u001b[K     |██████████████████████▊         | 122kB 5.4MB/s eta 0:00:01\r\u001b[K     |████████████████████████▊       | 133kB 5.4MB/s eta 0:00:01\r\u001b[K     |██████████████████████████▋     | 143kB 5.4MB/s eta 0:00:01\r\u001b[K     |████████████████████████████▌   | 153kB 5.4MB/s eta 0:00:01\r\u001b[K     |██████████████████████████████▍ | 163kB 5.4MB/s eta 0:00:01\r\u001b[K     |████████████████████████████████| 174kB 5.4MB/s \n",
            "\u001b[?25h"
          ],
          "name": "stdout"
        }
      ]
    },
    {
      "cell_type": "code",
      "metadata": {
        "id": "bYVjVQdZ35Fy",
        "outputId": "31d28ce9-5ee9-4887-b2f4-766ba31b8f80",
        "colab": {
          "base_uri": "https://localhost:8080/"
        }
      },
      "source": [
        "import tensorflow_model_optimization as tfmot\n",
        "\n",
        "quantize_model = tfmot.quantization.keras.quantize_model\n",
        "\n",
        "# q_aware stands for for quantization aware.\n",
        "q_aware_model = quantize_model(model)\n",
        "\n",
        "# `quantize_model` requires a recompile.\n",
        "q_aware_model.compile(optimizer='adam',\n",
        "              loss=tf.keras.losses.SparseCategoricalCrossentropy(from_logits=True),\n",
        "              metrics=['accuracy'])\n",
        "\n",
        "q_aware_model.summary()"
      ],
      "execution_count": 50,
      "outputs": [
        {
          "output_type": "stream",
          "text": [
            "Model: \"sequential_1\"\n",
            "_________________________________________________________________\n",
            "Layer (type)                 Output Shape              Param #   \n",
            "=================================================================\n",
            "quantize_layer_2 (QuantizeLa (None, 28, 28, 1)         3         \n",
            "_________________________________________________________________\n",
            "quant_conv2d_3 (QuantizeWrap (None, 28, 28, 64)        771       \n",
            "_________________________________________________________________\n",
            "quant_max_pooling2d_3 (Quant (None, 14, 14, 64)        1         \n",
            "_________________________________________________________________\n",
            "quant_conv2d_4 (QuantizeWrap (None, 14, 14, 96)        55491     \n",
            "_________________________________________________________________\n",
            "quant_max_pooling2d_4 (Quant (None, 7, 7, 96)          1         \n",
            "_________________________________________________________________\n",
            "quant_conv2d_5 (QuantizeWrap (None, 7, 7, 128)         110851    \n",
            "_________________________________________________________________\n",
            "quant_max_pooling2d_5 (Quant (None, 3, 3, 128)         1         \n",
            "_________________________________________________________________\n",
            "quant_flatten_1 (QuantizeWra (None, 1152)              1         \n",
            "_________________________________________________________________\n",
            "quant_dense_2 (QuantizeWrapp (None, 512)               589829    \n",
            "_________________________________________________________________\n",
            "quant_dropout_1 (QuantizeWra (None, 512)               1         \n",
            "_________________________________________________________________\n",
            "quant_dense_3 (QuantizeWrapp (None, 25)                12830     \n",
            "=================================================================\n",
            "Total params: 769,780\n",
            "Trainable params: 769,177\n",
            "Non-trainable params: 603\n",
            "_________________________________________________________________\n"
          ],
          "name": "stdout"
        }
      ]
    },
    {
      "cell_type": "code",
      "metadata": {
        "id": "TOTh5yVdF_vi",
        "outputId": "6f7f0402-120d-4012-8b9a-55200f237ed6",
        "colab": {
          "base_uri": "https://localhost:8080/"
        }
      },
      "source": [
        "train_images_subset = train_images[0:1000] # out of 60000\n",
        "train_labels_subset = train_labels[0:1000]\n",
        "\n",
        "histroy = q_aware_model.fit(train_images_subset, train_labels_subset,\n",
        "                  batch_size=500, epochs=10, validation_data=(test_images,test_labels))"
      ],
      "execution_count": 51,
      "outputs": [
        {
          "output_type": "stream",
          "text": [
            "Epoch 1/10\n",
            "2/2 [==============================] - 0s 189ms/step - loss: 2.9365 - accuracy: 0.4580 - val_loss: 2.8208 - val_accuracy: 0.5763\n",
            "Epoch 2/10\n",
            "2/2 [==============================] - 0s 94ms/step - loss: 2.8520 - accuracy: 0.5140 - val_loss: 2.7133 - val_accuracy: 0.6670\n",
            "Epoch 3/10\n",
            "2/2 [==============================] - 0s 94ms/step - loss: 2.7572 - accuracy: 0.6150 - val_loss: 2.6098 - val_accuracy: 0.7250\n",
            "Epoch 4/10\n",
            "2/2 [==============================] - 0s 95ms/step - loss: 2.6496 - accuracy: 0.7300 - val_loss: 2.5291 - val_accuracy: 0.7875\n",
            "Epoch 5/10\n",
            "2/2 [==============================] - 0s 93ms/step - loss: 2.5743 - accuracy: 0.7910 - val_loss: 2.4686 - val_accuracy: 0.8503\n",
            "Epoch 6/10\n",
            "2/2 [==============================] - 0s 93ms/step - loss: 2.5133 - accuracy: 0.8410 - val_loss: 2.4391 - val_accuracy: 0.8772\n",
            "Epoch 7/10\n",
            "2/2 [==============================] - 0s 92ms/step - loss: 2.4579 - accuracy: 0.8980 - val_loss: 2.4195 - val_accuracy: 0.9037\n",
            "Epoch 8/10\n",
            "2/2 [==============================] - 0s 95ms/step - loss: 2.4349 - accuracy: 0.9150 - val_loss: 2.4023 - val_accuracy: 0.9195\n",
            "Epoch 9/10\n",
            "2/2 [==============================] - 0s 93ms/step - loss: 2.4027 - accuracy: 0.9380 - val_loss: 2.3840 - val_accuracy: 0.9334\n",
            "Epoch 10/10\n",
            "2/2 [==============================] - 0s 96ms/step - loss: 2.4001 - accuracy: 0.9400 - val_loss: 2.3669 - val_accuracy: 0.9483\n"
          ],
          "name": "stdout"
        }
      ]
    },
    {
      "cell_type": "code",
      "metadata": {
        "id": "B2W6PG4uGV2R",
        "outputId": "9a6742e7-52e2-40b3-a320-6a35508ee77b",
        "colab": {
          "base_uri": "https://localhost:8080/",
          "height": 562
        }
      },
      "source": [
        "plt.plot(history.history['accuracy'], label='accuracy')\n",
        "plt.plot(history.history['val_accuracy'], label = 'val_accuracy')\n",
        "plt.xlabel('Epoch')\n",
        "plt.ylabel('Accuracy')\n",
        "plt.ylim([0.5, 1])\n",
        "plt.legend(loc='lower right')\n",
        "plt.show()\n",
        "\n",
        "plt.plot(history.history['loss'], label='loss')\n",
        "plt.plot(history.history['val_loss'], label = 'val_loss')\n",
        "plt.xlabel('Epoch')\n",
        "plt.ylabel('Loss')\n",
        "#plt.ylim([0.5, 1])\n",
        "plt.legend(loc='lower right')\n",
        "plt.show()\n",
        "\n",
        "test_loss, test_acc = q_aware_model.evaluate(test_images,  test_labels, verbose=2)"
      ],
      "execution_count": 52,
      "outputs": [
        {
          "output_type": "display_data",
          "data": {
            "image/png": "[encoded data removed]",
            "text/plain": [
              "<Figure size 432x288 with 1 Axes>"
            ]
          },
          "metadata": {
            "tags": [],
            "needs_background": "light"
          }
        },
        {
          "output_type": "display_data",
          "data": {
            "image/png": "[encoded data removed]",
            "text/plain": [
              "<Figure size 432x288 with 1 Axes>"
            ]
          },
          "metadata": {
            "tags": [],
            "needs_background": "light"
          }
        },
        {
          "output_type": "stream",
          "text": [
            "225/225 - 1s - loss: 2.3669 - accuracy: 0.9483\n"
          ],
          "name": "stdout"
        }
      ]
    },
    {
      "cell_type": "code",
      "metadata": {
        "id": "iqA-M96HGqWq",
        "outputId": "896074d8-4612-4360-ce94-b5542a9d0430",
        "colab": {
          "base_uri": "https://localhost:8080/"
        }
      },
      "source": [
        "_, model = model.evaluate(\n",
        "    test_images, test_labels, verbose=0)\n",
        "\n",
        "_, q_aware_model_accuracy = q_aware_model.evaluate(\n",
        "   test_images, test_labels, verbose=0)\n",
        "\n",
        "print('Baseline test accuracy:', model)\n",
        "print('Quant test accuracy:', q_aware_model_accuracy)"
      ],
      "execution_count": 53,
      "outputs": [
        {
          "output_type": "stream",
          "text": [
            "Baseline test accuracy: 0.9638873338699341\n",
            "Quant test accuracy: 0.9482710361480713\n"
          ],
          "name": "stdout"
        }
      ]
    },
    {
      "cell_type": "markdown",
      "metadata": {
        "id": "eVMMiQ83HzdG"
      },
      "source": [
        "## Qunatization Aware Model - to TFLite"
      ]
    },
    {
      "cell_type": "code",
      "metadata": {
        "id": "aLZFaqSbHu4M",
        "outputId": "d6371ee4-b043-48a9-e9c4-b5f3090743c8",
        "colab": {
          "base_uri": "https://localhost:8080/"
        }
      },
      "source": [
        "converter = tf.lite.TFLiteConverter.from_keras_model(q_aware_model)\n",
        "converter.optimizations = [tf.lite.Optimize.DEFAULT]\n",
        "\n",
        "quantized_tflite_model = converter.convert()"
      ],
      "execution_count": 54,
      "outputs": [
        {
          "output_type": "stream",
          "text": [
            "INFO:tensorflow:Assets written to: /tmp/tmp1_o94711/assets\n"
          ],
          "name": "stdout"
        },
        {
          "output_type": "stream",
          "text": [
            "INFO:tensorflow:Assets written to: /tmp/tmp1_o94711/assets\n"
          ],
          "name": "stderr"
        }
      ]
    },
    {
      "cell_type": "code",
      "metadata": {
        "id": "UrrlzwAaH7az",
        "outputId": "32d4053a-1963-4f71-9899-2ec6821e1dee",
        "colab": {
          "base_uri": "https://localhost:8080/"
        }
      },
      "source": [
        "converter = tf.lite.TFLiteConverter.from_keras_model(q_aware_model)\n",
        "converter.optimizations = [tf.lite.Optimize.DEFAULT]\n",
        "\n",
        "quantized_tflite_model = converter.convert()"
      ],
      "execution_count": 55,
      "outputs": [
        {
          "output_type": "stream",
          "text": [
            "INFO:tensorflow:Assets written to: /tmp/tmpnvfqbuoi/assets\n"
          ],
          "name": "stdout"
        },
        {
          "output_type": "stream",
          "text": [
            "INFO:tensorflow:Assets written to: /tmp/tmpnvfqbuoi/assets\n"
          ],
          "name": "stderr"
        }
      ]
    },
    {
      "cell_type": "code",
      "metadata": {
        "id": "Y0HseVimJl4h",
        "outputId": "4c6e05e7-fa1f-46da-8ea9-46a380683753",
        "colab": {
          "base_uri": "https://localhost:8080/"
        }
      },
      "source": [
        "interpreter = tf.lite.Interpreter(model_content=quantized_tflite_model)\n",
        "interpreter.allocate_tensors()\n",
        "\n",
        "test_accuracy = evaluate_model(interpreter)\n",
        "\n",
        "print('Quant aware TFLite test_accuracy:', test_accuracy)\n",
        "print('Quant aware TF test accuracy:', q_aware_model_accuracy)"
      ],
      "execution_count": 56,
      "outputs": [
        {
          "output_type": "stream",
          "text": [
            "Quant TFLite test_accuracy: 0.9484104852203011\n",
            "Quant TF test accuracy: 0.9482710361480713\n"
          ],
          "name": "stdout"
        }
      ]
    },
    {
      "cell_type": "code",
      "metadata": {
        "id": "YEL6QGhsKvDx"
      },
      "source": [
        ""
      ],
      "execution_count": null,
      "outputs": []
    }
  ]
}