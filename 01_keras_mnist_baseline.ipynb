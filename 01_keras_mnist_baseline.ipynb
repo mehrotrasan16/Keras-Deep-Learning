{
  "nbformat": 4,
  "nbformat_minor": 0,
  "metadata": {
    "colab": {
      "name": "01-keras-mnist-baseline.ipynb",
      "provenance": [],
      "collapsed_sections": [],
      "toc_visible": true,
      "include_colab_link": true
    },
    "kernelspec": {
      "display_name": "Python 3",
      "language": "python",
      "name": "python3"
    },
    "language_info": {
      "codemirror_mode": {
        "name": "ipython",
        "version": 3
      },
      "file_extension": ".py",
      "mimetype": "text/x-python",
      "name": "python",
      "nbconvert_exporter": "python",
      "pygments_lexer": "ipython3",
      "version": "3.7.6"
    },
    "toc": {
      "base_numbering": 1,
      "nav_menu": {},
      "number_sections": true,
      "sideBar": true,
      "skip_h1_title": false,
      "title_cell": "Table of Contents",
      "title_sidebar": "Contents",
      "toc_cell": true,
      "toc_position": {},
      "toc_section_display": true,
      "toc_window_display": true
    },
    "toc-autonumbering": true,
    "accelerator": "GPU"
  },
  "cells": [
    {
      "cell_type": "markdown",
      "metadata": {
        "id": "view-in-github",
        "colab_type": "text"
      },
      "source": [
        "<a href=\"https://colab.research.google.com/github/mehrotrasan16/Keras-Deep-Learning/blob/01-MNIST-CNN-99.29/01_keras_mnist_baseline.ipynb\" target=\"_parent\"><img src=\"https://colab.research.google.com/assets/colab-badge.svg\" alt=\"Open In Colab\"/></a>"
      ]
    },
    {
      "cell_type": "code",
      "metadata": {
        "colab_type": "code",
        "id": "opdFPDUIUwFr",
        "colab": {
          "base_uri": "https://localhost:8080/",
          "height": 35
        },
        "outputId": "3882c205-2e36-4d34-af60-a078a68b2e50"
      },
      "source": [
        "# TensorFlow and tf.keras\n",
        "import tensorflow as tf\n",
        "import numpy as np\n",
        "from tensorflow import keras\n",
        "\n",
        "#tf version should be 2.2 or higher\n",
        "tf.__version__"
      ],
      "execution_count": 1,
      "outputs": [
        {
          "output_type": "execute_result",
          "data": {
            "application/vnd.google.colaboratory.intrinsic+json": {
              "type": "string"
            },
            "text/plain": [
              "'2.3.0'"
            ]
          },
          "metadata": {
            "tags": []
          },
          "execution_count": 1
        }
      ]
    },
    {
      "cell_type": "code",
      "metadata": {
        "id": "VMXk6dmxjfar",
        "colab_type": "code",
        "colab": {
          "base_uri": "https://localhost:8080/",
          "height": 35
        },
        "outputId": "a9b0e460-40dd-4265-9cfb-03437764a473"
      },
      "source": [
        "keras.__version__"
      ],
      "execution_count": 2,
      "outputs": [
        {
          "output_type": "execute_result",
          "data": {
            "application/vnd.google.colaboratory.intrinsic+json": {
              "type": "string"
            },
            "text/plain": [
              "'2.4.0'"
            ]
          },
          "metadata": {
            "tags": []
          },
          "execution_count": 2
        }
      ]
    },
    {
      "cell_type": "code",
      "metadata": {
        "id": "kd6DN3oIjfat",
        "colab_type": "code",
        "colab": {
          "base_uri": "https://localhost:8080/",
          "height": 105
        },
        "outputId": "a99ccf26-f188-44d1-cb2c-4011ac55a77f"
      },
      "source": [
        "tf.test.is_gpu_available()"
      ],
      "execution_count": 3,
      "outputs": [
        {
          "output_type": "stream",
          "text": [
            "WARNING:tensorflow:From <ipython-input-3-17bb7203622b>:1: is_gpu_available (from tensorflow.python.framework.test_util) is deprecated and will be removed in a future version.\n",
            "Instructions for updating:\n",
            "Use `tf.config.list_physical_devices('GPU')` instead.\n"
          ],
          "name": "stdout"
        },
        {
          "output_type": "execute_result",
          "data": {
            "text/plain": [
              "True"
            ]
          },
          "metadata": {
            "tags": []
          },
          "execution_count": 3
        }
      ]
    },
    {
      "cell_type": "code",
      "metadata": {
        "id": "_NVsuimMjfav",
        "colab_type": "code",
        "colab": {
          "base_uri": "https://localhost:8080/",
          "height": 51
        },
        "outputId": "d9b5ca7b-35cf-43ca-bc87-b70a9bd1fcf1"
      },
      "source": [
        "#get data\n",
        "(train_images, train_labels), (test_images, test_labels) = \\\n",
        "      keras.datasets.mnist.load_data()"
      ],
      "execution_count": 4,
      "outputs": [
        {
          "output_type": "stream",
          "text": [
            "Downloading data from https://storage.googleapis.com/tensorflow/tf-keras-datasets/mnist.npz\n",
            "11493376/11490434 [==============================] - 0s 0us/step\n"
          ],
          "name": "stdout"
        }
      ]
    },
    {
      "cell_type": "code",
      "metadata": {
        "id": "Xai01xdOjfax",
        "colab_type": "code",
        "colab": {}
      },
      "source": [
        "#scale model\n",
        "train_images = train_images / 255.0\n",
        "test_images = test_images / 255.0"
      ],
      "execution_count": 5,
      "outputs": []
    },
    {
      "cell_type": "code",
      "metadata": {
        "id": "zZ3b2WMvjfaz",
        "colab_type": "code",
        "colab": {}
      },
      "source": [
        "#setup model\n",
        "model = keras.Sequential([\n",
        "    keras.layers.Flatten(input_shape=(28, 28)),\n",
        "    keras.layers.Dense(10, activation = tf.nn.softmax)\n",
        "])"
      ],
      "execution_count": 6,
      "outputs": []
    },
    {
      "cell_type": "code",
      "metadata": {
        "id": "O3snVFZ8jfa2",
        "colab_type": "code",
        "colab": {}
      },
      "source": [
        "#compile model\n",
        "model.compile(optimizer='sgd',\n",
        "          loss='sparse_categorical_crossentropy',\n",
        "          metrics=['accuracy'])"
      ],
      "execution_count": 7,
      "outputs": []
    },
    {
      "cell_type": "code",
      "metadata": {
        "id": "cKNNKGqojfa5",
        "colab_type": "code",
        "colab": {
          "base_uri": "https://localhost:8080/",
          "height": 204
        },
        "outputId": "b01a143f-b900-4466-bac3-78df5e564d01"
      },
      "source": [
        "#train model\n",
        "model.fit(train_images, train_labels, epochs=5)"
      ],
      "execution_count": 8,
      "outputs": [
        {
          "output_type": "stream",
          "text": [
            "Epoch 1/5\n",
            "1875/1875 [==============================] - 3s 2ms/step - loss: 0.7626 - accuracy: 0.8222\n",
            "Epoch 2/5\n",
            "1875/1875 [==============================] - 3s 2ms/step - loss: 0.4536 - accuracy: 0.8814\n",
            "Epoch 3/5\n",
            "1875/1875 [==============================] - 3s 2ms/step - loss: 0.4017 - accuracy: 0.8914\n",
            "Epoch 4/5\n",
            "1875/1875 [==============================] - 3s 2ms/step - loss: 0.3757 - accuracy: 0.8978\n",
            "Epoch 5/5\n",
            "1875/1875 [==============================] - 3s 2ms/step - loss: 0.3592 - accuracy: 0.9011\n"
          ],
          "name": "stdout"
        },
        {
          "output_type": "execute_result",
          "data": {
            "text/plain": [
              "<tensorflow.python.keras.callbacks.History at 0x7fc3fa6cfe10>"
            ]
          },
          "metadata": {
            "tags": []
          },
          "execution_count": 8
        }
      ]
    },
    {
      "cell_type": "code",
      "metadata": {
        "id": "NZ3drNzjjfa7",
        "colab_type": "code",
        "colab": {
          "base_uri": "https://localhost:8080/",
          "height": 68
        },
        "outputId": "7045acc4-0620-4e2e-8327-1f670d829877"
      },
      "source": [
        "#evaluate\n",
        "test_loss, test_acc = model.evaluate(test_images,  test_labels)\n",
        "print('\\nTest accuracy:', test_acc)"
      ],
      "execution_count": 9,
      "outputs": [
        {
          "output_type": "stream",
          "text": [
            "313/313 [==============================] - 1s 2ms/step - loss: 0.3353 - accuracy: 0.9095\n",
            "\n",
            "Test accuracy: 0.909500002861023\n"
          ],
          "name": "stdout"
        }
      ]
    },
    {
      "cell_type": "code",
      "metadata": {
        "id": "H0ZuLSXRjfa9",
        "colab_type": "code",
        "colab": {}
      },
      "source": [
        "# Predict on the first 5 test images.\n",
        "predictions = model.predict(test_images[:5])"
      ],
      "execution_count": 10,
      "outputs": []
    },
    {
      "cell_type": "code",
      "metadata": {
        "id": "1Pfq30bZjfa_",
        "colab_type": "code",
        "colab": {
          "base_uri": "https://localhost:8080/",
          "height": 289
        },
        "outputId": "e92b7757-313b-4b86-a4bc-a65fbd9912a8"
      },
      "source": [
        "#Raw predictions\n",
        "predictions.shape,predictions\n"
      ],
      "execution_count": 11,
      "outputs": [
        {
          "output_type": "execute_result",
          "data": {
            "text/plain": [
              "((5, 10),\n",
              " array([[2.51472258e-04, 1.31420995e-06, 2.04264055e-04, 2.50326633e-03,\n",
              "         4.28943786e-05, 8.97952705e-05, 3.56143642e-06, 9.93770659e-01,\n",
              "         1.84985984e-04, 2.94780103e-03],\n",
              "        [1.28500042e-02, 1.82364209e-04, 8.87212336e-01, 2.29414087e-02,\n",
              "         6.12397969e-07, 2.05710232e-02, 4.86901551e-02, 2.75987020e-07,\n",
              "         7.54873687e-03, 3.15013835e-06],\n",
              "        [2.62597809e-04, 9.38776672e-01, 1.78683288e-02, 1.15421573e-02,\n",
              "         9.73321672e-04, 2.69965711e-03, 5.66723850e-03, 5.75687690e-03,\n",
              "         1.34065133e-02, 3.04657267e-03],\n",
              "        [9.95994091e-01, 3.32653052e-08, 2.87498202e-04, 9.95635855e-05,\n",
              "         7.78090225e-07, 1.93194614e-03, 9.76627809e-04, 4.13868693e-04,\n",
              "         1.70248692e-04, 1.25428938e-04],\n",
              "        [1.51319406e-03, 5.42931739e-05, 1.43261785e-02, 8.50892568e-04,\n",
              "         8.77656400e-01, 1.49583165e-03, 7.44148670e-03, 1.41868470e-02,\n",
              "         1.18237818e-02, 7.06511363e-02]], dtype=float32))"
            ]
          },
          "metadata": {
            "tags": []
          },
          "execution_count": 11
        }
      ]
    },
    {
      "cell_type": "code",
      "metadata": {
        "id": "_fcrtMbVjfbB",
        "colab_type": "code",
        "colab": {
          "base_uri": "https://localhost:8080/",
          "height": 34
        },
        "outputId": "2f906a24-d352-4579-e4ac-faeccbb9db13"
      },
      "source": [
        "# Print our model's predictions\n",
        "print(np.argmax(predictions, axis=1))"
      ],
      "execution_count": 12,
      "outputs": [
        {
          "output_type": "stream",
          "text": [
            "[7 2 1 0 4]\n"
          ],
          "name": "stdout"
        }
      ]
    },
    {
      "cell_type": "code",
      "metadata": {
        "id": "66kgzDHRjfbE",
        "colab_type": "code",
        "colab": {
          "base_uri": "https://localhost:8080/",
          "height": 34
        },
        "outputId": "4209b9e6-c443-405d-816e-310fe21fc855"
      },
      "source": [
        "# Check our predictions against the ground truths\n",
        "print(test_labels[:5]) # [7, 2, 1, 0, 4]"
      ],
      "execution_count": 13,
      "outputs": [
        {
          "output_type": "stream",
          "text": [
            "[7 2 1 0 4]\n"
          ],
          "name": "stdout"
        }
      ]
    },
    {
      "cell_type": "markdown",
      "metadata": {
        "id": "wMkTU1iOjfc6",
        "colab_type": "text"
      },
      "source": [
        "## Fully Connected Layers : Comparison Table"
      ]
    },
    {
      "cell_type": "markdown",
      "metadata": {
        "id": "QWTkvn13jfc7",
        "colab_type": "text"
      },
      "source": [
        "| Approach | Accuracy(%) |\n",
        "|---|---|\n",
        "| Base Model | 90.78 |\n",
        "| Epoch inc to 15| 91.72 |\n",
        "| ADAM Optimizer | 92.65 |\n",
        "| 128 - Dense layer | 97.79 |\n",
        "| 2 128 - Dense layers | 97.87   |\n",
        "| Best of learning rate loop: 0.003 | 97.44  |\n",
        "| with Learning Rate Decay | 97.86  |\n",
        "| with Dropout layers | 97.86  |"
      ]
    },
    {
      "cell_type": "markdown",
      "metadata": {
        "id": "gMDN8nUjjfc7",
        "colab_type": "text"
      },
      "source": [
        "**Conclusion**:\n",
        "With Fully Connected DNNs, we seem to hit a cap of 97.86 no matter what we do. To get this to 99.3% we must incolve Conv2D , CNNs with Dropout layers. "
      ]
    },
    {
      "cell_type": "markdown",
      "metadata": {
        "id": "IyeoGhoTjfc7",
        "colab_type": "text"
      },
      "source": [
        "# Convolutional Neural Networks "
      ]
    },
    {
      "cell_type": "code",
      "metadata": {
        "id": "fd0TGq_ejfc8",
        "colab_type": "code",
        "colab": {}
      },
      "source": [
        "train_images = train_images.reshape(train_images.shape[0],28,28,1)\n",
        "test_images = test_images.reshape(test_images.shape[0],28,28,1)"
      ],
      "execution_count": 14,
      "outputs": []
    },
    {
      "cell_type": "code",
      "metadata": {
        "id": "HE7gNSmNjfc9",
        "colab_type": "code",
        "colab": {}
      },
      "source": [
        "import math\n",
        "def lr_decay(epoch):\n",
        "    return 0.01 * math.pow(0.6,epoch)\n",
        "\n",
        "lr_decay_callback = keras.callbacks.LearningRateScheduler(lr_decay,verbose=True)"
      ],
      "execution_count": 15,
      "outputs": []
    },
    {
      "cell_type": "code",
      "metadata": {
        "colab_type": "code",
        "id": "EcUX6DYgvXKR",
        "colab": {}
      },
      "source": [
        "#setup model\n",
        "cnnmodel4 = keras.Sequential([\n",
        "    keras.layers.Conv2D(kernel_size=3,filters=12,use_bias=False,padding='same'),\n",
        "    keras.layers.BatchNormalization(center=True,scale=False),\n",
        "    keras.layers.Activation('relu'),\n",
        "\n",
        "    keras.layers.Conv2D(kernel_size=6,filters=24,use_bias=False,padding='same',strides=2),\n",
        "    keras.layers.BatchNormalization(center=True,scale=False),\n",
        "    keras.layers.Activation('relu'),\n",
        "    \n",
        "    keras.layers.Conv2D(kernel_size=6,filters=32,use_bias=False,padding='same',strides=2),\n",
        "    keras.layers.BatchNormalization(center=True,scale=False),\n",
        "    keras.layers.Activation('relu'),\n",
        "    \n",
        "    keras.layers.Flatten(),\n",
        "    \n",
        "    keras.layers.Dense(128),\n",
        "    keras.layers.BatchNormalization(center=True,scale=False),\n",
        "    keras.layers.Activation('relu'),\n",
        "    keras.layers.Dropout(0.4),\n",
        "\n",
        "    keras.layers.Dense(200),\n",
        "    keras.layers.BatchNormalization(center=True,scale=False),\n",
        "    keras.layers.Activation('relu'),\n",
        "    keras.layers.Dropout(0.4),\n",
        "    \n",
        "    keras.layers.Dense(10, activation = tf.nn.softmax)    \n",
        "])"
      ],
      "execution_count": 40,
      "outputs": []
    },
    {
      "cell_type": "code",
      "metadata": {
        "colab_type": "code",
        "id": "Z-et_TdevXKd",
        "colab": {}
      },
      "source": [
        "#compile model\n",
        "cnnmodel4.compile(optimizer='adam',\n",
        "          loss='sparse_categorical_crossentropy',\n",
        "          metrics=['accuracy'])"
      ],
      "execution_count": 41,
      "outputs": []
    },
    {
      "cell_type": "code",
      "metadata": {
        "colab_type": "code",
        "id": "bYsyt7sMvXKj",
        "colab": {
          "base_uri": "https://localhost:8080/",
          "height": 374
        },
        "outputId": "8148e846-de72-4a28-9778-171dbadcc8eb"
      },
      "source": [
        "#train model\n",
        "cnnmodel4.fit(train_images, train_labels, epochs=10)"
      ],
      "execution_count": 42,
      "outputs": [
        {
          "output_type": "stream",
          "text": [
            "Epoch 1/10\n",
            "1875/1875 [==============================] - 7s 4ms/step - loss: 0.2127 - accuracy: 0.9358\n",
            "Epoch 2/10\n",
            "1875/1875 [==============================] - 7s 4ms/step - loss: 0.0844 - accuracy: 0.9750\n",
            "Epoch 3/10\n",
            "1875/1875 [==============================] - 7s 4ms/step - loss: 0.0654 - accuracy: 0.9805\n",
            "Epoch 4/10\n",
            "1875/1875 [==============================] - 7s 4ms/step - loss: 0.0546 - accuracy: 0.9842\n",
            "Epoch 5/10\n",
            "1875/1875 [==============================] - 7s 3ms/step - loss: 0.0454 - accuracy: 0.9867\n",
            "Epoch 6/10\n",
            "1875/1875 [==============================] - 7s 4ms/step - loss: 0.0412 - accuracy: 0.9878\n",
            "Epoch 7/10\n",
            "1875/1875 [==============================] - 7s 4ms/step - loss: 0.0350 - accuracy: 0.9893\n",
            "Epoch 8/10\n",
            "1875/1875 [==============================] - 7s 4ms/step - loss: 0.0337 - accuracy: 0.9897\n",
            "Epoch 9/10\n",
            "1875/1875 [==============================] - 7s 4ms/step - loss: 0.0266 - accuracy: 0.9916\n",
            "Epoch 10/10\n",
            "1875/1875 [==============================] - 7s 4ms/step - loss: 0.0249 - accuracy: 0.9919\n"
          ],
          "name": "stdout"
        },
        {
          "output_type": "execute_result",
          "data": {
            "text/plain": [
              "<tensorflow.python.keras.callbacks.History at 0x7fc3f2779dd8>"
            ]
          },
          "metadata": {
            "tags": []
          },
          "execution_count": 42
        }
      ]
    },
    {
      "cell_type": "code",
      "metadata": {
        "colab_type": "code",
        "id": "AQfPnv0_vXKq",
        "colab": {
          "base_uri": "https://localhost:8080/",
          "height": 68
        },
        "outputId": "53eafe4a-4194-4891-f89b-73bae23d2526"
      },
      "source": [
        "#evaluate\n",
        "test_loss, test_acc = cnnmodel4.evaluate(test_images,  test_labels)\n",
        "print('\\nTest accuracy:', test_acc)"
      ],
      "execution_count": 43,
      "outputs": [
        {
          "output_type": "stream",
          "text": [
            "313/313 [==============================] - 1s 2ms/step - loss: 0.0190 - accuracy: 0.9942\n",
            "\n",
            "Test accuracy: 0.9941999912261963\n"
          ],
          "name": "stdout"
        }
      ]
    },
    {
      "cell_type": "code",
      "metadata": {
        "colab_type": "code",
        "id": "f5F4O0ZGvXKu",
        "colab": {
          "base_uri": "https://localhost:8080/",
          "height": 54
        },
        "outputId": "60b4be43-9d68-4feb-b50f-1301ed6c1dc6"
      },
      "source": [
        "# Predict on the first 5 test images.\n",
        "predictions = cnnmodel4.predict(test_images[:5])"
      ],
      "execution_count": 44,
      "outputs": [
        {
          "output_type": "stream",
          "text": [
            "WARNING:tensorflow:5 out of the last 5 calls to <function Model.make_predict_function.<locals>.predict_function at 0x7fc3f25f58c8> triggered tf.function retracing. Tracing is expensive and the excessive number of tracings could be due to (1) creating @tf.function repeatedly in a loop, (2) passing tensors with different shapes, (3) passing Python objects instead of tensors. For (1), please define your @tf.function outside of the loop. For (2), @tf.function has experimental_relax_shapes=True option that relaxes argument shapes that can avoid unnecessary retracing. For (3), please refer to https://www.tensorflow.org/tutorials/customization/performance#python_or_tensor_args and https://www.tensorflow.org/api_docs/python/tf/function for  more details.\n"
          ],
          "name": "stdout"
        }
      ]
    },
    {
      "cell_type": "code",
      "metadata": {
        "colab_type": "code",
        "id": "TVv9nvVMvXKw",
        "colab": {
          "base_uri": "https://localhost:8080/",
          "height": 272
        },
        "outputId": "a18673e9-9b53-40a6-e259-515135b57ac0"
      },
      "source": [
        "#Raw predictions\n",
        "predictions"
      ],
      "execution_count": 45,
      "outputs": [
        {
          "output_type": "execute_result",
          "data": {
            "text/plain": [
              "array([[1.5782616e-09, 6.9415016e-08, 7.5213883e-08, 1.0835117e-07,\n",
              "        1.7923166e-07, 6.9192410e-08, 1.9628452e-09, 9.9999928e-01,\n",
              "        7.4512215e-08, 1.8919951e-07],\n",
              "       [5.1273860e-11, 1.3580883e-11, 1.0000000e+00, 9.0957797e-13,\n",
              "        1.6672678e-12, 1.7733803e-15, 1.4581414e-08, 8.7692418e-13,\n",
              "        3.6139234e-11, 7.7182022e-14],\n",
              "       [1.7695918e-08, 9.9999988e-01, 3.1735853e-10, 6.6930661e-10,\n",
              "        9.5216821e-09, 2.5613005e-08, 1.1514817e-09, 9.4620702e-08,\n",
              "        4.3913921e-08, 6.0226624e-09],\n",
              "       [9.9999893e-01, 5.3397664e-10, 2.3388271e-09, 1.3756958e-10,\n",
              "        1.0352182e-10, 2.0101329e-08, 9.9053659e-07, 1.3869458e-10,\n",
              "        9.3291625e-08, 9.8224060e-09],\n",
              "       [2.8228433e-09, 3.3895513e-09, 1.7659983e-09, 4.5588195e-12,\n",
              "        9.9999523e-01, 1.6908334e-08, 1.6821964e-08, 4.8614748e-11,\n",
              "        4.0396532e-08, 4.6738646e-06]], dtype=float32)"
            ]
          },
          "metadata": {
            "tags": []
          },
          "execution_count": 45
        }
      ]
    },
    {
      "cell_type": "code",
      "metadata": {
        "colab_type": "code",
        "id": "qjCBstoQvXKz",
        "colab": {
          "base_uri": "https://localhost:8080/",
          "height": 34
        },
        "outputId": "826705e3-f678-4adc-b3a7-07b97dc329d0"
      },
      "source": [
        "# Print our model's predictions\n",
        "print(np.argmax(predictions, axis=1))"
      ],
      "execution_count": 46,
      "outputs": [
        {
          "output_type": "stream",
          "text": [
            "[7 2 1 0 4]\n"
          ],
          "name": "stdout"
        }
      ]
    },
    {
      "cell_type": "code",
      "metadata": {
        "colab_type": "code",
        "id": "bMyIkT8evXK2",
        "colab": {
          "base_uri": "https://localhost:8080/",
          "height": 34
        },
        "outputId": "7c5b4362-aea6-4199-f5b1-92049e3b5297"
      },
      "source": [
        "# Check our predictions against the ground truths\n",
        "print(test_labels[:5]) # [7, 2, 1, 0, 4]"
      ],
      "execution_count": 47,
      "outputs": [
        {
          "output_type": "stream",
          "text": [
            "[7 2 1 0 4]\n"
          ],
          "name": "stdout"
        }
      ]
    },
    {
      "cell_type": "code",
      "metadata": {
        "id": "7Keox2IM1CNw",
        "colab_type": "code",
        "colab": {}
      },
      "source": [
        ""
      ],
      "execution_count": 47,
      "outputs": []
    },
    {
      "cell_type": "markdown",
      "metadata": {
        "id": "dKGxEp7Z52bm",
        "colab_type": "text"
      },
      "source": [
        "# Comparison Table\n"
      ]
    },
    {
      "cell_type": "markdown",
      "metadata": {
        "colab_type": "text",
        "id": "OEqpiGKd564Z"
      },
      "source": [
        "| Approach | Accuracy(%) |\n",
        "|---|---|\n",
        "| Base 3x Conv2D | 98.79 |\n",
        "| 3 x conv with Max Pool and lr Decay | 98.48 |\n",
        "| Extra Dense layer with Dropout | 98.94 |\n",
        "| 3x Conv, 2xDense, with Dropout & BatchNorm | 99.41|"
      ]
    },
    {
      "cell_type": "markdown",
      "metadata": {
        "colab_type": "text",
        "id": "8uU_2T6s564Z"
      },
      "source": [
        "**Conclusion**:\n",
        "Batch Norm made an enourmous difference, allowing us to reach the required accuracy."
      ]
    },
    {
      "cell_type": "code",
      "metadata": {
        "id": "doH-X17D54SJ",
        "colab_type": "code",
        "colab": {}
      },
      "source": [
        ""
      ],
      "execution_count": 47,
      "outputs": []
    }
  ]
}