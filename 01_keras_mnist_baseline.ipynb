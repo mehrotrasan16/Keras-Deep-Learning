{
  "nbformat": 4,
  "nbformat_minor": 0,
  "metadata": {
    "colab": {
      "name": "01-keras-mnist-baseline.ipynb",
      "provenance": [],
      "collapsed_sections": [
        "wxIuP-l2jfbG",
        "DZll-BQXjfbY",
        "F9nhkipRjfbq",
        "CdNblo5Vjfb9",
        "QOVRR6lijfcN",
        "BYjmSZIdjfcb",
        "Mp5txB03jfco"
      ],
      "toc_visible": true,
      "include_colab_link": true
    },
    "kernelspec": {
      "display_name": "Python 3",
      "language": "python",
      "name": "python3"
    },
    "language_info": {
      "codemirror_mode": {
        "name": "ipython",
        "version": 3
      },
      "file_extension": ".py",
      "mimetype": "text/x-python",
      "name": "python",
      "nbconvert_exporter": "python",
      "pygments_lexer": "ipython3",
      "version": "3.7.6"
    },
    "toc": {
      "base_numbering": 1,
      "nav_menu": {},
      "number_sections": true,
      "sideBar": true,
      "skip_h1_title": false,
      "title_cell": "Table of Contents",
      "title_sidebar": "Contents",
      "toc_cell": true,
      "toc_position": {},
      "toc_section_display": true,
      "toc_window_display": true
    },
    "toc-autonumbering": true,
    "accelerator": "GPU"
  },
  "cells": [
    {
      "cell_type": "markdown",
      "metadata": {
        "id": "view-in-github",
        "colab_type": "text"
      },
      "source": [
        "<a href=\"https://colab.research.google.com/github/mehrotrasan16/Keras-Deep-Learning/blob/master/01_keras_mnist_baseline.ipynb\" target=\"_parent\"><img src=\"https://colab.research.google.com/assets/colab-badge.svg\" alt=\"Open In Colab\"/></a>"
      ]
    },
    {
      "cell_type": "markdown",
      "metadata": {
        "toc": true,
        "id": "X8r1fiR4jfam",
        "colab_type": "text"
      },
      "source": [
        "<h1>Table of Contents<span class=\"tocSkip\"></span></h1>\n",
        "<div class=\"toc\"><ul class=\"toc-item\"><li><span><a href=\"#Things-to-try-out:\" data-toc-modified-id=\"Things-to-try-out:-1\"><span class=\"toc-item-num\">1&nbsp;&nbsp;</span>Things to try out:</a></span></li><li><span><a href=\"#Model-#1-:-Number-of-Neurons\" data-toc-modified-id=\"Model-#1-:-Number-of-Neurons-2\"><span class=\"toc-item-num\">2&nbsp;&nbsp;</span>Model #1 : Number of Neurons</a></span></li><li><span><a href=\"#Model-#2:-Optimizer\" data-toc-modified-id=\"Model-#2:-Optimizer-3\"><span class=\"toc-item-num\">3&nbsp;&nbsp;</span>Model #2: Optimizer</a></span></li><li><span><a href=\"#Model-#3:-Adding-another-layer\" data-toc-modified-id=\"Model-#3:-Adding-another-layer-4\"><span class=\"toc-item-num\">4&nbsp;&nbsp;</span>Model #3: Adding another layer</a></span></li><li><span><a href=\"#Comparison-Table\" data-toc-modified-id=\"Comparison-Table-5\"><span class=\"toc-item-num\">5&nbsp;&nbsp;</span>Comparison Table</a></span></li></ul></div>"
      ]
    },
    {
      "cell_type": "code",
      "metadata": {
        "colab_type": "code",
        "id": "opdFPDUIUwFr",
        "colab": {
          "base_uri": "https://localhost:8080/",
          "height": 35
        },
        "outputId": "14aa231e-e9ad-4512-a996-40bdd0c0404c"
      },
      "source": [
        "# TensorFlow and tf.keras\n",
        "import tensorflow as tf\n",
        "import numpy as np\n",
        "from tensorflow import keras\n",
        "\n",
        "#tf version should be 2.2 or higher\n",
        "tf.__version__"
      ],
      "execution_count": 6,
      "outputs": [
        {
          "output_type": "execute_result",
          "data": {
            "application/vnd.google.colaboratory.intrinsic+json": {
              "type": "string"
            },
            "text/plain": [
              "'2.3.0'"
            ]
          },
          "metadata": {
            "tags": []
          },
          "execution_count": 6
        }
      ]
    },
    {
      "cell_type": "code",
      "metadata": {
        "id": "VMXk6dmxjfar",
        "colab_type": "code",
        "colab": {
          "base_uri": "https://localhost:8080/",
          "height": 35
        },
        "outputId": "104237ed-9ce3-492c-f4c8-a8544ff195c0"
      },
      "source": [
        "keras.__version__"
      ],
      "execution_count": 7,
      "outputs": [
        {
          "output_type": "execute_result",
          "data": {
            "application/vnd.google.colaboratory.intrinsic+json": {
              "type": "string"
            },
            "text/plain": [
              "'2.4.0'"
            ]
          },
          "metadata": {
            "tags": []
          },
          "execution_count": 7
        }
      ]
    },
    {
      "cell_type": "code",
      "metadata": {
        "id": "kd6DN3oIjfat",
        "colab_type": "code",
        "colab": {
          "base_uri": "https://localhost:8080/",
          "height": 85
        },
        "outputId": "0afdb705-12f4-4646-8bc1-83d93df30abd"
      },
      "source": [
        "tf.test.is_gpu_available()"
      ],
      "execution_count": 8,
      "outputs": [
        {
          "output_type": "stream",
          "text": [
            "WARNING:tensorflow:From <ipython-input-8-17bb7203622b>:1: is_gpu_available (from tensorflow.python.framework.test_util) is deprecated and will be removed in a future version.\n",
            "Instructions for updating:\n",
            "Use `tf.config.list_physical_devices('GPU')` instead.\n"
          ],
          "name": "stdout"
        },
        {
          "output_type": "execute_result",
          "data": {
            "text/plain": [
              "True"
            ]
          },
          "metadata": {
            "tags": []
          },
          "execution_count": 8
        }
      ]
    },
    {
      "cell_type": "code",
      "metadata": {
        "id": "_NVsuimMjfav",
        "colab_type": "code",
        "colab": {
          "base_uri": "https://localhost:8080/",
          "height": 51
        },
        "outputId": "5a9f2232-892b-4dfe-f26d-f2dec08f4c10"
      },
      "source": [
        "#get data\n",
        "(train_images, train_labels), (test_images, test_labels) = \\\n",
        "      keras.datasets.mnist.load_data()"
      ],
      "execution_count": 9,
      "outputs": [
        {
          "output_type": "stream",
          "text": [
            "Downloading data from https://storage.googleapis.com/tensorflow/tf-keras-datasets/mnist.npz\n",
            "11493376/11490434 [==============================] - 0s 0us/step\n"
          ],
          "name": "stdout"
        }
      ]
    },
    {
      "cell_type": "code",
      "metadata": {
        "id": "Xai01xdOjfax",
        "colab_type": "code",
        "colab": {}
      },
      "source": [
        "#scale model\n",
        "train_images = train_images / 255.0\n",
        "test_images = test_images / 255.0"
      ],
      "execution_count": 10,
      "outputs": []
    },
    {
      "cell_type": "code",
      "metadata": {
        "id": "zZ3b2WMvjfaz",
        "colab_type": "code",
        "colab": {}
      },
      "source": [
        "#setup model\n",
        "model = keras.Sequential([\n",
        "    keras.layers.Flatten(input_shape=(28, 28)),\n",
        "    keras.layers.Dense(10, activation = tf.nn.softmax)\n",
        "])"
      ],
      "execution_count": null,
      "outputs": []
    },
    {
      "cell_type": "code",
      "metadata": {
        "id": "O3snVFZ8jfa2",
        "colab_type": "code",
        "colab": {}
      },
      "source": [
        "#compile model\n",
        "model.compile(optimizer='sgd',\n",
        "          loss='sparse_categorical_crossentropy',\n",
        "          metrics=['accuracy'])"
      ],
      "execution_count": null,
      "outputs": []
    },
    {
      "cell_type": "code",
      "metadata": {
        "id": "cKNNKGqojfa5",
        "colab_type": "code",
        "colab": {
          "base_uri": "https://localhost:8080/",
          "height": 202
        },
        "outputId": "39aabb1f-a896-4b51-f307-e0b114317618"
      },
      "source": [
        "#train model\n",
        "model.fit(train_images, train_labels, epochs=5)"
      ],
      "execution_count": null,
      "outputs": [
        {
          "output_type": "stream",
          "text": [
            "Epoch 1/5\n",
            "1875/1875 [==============================] - 3s 1ms/step - loss: 0.7851 - accuracy: 0.8116\n",
            "Epoch 2/5\n",
            "1875/1875 [==============================] - 2s 1ms/step - loss: 0.4578 - accuracy: 0.8802\n",
            "Epoch 3/5\n",
            "1875/1875 [==============================] - 2s 1ms/step - loss: 0.4040 - accuracy: 0.8910\n",
            "Epoch 4/5\n",
            "1875/1875 [==============================] - 2s 1ms/step - loss: 0.3771 - accuracy: 0.8970\n",
            "Epoch 5/5\n",
            "1875/1875 [==============================] - 2s 1ms/step - loss: 0.3602 - accuracy: 0.9006\n"
          ],
          "name": "stdout"
        },
        {
          "output_type": "execute_result",
          "data": {
            "text/plain": [
              "<tensorflow.python.keras.callbacks.History at 0x7fc37d93dac8>"
            ]
          },
          "metadata": {
            "tags": []
          },
          "execution_count": 9
        }
      ]
    },
    {
      "cell_type": "code",
      "metadata": {
        "id": "NZ3drNzjjfa7",
        "colab_type": "code",
        "colab": {
          "base_uri": "https://localhost:8080/",
          "height": 67
        },
        "outputId": "db7fab1d-8f7b-48eb-8f37-326d8569f7ac"
      },
      "source": [
        "#evaluate\n",
        "test_loss, test_acc = model.evaluate(test_images,  test_labels)\n",
        "print('\\nTest accuracy:', test_acc)"
      ],
      "execution_count": null,
      "outputs": [
        {
          "output_type": "stream",
          "text": [
            "313/313 [==============================] - 0s 967us/step - loss: 0.3359 - accuracy: 0.9079\n",
            "\n",
            "Test accuracy: 0.9078999757766724\n"
          ],
          "name": "stdout"
        }
      ]
    },
    {
      "cell_type": "code",
      "metadata": {
        "id": "H0ZuLSXRjfa9",
        "colab_type": "code",
        "colab": {}
      },
      "source": [
        "# Predict on the first 5 test images.\n",
        "predictions = model.predict(test_images[:5])"
      ],
      "execution_count": null,
      "outputs": []
    },
    {
      "cell_type": "code",
      "metadata": {
        "id": "1Pfq30bZjfa_",
        "colab_type": "code",
        "colab": {
          "base_uri": "https://localhost:8080/",
          "height": 286
        },
        "outputId": "f80d031e-e3c7-46aa-a376-8cedd61278ab"
      },
      "source": [
        "#Raw predictions\n",
        "predictions.shape,predictions\n"
      ],
      "execution_count": null,
      "outputs": [
        {
          "output_type": "execute_result",
          "data": {
            "text/plain": [
              "((5, 10),\n",
              " array([[2.21342721e-04, 1.09743360e-06, 1.71652689e-04, 2.24272953e-03,\n",
              "         4.42058081e-05, 1.10166693e-04, 2.70977330e-06, 9.93551016e-01,\n",
              "         2.19001129e-04, 3.43613280e-03],\n",
              "        [1.58161353e-02, 3.36178142e-04, 8.30395758e-01, 3.23872976e-02,\n",
              "         1.15933904e-06, 2.55346242e-02, 8.19568485e-02, 4.08923142e-07,\n",
              "         1.35638425e-02, 7.79689981e-06],\n",
              "        [2.75393977e-04, 9.52982366e-01, 1.50614483e-02, 6.84671942e-03,\n",
              "         8.62881890e-04, 2.08819425e-03, 4.37100045e-03, 5.17000630e-03,\n",
              "         1.08089820e-02, 1.53307989e-03],\n",
              "        [9.96784687e-01, 1.88348590e-08, 2.67934112e-04, 6.91862369e-05,\n",
              "         7.07319032e-07, 1.30594219e-03, 1.04554673e-03, 2.86947645e-04,\n",
              "         1.58192124e-04, 8.07901597e-05],\n",
              "        [2.44874647e-03, 4.88645674e-05, 1.10137910e-02, 9.68728971e-04,\n",
              "         8.74821544e-01, 1.58484804e-03, 7.43442960e-03, 1.95053741e-02,\n",
              "         1.61125790e-02, 6.60610721e-02]], dtype=float32))"
            ]
          },
          "metadata": {
            "tags": []
          },
          "execution_count": 12
        }
      ]
    },
    {
      "cell_type": "code",
      "metadata": {
        "id": "_fcrtMbVjfbB",
        "colab_type": "code",
        "colab": {
          "base_uri": "https://localhost:8080/",
          "height": 34
        },
        "outputId": "a9215cb3-85c1-430e-e8b5-7cb0bf17dca0"
      },
      "source": [
        "# Print our model's predictions\n",
        "print(np.argmax(predictions, axis=1))"
      ],
      "execution_count": null,
      "outputs": [
        {
          "output_type": "stream",
          "text": [
            "[7 2 1 0 4]\n"
          ],
          "name": "stdout"
        }
      ]
    },
    {
      "cell_type": "code",
      "metadata": {
        "id": "66kgzDHRjfbE",
        "colab_type": "code",
        "colab": {
          "base_uri": "https://localhost:8080/",
          "height": 34
        },
        "outputId": "f487f10d-852f-4615-b530-182ebe653f95"
      },
      "source": [
        "# Check our predictions against the ground truths\n",
        "print(test_labels[:5]) # [7, 2, 1, 0, 4]"
      ],
      "execution_count": null,
      "outputs": [
        {
          "output_type": "stream",
          "text": [
            "[7 2 1 0 4]\n"
          ],
          "name": "stdout"
        }
      ]
    },
    {
      "cell_type": "markdown",
      "metadata": {
        "id": "zI3Styw8jfbF",
        "colab_type": "text"
      },
      "source": [
        "# Fully Connected Layers(DNNs)\n",
        "## Things to try out:\n",
        "1. Number of Epochs\n",
        "2. Optimizers\n",
        "3. Number of Layers\n",
        "4. Number of Neurons in each layer\n",
        "5. Minibatch optimization"
      ]
    },
    {
      "cell_type": "markdown",
      "metadata": {
        "id": "wxIuP-l2jfbG",
        "colab_type": "text"
      },
      "source": [
        "## Model #1 : Number of Neurons"
      ]
    },
    {
      "cell_type": "markdown",
      "metadata": {
        "id": "RzrgC3X8jfbG",
        "colab_type": "text"
      },
      "source": [
        "**Experiment:** Increased number of epoch to 15.\n",
        "\n",
        "**Result:** Accuracy increased from 90.78 to 91.72"
      ]
    },
    {
      "cell_type": "code",
      "metadata": {
        "id": "-iFYWA1ijfbG",
        "colab_type": "code",
        "colab": {}
      },
      "source": [
        "#setup model\n",
        "model1 = keras.Sequential([\n",
        "    keras.layers.Flatten(input_shape=(28, 28)),\n",
        "    keras.layers.Dense(10, activation = tf.nn.softmax)\n",
        "])"
      ],
      "execution_count": null,
      "outputs": []
    },
    {
      "cell_type": "code",
      "metadata": {
        "id": "Ttp2d7ZcjfbI",
        "colab_type": "code",
        "colab": {}
      },
      "source": [
        "#compile model\n",
        "model1.compile(optimizer='sgd',\n",
        "          loss='sparse_categorical_crossentropy',\n",
        "          metrics=['accuracy'])"
      ],
      "execution_count": null,
      "outputs": []
    },
    {
      "cell_type": "code",
      "metadata": {
        "id": "Xl6y7vAmjfbL",
        "colab_type": "code",
        "colab": {},
        "outputId": "95829968-4ade-4817-9b6a-9cdc194643ba"
      },
      "source": [
        "#train model\n",
        "history = model1.fit(train_images, train_labels, epochs=15)"
      ],
      "execution_count": null,
      "outputs": [
        {
          "output_type": "stream",
          "text": [
            "Epoch 1/15\n",
            "1875/1875 [==============================] - 2s 1ms/step - loss: 0.7745 - accuracy: 0.8200\n",
            "Epoch 2/15\n",
            "1875/1875 [==============================] - 2s 1ms/step - loss: 0.4553 - accuracy: 0.8814\n",
            "Epoch 3/15\n",
            "1875/1875 [==============================] - 2s 992us/step - loss: 0.4029 - accuracy: 0.8918\n",
            "Epoch 4/15\n",
            "1875/1875 [==============================] - 2s 1ms/step - loss: 0.3768 - accuracy: 0.8974\n",
            "Epoch 5/15\n",
            "1875/1875 [==============================] - 2s 1ms/step - loss: 0.3601 - accuracy: 0.9013\n",
            "Epoch 6/15\n",
            "1875/1875 [==============================] - 2s 991us/step - loss: 0.3483 - accuracy: 0.9037\n",
            "Epoch 7/15\n",
            "1875/1875 [==============================] - 2s 1ms/step - loss: 0.3393 - accuracy: 0.9057\n",
            "Epoch 8/15\n",
            "1875/1875 [==============================] - 2s 1ms/step - loss: 0.3322 - accuracy: 0.9074\n",
            "Epoch 9/15\n",
            "1875/1875 [==============================] - 2s 1ms/step - loss: 0.3263 - accuracy: 0.9090\n",
            "Epoch 10/15\n",
            "1875/1875 [==============================] - 2s 1ms/step - loss: 0.3213 - accuracy: 0.9106\n",
            "Epoch 11/15\n",
            "1875/1875 [==============================] - 2s 994us/step - loss: 0.3172 - accuracy: 0.9115\n",
            "Epoch 12/15\n",
            "1875/1875 [==============================] - 2s 1ms/step - loss: 0.3136 - accuracy: 0.9132\n",
            "Epoch 13/15\n",
            "1875/1875 [==============================] - 2s 1ms/step - loss: 0.3103 - accuracy: 0.9140\n",
            "Epoch 14/15\n",
            "1875/1875 [==============================] - 2s 1ms/step - loss: 0.3075 - accuracy: 0.9151\n",
            "Epoch 15/15\n",
            "1875/1875 [==============================] - 2s 1ms/step - loss: 0.3048 - accuracy: 0.9153\n"
          ],
          "name": "stdout"
        }
      ]
    },
    {
      "cell_type": "code",
      "metadata": {
        "id": "W5rG9hbOjfbN",
        "colab_type": "code",
        "colab": {},
        "outputId": "273fd8c5-37b8-435b-eac9-dba5357600a7"
      },
      "source": [
        "#dir(history)\n",
        "history.history"
      ],
      "execution_count": null,
      "outputs": [
        {
          "output_type": "execute_result",
          "data": {
            "text/plain": [
              "{'loss': [0.7744966745376587,\n",
              "  0.4553094506263733,\n",
              "  0.402904748916626,\n",
              "  0.37675154209136963,\n",
              "  0.360068142414093,\n",
              "  0.3482522666454315,\n",
              "  0.33931803703308105,\n",
              "  0.33216139674186707,\n",
              "  0.3263208866119385,\n",
              "  0.321297824382782,\n",
              "  0.31721925735473633,\n",
              "  0.31356653571128845,\n",
              "  0.3103366494178772,\n",
              "  0.3074551820755005,\n",
              "  0.30484145879745483],\n",
              " 'accuracy': [0.8199833035469055,\n",
              "  0.8814333081245422,\n",
              "  0.8918499946594238,\n",
              "  0.8973833322525024,\n",
              "  0.9013166427612305,\n",
              "  0.9036833047866821,\n",
              "  0.9057499766349792,\n",
              "  0.9074000120162964,\n",
              "  0.9089999794960022,\n",
              "  0.9106000065803528,\n",
              "  0.9115166664123535,\n",
              "  0.9131500124931335,\n",
              "  0.9140166640281677,\n",
              "  0.915066659450531,\n",
              "  0.915316641330719]}"
            ]
          },
          "metadata": {
            "tags": []
          },
          "execution_count": 27
        }
      ]
    },
    {
      "cell_type": "code",
      "metadata": {
        "id": "VeIhboBHjfbP",
        "colab_type": "code",
        "colab": {},
        "outputId": "d047a457-d239-4b30-8d17-29295b52d1ca"
      },
      "source": [
        "#evaluate\n",
        "test_loss, test_acc = model1.evaluate(test_images,  test_labels)\n",
        "print('\\nTest accuracy:', test_acc)"
      ],
      "execution_count": null,
      "outputs": [
        {
          "output_type": "stream",
          "text": [
            "313/313 [==============================] - 0s 1ms/step - loss: 0.2954 - accuracy: 0.9176\n",
            "\n",
            "Test accuracy: 0.9175999760627747\n"
          ],
          "name": "stdout"
        }
      ]
    },
    {
      "cell_type": "code",
      "metadata": {
        "id": "KZTZjuFWjfbR",
        "colab_type": "code",
        "colab": {}
      },
      "source": [
        "# Predict on the first 5 test images.\n",
        "predictions = model.predict(test_images[:5])"
      ],
      "execution_count": null,
      "outputs": []
    },
    {
      "cell_type": "code",
      "metadata": {
        "id": "FwpfPI5IjfbT",
        "colab_type": "code",
        "colab": {},
        "outputId": "350ecbfe-5fc6-4c9e-e76d-339ec1194458"
      },
      "source": [
        "#Raw predictions\n",
        "predictions"
      ],
      "execution_count": null,
      "outputs": [
        {
          "output_type": "execute_result",
          "data": {
            "text/plain": [
              "array([[2.4456976e-04, 1.1016244e-06, 2.6870525e-04, 2.1962498e-03,\n",
              "        5.0126186e-05, 1.0000253e-04, 2.9973776e-06, 9.9369860e-01,\n",
              "        1.9108737e-04, 3.2465421e-03],\n",
              "       [9.1871358e-03, 2.4110419e-04, 8.8870269e-01, 1.5399649e-02,\n",
              "        6.8541374e-07, 1.7682318e-02, 6.0085312e-02, 3.4919714e-07,\n",
              "        8.6948713e-03, 5.7744523e-06],\n",
              "       [3.1419602e-04, 9.5241570e-01, 1.5809523e-02, 7.6014413e-03,\n",
              "        7.0461084e-04, 2.2334328e-03, 4.3221116e-03, 5.5818781e-03,\n",
              "        9.0749450e-03, 1.9421905e-03],\n",
              "       [9.9548799e-01, 3.2072524e-08, 4.9561623e-04, 8.9386056e-05,\n",
              "        9.7483132e-07, 1.9237131e-03, 1.1788539e-03, 5.6850811e-04,\n",
              "        1.8149463e-04, 7.3461422e-05],\n",
              "       [2.7817939e-03, 6.5413093e-05, 1.4476937e-02, 7.3044328e-04,\n",
              "        8.8427997e-01, 1.6711350e-03, 1.0325884e-02, 2.1086464e-02,\n",
              "        1.3084155e-02, 5.1497903e-02]], dtype=float32)"
            ]
          },
          "metadata": {
            "tags": []
          },
          "execution_count": 30
        }
      ]
    },
    {
      "cell_type": "code",
      "metadata": {
        "id": "BpsnU_ObjfbV",
        "colab_type": "code",
        "colab": {},
        "outputId": "8640ad3d-a938-4a1b-ddd3-d3968b375085"
      },
      "source": [
        "# Print our model's predictions\n",
        "print(np.argmax(predictions, axis=1))"
      ],
      "execution_count": null,
      "outputs": [
        {
          "output_type": "stream",
          "text": [
            "[7 2 1 0 4]\n"
          ],
          "name": "stdout"
        }
      ]
    },
    {
      "cell_type": "code",
      "metadata": {
        "id": "T19aEY_RjfbW",
        "colab_type": "code",
        "colab": {},
        "outputId": "13527346-3b00-462d-f3d9-6c07478feea5"
      },
      "source": [
        "# Check our predictions against the ground truths\n",
        "print(test_labels[:5]) # [7, 2, 1, 0, 4]"
      ],
      "execution_count": null,
      "outputs": [
        {
          "output_type": "stream",
          "text": [
            "[7 2 1 0 4]\n"
          ],
          "name": "stdout"
        }
      ]
    },
    {
      "cell_type": "markdown",
      "metadata": {
        "id": "DZll-BQXjfbY",
        "colab_type": "text"
      },
      "source": [
        "## Model #2: Optimizer"
      ]
    },
    {
      "cell_type": "markdown",
      "metadata": {
        "id": "VZN8LtdajfbY",
        "colab_type": "text"
      },
      "source": [
        "**Experiment:** Changed optimizer to Adam.\n",
        "\n",
        "**Result:** Accuracy increased from 91.72 to 92.47"
      ]
    },
    {
      "cell_type": "code",
      "metadata": {
        "id": "uX1EKqxGjfbZ",
        "colab_type": "code",
        "colab": {}
      },
      "source": [
        "#setup model\n",
        "model2 = keras.Sequential([\n",
        "    keras.layers.Flatten(input_shape=(28, 28)),\n",
        "    keras.layers.Dense(10, activation = tf.nn.softmax)\n",
        "])"
      ],
      "execution_count": null,
      "outputs": []
    },
    {
      "cell_type": "code",
      "metadata": {
        "id": "4yc5F4Jsjfbb",
        "colab_type": "code",
        "colab": {}
      },
      "source": [
        "#compile model\n",
        "model2.compile(optimizer='adam',\n",
        "          loss='sparse_categorical_crossentropy',\n",
        "          metrics=['accuracy'])"
      ],
      "execution_count": null,
      "outputs": []
    },
    {
      "cell_type": "code",
      "metadata": {
        "id": "evGneezPjfbc",
        "colab_type": "code",
        "colab": {},
        "outputId": "0523d22c-dd9e-410d-a5ec-8dfa7e86055d"
      },
      "source": [
        "#train model\n",
        "model2.fit(train_images, train_labels, epochs=15)"
      ],
      "execution_count": null,
      "outputs": [
        {
          "output_type": "stream",
          "text": [
            "Epoch 1/15\n",
            "1875/1875 [==============================] - 2s 1ms/step - loss: 0.4644 - accuracy: 0.8788\n",
            "Epoch 2/15\n",
            "1875/1875 [==============================] - 2s 1ms/step - loss: 0.3039 - accuracy: 0.9153\n",
            "Epoch 3/15\n",
            "1875/1875 [==============================] - 2s 1ms/step - loss: 0.2837 - accuracy: 0.9211\n",
            "Epoch 4/15\n",
            "1875/1875 [==============================] - 2s 1ms/step - loss: 0.2732 - accuracy: 0.9235\n",
            "Epoch 5/15\n",
            "1875/1875 [==============================] - 2s 1ms/step - loss: 0.2667 - accuracy: 0.9253\n",
            "Epoch 6/15\n",
            "1875/1875 [==============================] - 2s 1ms/step - loss: 0.2617 - accuracy: 0.9270\n",
            "Epoch 7/15\n",
            "1875/1875 [==============================] - 2s 1ms/step - loss: 0.2581 - accuracy: 0.9281\n",
            "Epoch 8/15\n",
            "1875/1875 [==============================] - 2s 1ms/step - loss: 0.2554 - accuracy: 0.9290\n",
            "Epoch 9/15\n",
            "1875/1875 [==============================] - 2s 1ms/step - loss: 0.2532 - accuracy: 0.9298\n",
            "Epoch 10/15\n",
            "1875/1875 [==============================] - 2s 1ms/step - loss: 0.2510 - accuracy: 0.9312\n",
            "Epoch 11/15\n",
            "1875/1875 [==============================] - 2s 1ms/step - loss: 0.2491 - accuracy: 0.9309\n",
            "Epoch 12/15\n",
            "1875/1875 [==============================] - 2s 1ms/step - loss: 0.2479 - accuracy: 0.9313\n",
            "Epoch 13/15\n",
            "1875/1875 [==============================] - 2s 1ms/step - loss: 0.2464 - accuracy: 0.9322\n",
            "Epoch 14/15\n",
            "1875/1875 [==============================] - 2s 1ms/step - loss: 0.2449 - accuracy: 0.9321\n",
            "Epoch 15/15\n",
            "1875/1875 [==============================] - 2s 1ms/step - loss: 0.2438 - accuracy: 0.9332\n"
          ],
          "name": "stdout"
        },
        {
          "output_type": "execute_result",
          "data": {
            "text/plain": [
              "<tensorflow.python.keras.callbacks.History at 0x20a2b05f688>"
            ]
          },
          "metadata": {
            "tags": []
          },
          "execution_count": 35
        }
      ]
    },
    {
      "cell_type": "code",
      "metadata": {
        "id": "G9rcHoImjfbe",
        "colab_type": "code",
        "colab": {},
        "outputId": "648280be-f02c-4b7e-c110-29385019f042"
      },
      "source": [
        "#dir(history)\n",
        "history.history"
      ],
      "execution_count": null,
      "outputs": [
        {
          "output_type": "execute_result",
          "data": {
            "text/plain": [
              "{'loss': [0.7744966745376587,\n",
              "  0.4553094506263733,\n",
              "  0.402904748916626,\n",
              "  0.37675154209136963,\n",
              "  0.360068142414093,\n",
              "  0.3482522666454315,\n",
              "  0.33931803703308105,\n",
              "  0.33216139674186707,\n",
              "  0.3263208866119385,\n",
              "  0.321297824382782,\n",
              "  0.31721925735473633,\n",
              "  0.31356653571128845,\n",
              "  0.3103366494178772,\n",
              "  0.3074551820755005,\n",
              "  0.30484145879745483],\n",
              " 'accuracy': [0.8199833035469055,\n",
              "  0.8814333081245422,\n",
              "  0.8918499946594238,\n",
              "  0.8973833322525024,\n",
              "  0.9013166427612305,\n",
              "  0.9036833047866821,\n",
              "  0.9057499766349792,\n",
              "  0.9074000120162964,\n",
              "  0.9089999794960022,\n",
              "  0.9106000065803528,\n",
              "  0.9115166664123535,\n",
              "  0.9131500124931335,\n",
              "  0.9140166640281677,\n",
              "  0.915066659450531,\n",
              "  0.915316641330719]}"
            ]
          },
          "metadata": {
            "tags": []
          },
          "execution_count": 36
        }
      ]
    },
    {
      "cell_type": "code",
      "metadata": {
        "id": "HGlCx1QAjfbg",
        "colab_type": "code",
        "colab": {},
        "outputId": "07617648-1027-419d-d661-8cdc8465867c"
      },
      "source": [
        "#evaluate\n",
        "test_loss, test_acc = model2.evaluate(test_images,  test_labels)\n",
        "print('\\nTest accuracy:', test_acc)"
      ],
      "execution_count": null,
      "outputs": [
        {
          "output_type": "stream",
          "text": [
            "313/313 [==============================] - 0s 1ms/step - loss: 0.2709 - accuracy: 0.9248\n",
            "\n",
            "Test accuracy: 0.9247999787330627\n"
          ],
          "name": "stdout"
        }
      ]
    },
    {
      "cell_type": "code",
      "metadata": {
        "id": "2cwuHr1Gjfbj",
        "colab_type": "code",
        "colab": {}
      },
      "source": [
        "# Predict on the first 5 test images.\n",
        "predictions = model2.predict(test_images[:5])"
      ],
      "execution_count": null,
      "outputs": []
    },
    {
      "cell_type": "code",
      "metadata": {
        "id": "sItLbpt9jfbl",
        "colab_type": "code",
        "colab": {},
        "outputId": "a356ebd8-2dc3-4d99-beef-794670186d8f"
      },
      "source": [
        "#Raw predictions\n",
        "predictions"
      ],
      "execution_count": null,
      "outputs": [
        {
          "output_type": "execute_result",
          "data": {
            "text/plain": [
              "array([[1.41043273e-07, 3.05171307e-13, 4.72896232e-07, 6.07971940e-03,\n",
              "        1.65374558e-07, 2.50882822e-05, 4.71964915e-13, 9.93602693e-01,\n",
              "        1.14796703e-05, 2.80196109e-04],\n",
              "       [3.72067552e-05, 1.33618153e-06, 9.93911505e-01, 1.24302378e-05,\n",
              "        4.96227105e-16, 2.16920394e-03, 3.86007130e-03, 7.30927728e-21,\n",
              "        8.25761981e-06, 6.21472830e-18],\n",
              "       [3.56841241e-07, 9.87218380e-01, 7.58117484e-03, 1.79709191e-03,\n",
              "        9.68049862e-05, 6.17539801e-04, 8.09406512e-04, 7.94487714e-05,\n",
              "        1.69345306e-03, 1.06290485e-04],\n",
              "       [9.99920368e-01, 2.23443312e-12, 1.22740066e-05, 6.30660452e-07,\n",
              "        8.79583073e-09, 9.43566465e-06, 5.27888697e-05, 7.38457345e-07,\n",
              "        1.83275267e-06, 1.95039502e-06],\n",
              "       [5.31141937e-04, 4.91894383e-08, 1.15252763e-03, 1.45653466e-05,\n",
              "        9.68250513e-01, 7.51500411e-05, 1.53896061e-03, 1.53930986e-03,\n",
              "        1.59897143e-03, 2.52988841e-02]], dtype=float32)"
            ]
          },
          "metadata": {
            "tags": []
          },
          "execution_count": 39
        }
      ]
    },
    {
      "cell_type": "code",
      "metadata": {
        "id": "SIQarNwljfbm",
        "colab_type": "code",
        "colab": {},
        "outputId": "c8cf8f05-c45f-4f9e-b5f1-5ffe4f8728d9"
      },
      "source": [
        "# Print our model's predictions\n",
        "print(np.argmax(predictions, axis=1))"
      ],
      "execution_count": null,
      "outputs": [
        {
          "output_type": "stream",
          "text": [
            "[7 2 1 0 4]\n"
          ],
          "name": "stdout"
        }
      ]
    },
    {
      "cell_type": "code",
      "metadata": {
        "id": "RQSXyKg7jfbp",
        "colab_type": "code",
        "colab": {},
        "outputId": "41fed464-0c17-4d56-8695-e4384b8c9044"
      },
      "source": [
        "# Check our predictions against the ground truths\n",
        "print(test_labels[:5]) # [7, 2, 1, 0, 4]"
      ],
      "execution_count": null,
      "outputs": [
        {
          "output_type": "stream",
          "text": [
            "[7 2 1 0 4]\n"
          ],
          "name": "stdout"
        }
      ]
    },
    {
      "cell_type": "markdown",
      "metadata": {
        "id": "F9nhkipRjfbq",
        "colab_type": "text"
      },
      "source": [
        "## Model #3: Adding another layer"
      ]
    },
    {
      "cell_type": "markdown",
      "metadata": {
        "id": "uHp4Sk47jfbr",
        "colab_type": "text"
      },
      "source": [
        "**Experiment:** Adding another Dense Layer\n",
        "\n",
        "**Result:** Accuracy increased from 92.47 to 97.79"
      ]
    },
    {
      "cell_type": "code",
      "metadata": {
        "id": "M00J9grmjfbr",
        "colab_type": "code",
        "colab": {}
      },
      "source": [
        "#setup model\n",
        "model3 = keras.Sequential([\n",
        "    keras.layers.Flatten(input_shape=(28, 28)),\n",
        "    keras.layers.Dense(128, activation = 'relu'),\n",
        "    keras.layers.Dense(10, activation = tf.nn.softmax)\n",
        "])"
      ],
      "execution_count": null,
      "outputs": []
    },
    {
      "cell_type": "code",
      "metadata": {
        "id": "1Pozsu9Bjfbt",
        "colab_type": "code",
        "colab": {}
      },
      "source": [
        "#compile model\n",
        "model3.compile(optimizer='adam',\n",
        "          loss='sparse_categorical_crossentropy',\n",
        "          metrics=['accuracy'])"
      ],
      "execution_count": null,
      "outputs": []
    },
    {
      "cell_type": "code",
      "metadata": {
        "id": "btPlAWkGjfbu",
        "colab_type": "code",
        "colab": {},
        "outputId": "1aee84ff-d029-4837-84c3-bce69725287b"
      },
      "source": [
        "#train model\n",
        "model3.fit(train_images, train_labels, epochs=15)"
      ],
      "execution_count": null,
      "outputs": [
        {
          "output_type": "stream",
          "text": [
            "Epoch 1/15\n",
            "1875/1875 [==============================] - 2s 1ms/step - loss: 0.2567 - accuracy: 0.9264\n",
            "Epoch 2/15\n",
            "1875/1875 [==============================] - 2s 1ms/step - loss: 0.1118 - accuracy: 0.9660\n",
            "Epoch 3/15\n",
            "1875/1875 [==============================] - 2s 1ms/step - loss: 0.0775 - accuracy: 0.9766\n",
            "Epoch 4/15\n",
            "1875/1875 [==============================] - 2s 1ms/step - loss: 0.0579 - accuracy: 0.9825\n",
            "Epoch 5/15\n",
            "1875/1875 [==============================] - 2s 1ms/step - loss: 0.0447 - accuracy: 0.9863\n",
            "Epoch 6/15\n",
            "1875/1875 [==============================] - 2s 1ms/step - loss: 0.0335 - accuracy: 0.9897\n",
            "Epoch 7/15\n",
            "1875/1875 [==============================] - 2s 1ms/step - loss: 0.0274 - accuracy: 0.9916\n",
            "Epoch 8/15\n",
            "1875/1875 [==============================] - 2s 1ms/step - loss: 0.0236 - accuracy: 0.9926\n",
            "Epoch 9/15\n",
            "1875/1875 [==============================] - 2s 1ms/step - loss: 0.0172 - accuracy: 0.9949\n",
            "Epoch 10/15\n",
            "1875/1875 [==============================] - 2s 1ms/step - loss: 0.0154 - accuracy: 0.9951\n",
            "Epoch 11/15\n",
            "1875/1875 [==============================] - 2s 1ms/step - loss: 0.0126 - accuracy: 0.9963\n",
            "Epoch 12/15\n",
            "1875/1875 [==============================] - 2s 1ms/step - loss: 0.0107 - accuracy: 0.9968\n",
            "Epoch 13/15\n",
            "1875/1875 [==============================] - 2s 1ms/step - loss: 0.0106 - accuracy: 0.9966\n",
            "Epoch 14/15\n",
            "1875/1875 [==============================] - 2s 1ms/step - loss: 0.0079 - accuracy: 0.9976\n",
            "Epoch 15/15\n",
            "1875/1875 [==============================] - 2s 1ms/step - loss: 0.0081 - accuracy: 0.9973\n"
          ],
          "name": "stdout"
        },
        {
          "output_type": "execute_result",
          "data": {
            "text/plain": [
              "<tensorflow.python.keras.callbacks.History at 0x20a2a961d08>"
            ]
          },
          "metadata": {
            "tags": []
          },
          "execution_count": 45
        }
      ]
    },
    {
      "cell_type": "code",
      "metadata": {
        "id": "H_sjhK3Fjfbw",
        "colab_type": "code",
        "colab": {},
        "outputId": "f9df0a78-110e-4a6d-94d1-cf3abf1f3695"
      },
      "source": [
        "#dir(history)\n",
        "history.history"
      ],
      "execution_count": null,
      "outputs": [
        {
          "output_type": "execute_result",
          "data": {
            "text/plain": [
              "{'loss': [0.7744966745376587,\n",
              "  0.4553094506263733,\n",
              "  0.402904748916626,\n",
              "  0.37675154209136963,\n",
              "  0.360068142414093,\n",
              "  0.3482522666454315,\n",
              "  0.33931803703308105,\n",
              "  0.33216139674186707,\n",
              "  0.3263208866119385,\n",
              "  0.321297824382782,\n",
              "  0.31721925735473633,\n",
              "  0.31356653571128845,\n",
              "  0.3103366494178772,\n",
              "  0.3074551820755005,\n",
              "  0.30484145879745483],\n",
              " 'accuracy': [0.8199833035469055,\n",
              "  0.8814333081245422,\n",
              "  0.8918499946594238,\n",
              "  0.8973833322525024,\n",
              "  0.9013166427612305,\n",
              "  0.9036833047866821,\n",
              "  0.9057499766349792,\n",
              "  0.9074000120162964,\n",
              "  0.9089999794960022,\n",
              "  0.9106000065803528,\n",
              "  0.9115166664123535,\n",
              "  0.9131500124931335,\n",
              "  0.9140166640281677,\n",
              "  0.915066659450531,\n",
              "  0.915316641330719]}"
            ]
          },
          "metadata": {
            "tags": []
          },
          "execution_count": 46
        }
      ]
    },
    {
      "cell_type": "code",
      "metadata": {
        "id": "Y0pKwAVejfby",
        "colab_type": "code",
        "colab": {},
        "outputId": "c1418117-df6a-48a1-c617-a8deaec57aad"
      },
      "source": [
        "#evaluate\n",
        "test_loss, test_acc = model3.evaluate(test_images,  test_labels)\n",
        "print('\\nTest accuracy:', test_acc)"
      ],
      "execution_count": null,
      "outputs": [
        {
          "output_type": "stream",
          "text": [
            "313/313 [==============================] - 0s 1ms/step - loss: 0.0970 - accuracy: 0.9779\n",
            "\n",
            "Test accuracy: 0.9779000282287598\n"
          ],
          "name": "stdout"
        }
      ]
    },
    {
      "cell_type": "code",
      "metadata": {
        "id": "Jd_0ngazjfb0",
        "colab_type": "code",
        "colab": {}
      },
      "source": [
        "# Predict on the first 5 test images.\n",
        "predictions = model3.predict(test_images[:5])"
      ],
      "execution_count": null,
      "outputs": []
    },
    {
      "cell_type": "code",
      "metadata": {
        "id": "B_2m51_Njfb1",
        "colab_type": "code",
        "colab": {},
        "outputId": "f62a6cc5-a0e2-4fa2-9c9f-3b8ec997eaac"
      },
      "source": [
        "#Raw predictions\n",
        "predictions"
      ],
      "execution_count": null,
      "outputs": [
        {
          "output_type": "execute_result",
          "data": {
            "text/plain": [
              "array([[2.86038832e-10, 2.45321177e-11, 3.32819272e-10, 1.37279716e-08,\n",
              "        5.23444276e-18, 4.74484341e-11, 2.70333181e-13, 1.00000000e+00,\n",
              "        5.40056222e-10, 2.55283386e-08],\n",
              "       [1.69488854e-10, 1.19791238e-07, 9.99999881e-01, 1.85118265e-09,\n",
              "        6.10233118e-28, 1.44519352e-09, 6.19506356e-12, 2.20068869e-19,\n",
              "        1.14869625e-08, 3.69126723e-21],\n",
              "       [2.09324669e-09, 9.99930382e-01, 2.53799726e-06, 4.45203208e-09,\n",
              "        7.40185513e-08, 3.69976831e-08, 1.12523480e-07, 5.62761779e-05,\n",
              "        1.06580310e-05, 1.08617748e-09],\n",
              "       [1.00000000e+00, 2.67585194e-12, 2.26480862e-10, 2.28317863e-16,\n",
              "        3.89202322e-14, 3.58872437e-13, 2.81044144e-09, 9.22348203e-14,\n",
              "        3.63374636e-15, 2.18902424e-13],\n",
              "       [2.01624099e-11, 5.06406165e-16, 7.85453091e-11, 1.13205900e-16,\n",
              "        9.99999881e-01, 1.18238861e-13, 2.57706079e-11, 2.26978037e-11,\n",
              "        5.65030444e-13, 9.28472161e-08]], dtype=float32)"
            ]
          },
          "metadata": {
            "tags": []
          },
          "execution_count": 54
        }
      ]
    },
    {
      "cell_type": "code",
      "metadata": {
        "id": "KE4hUWdDjfb3",
        "colab_type": "code",
        "colab": {},
        "outputId": "087a5bf7-fdeb-40e6-aa62-9477bd33f419"
      },
      "source": [
        "# Print our model's predictions\n",
        "print(np.argmax(predictions, axis=1))"
      ],
      "execution_count": null,
      "outputs": [
        {
          "output_type": "stream",
          "text": [
            "[7 2 1 0 4]\n"
          ],
          "name": "stdout"
        }
      ]
    },
    {
      "cell_type": "code",
      "metadata": {
        "id": "NO2xYsC7jfb6",
        "colab_type": "code",
        "colab": {},
        "outputId": "059d8611-88c5-42e8-8b4f-913c15f169a4"
      },
      "source": [
        "# Check our predictions against the ground truths\n",
        "print(test_labels[:5]) # [7, 2, 1, 0, 4]"
      ],
      "execution_count": null,
      "outputs": [
        {
          "output_type": "stream",
          "text": [
            "[7 2 1 0 4]\n"
          ],
          "name": "stdout"
        }
      ]
    },
    {
      "cell_type": "markdown",
      "metadata": {
        "id": "CdNblo5Vjfb9",
        "colab_type": "text"
      },
      "source": [
        "## Model #3.1 : More Layers"
      ]
    },
    {
      "cell_type": "markdown",
      "metadata": {
        "id": "c-evrjMljfb9",
        "colab_type": "text"
      },
      "source": [
        "**Experiment:** Adding 2 Dense Layers\n",
        "\n",
        "**Result:** Accuracy barely increased from 97.79 to 97.86, which is possible to achieve in model #3 given a good enough start state "
      ]
    },
    {
      "cell_type": "code",
      "metadata": {
        "id": "9UbRYZtIjfb9",
        "colab_type": "code",
        "colab": {}
      },
      "source": [
        "#setup model\n",
        "model31 = keras.Sequential([\n",
        "    keras.layers.Flatten(input_shape=(28, 28)),\n",
        "    keras.layers.Dense(128, activation = 'relu'),\n",
        "    keras.layers.Dense(128, activation = 'relu'),\n",
        "    keras.layers.Dense(10, activation = tf.nn.softmax)\n",
        "])"
      ],
      "execution_count": null,
      "outputs": []
    },
    {
      "cell_type": "code",
      "metadata": {
        "id": "14AfYXdpjfb_",
        "colab_type": "code",
        "colab": {}
      },
      "source": [
        "#compile model\n",
        "model31.compile(optimizer='adam',\n",
        "          loss='sparse_categorical_crossentropy',\n",
        "          metrics=['accuracy'])"
      ],
      "execution_count": null,
      "outputs": []
    },
    {
      "cell_type": "code",
      "metadata": {
        "id": "WDQYKogYjfcB",
        "colab_type": "code",
        "colab": {},
        "outputId": "45215473-e886-4a92-9366-0dbd0585b768"
      },
      "source": [
        "#train model\n",
        "model31.fit(train_images, train_labels, epochs=15)"
      ],
      "execution_count": null,
      "outputs": [
        {
          "output_type": "stream",
          "text": [
            "Epoch 1/15\n",
            "1875/1875 [==============================] - 2s 1ms/step - loss: 0.2255 - accuracy: 0.9329\n",
            "Epoch 2/15\n",
            "1875/1875 [==============================] - 2s 1ms/step - loss: 0.0949 - accuracy: 0.9709\n",
            "Epoch 3/15\n",
            "1875/1875 [==============================] - 2s 1ms/step - loss: 0.0689 - accuracy: 0.9789\n",
            "Epoch 4/15\n",
            "1875/1875 [==============================] - 2s 1ms/step - loss: 0.0520 - accuracy: 0.9833\n",
            "Epoch 5/15\n",
            "1875/1875 [==============================] - 2s 1ms/step - loss: 0.0397 - accuracy: 0.9870\n",
            "Epoch 6/15\n",
            "1875/1875 [==============================] - 2s 1ms/step - loss: 0.0325 - accuracy: 0.9896\n",
            "Epoch 7/15\n",
            "1875/1875 [==============================] - 2s 1ms/step - loss: 0.0296 - accuracy: 0.9901\n",
            "Epoch 8/15\n",
            "1875/1875 [==============================] - 2s 1ms/step - loss: 0.0222 - accuracy: 0.9926\n",
            "Epoch 9/15\n",
            "1875/1875 [==============================] - 2s 1ms/step - loss: 0.0222 - accuracy: 0.9924\n",
            "Epoch 10/15\n",
            "1875/1875 [==============================] - 2s 1ms/step - loss: 0.0179 - accuracy: 0.9940\n",
            "Epoch 11/15\n",
            "1875/1875 [==============================] - 2s 1ms/step - loss: 0.0162 - accuracy: 0.9947\n",
            "Epoch 12/15\n",
            "1875/1875 [==============================] - 2s 1ms/step - loss: 0.0166 - accuracy: 0.9943\n",
            "Epoch 13/15\n",
            "1875/1875 [==============================] - 2s 1ms/step - loss: 0.0139 - accuracy: 0.9956\n",
            "Epoch 14/15\n",
            "1875/1875 [==============================] - 2s 1ms/step - loss: 0.0148 - accuracy: 0.9955\n",
            "Epoch 15/15\n",
            "1875/1875 [==============================] - 2s 1ms/step - loss: 0.0127 - accuracy: 0.9959\n"
          ],
          "name": "stdout"
        },
        {
          "output_type": "execute_result",
          "data": {
            "text/plain": [
              "<tensorflow.python.keras.callbacks.History at 0x20a17ecbd48>"
            ]
          },
          "metadata": {
            "tags": []
          },
          "execution_count": 63
        }
      ]
    },
    {
      "cell_type": "code",
      "metadata": {
        "id": "FewnQIBujfcD",
        "colab_type": "code",
        "colab": {},
        "outputId": "b834197c-c9bb-42de-8cc8-569228c021e1"
      },
      "source": [
        "#dir(history)\n",
        "history.history"
      ],
      "execution_count": null,
      "outputs": [
        {
          "output_type": "execute_result",
          "data": {
            "text/plain": [
              "{'loss': [0.7744966745376587,\n",
              "  0.4553094506263733,\n",
              "  0.402904748916626,\n",
              "  0.37675154209136963,\n",
              "  0.360068142414093,\n",
              "  0.3482522666454315,\n",
              "  0.33931803703308105,\n",
              "  0.33216139674186707,\n",
              "  0.3263208866119385,\n",
              "  0.321297824382782,\n",
              "  0.31721925735473633,\n",
              "  0.31356653571128845,\n",
              "  0.3103366494178772,\n",
              "  0.3074551820755005,\n",
              "  0.30484145879745483],\n",
              " 'accuracy': [0.8199833035469055,\n",
              "  0.8814333081245422,\n",
              "  0.8918499946594238,\n",
              "  0.8973833322525024,\n",
              "  0.9013166427612305,\n",
              "  0.9036833047866821,\n",
              "  0.9057499766349792,\n",
              "  0.9074000120162964,\n",
              "  0.9089999794960022,\n",
              "  0.9106000065803528,\n",
              "  0.9115166664123535,\n",
              "  0.9131500124931335,\n",
              "  0.9140166640281677,\n",
              "  0.915066659450531,\n",
              "  0.915316641330719]}"
            ]
          },
          "metadata": {
            "tags": []
          },
          "execution_count": 64
        }
      ]
    },
    {
      "cell_type": "code",
      "metadata": {
        "id": "_f48wBbOjfcF",
        "colab_type": "code",
        "colab": {},
        "outputId": "405c9fa8-cddd-41bd-c0f9-2352c9d90d0b"
      },
      "source": [
        "#evaluate\n",
        "test_loss, test_acc = model31.evaluate(test_images,  test_labels)\n",
        "print('\\nTest accuracy:', test_acc)"
      ],
      "execution_count": null,
      "outputs": [
        {
          "output_type": "stream",
          "text": [
            "313/313 [==============================] - 0s 1ms/step - loss: 0.1078 - accuracy: 0.9787\n",
            "\n",
            "Test accuracy: 0.9786999821662903\n"
          ],
          "name": "stdout"
        }
      ]
    },
    {
      "cell_type": "code",
      "metadata": {
        "id": "XdA5LuMwjfcH",
        "colab_type": "code",
        "colab": {}
      },
      "source": [
        "# Predict on the first 5 test images.\n",
        "predictions = model31.predict(test_images[:5])"
      ],
      "execution_count": null,
      "outputs": []
    },
    {
      "cell_type": "code",
      "metadata": {
        "id": "fWElvbdsjfcI",
        "colab_type": "code",
        "colab": {},
        "outputId": "8619b090-c1bf-4ce5-a78f-c449f08344ef"
      },
      "source": [
        "#Raw predictions\n",
        "predictions"
      ],
      "execution_count": null,
      "outputs": [
        {
          "output_type": "execute_result",
          "data": {
            "text/plain": [
              "array([[2.2928355e-13, 1.0564217e-08, 1.0767853e-08, 4.8878035e-10,\n",
              "        6.1932474e-15, 9.8376118e-15, 3.3744430e-19, 1.0000000e+00,\n",
              "        1.9511835e-11, 4.1509750e-08],\n",
              "       [1.1215516e-20, 1.2560490e-13, 1.0000000e+00, 5.7819266e-13,\n",
              "        9.6534242e-27, 1.2331421e-20, 6.5731358e-24, 8.4244209e-21,\n",
              "        9.7911168e-14, 1.5850135e-25],\n",
              "       [5.4185744e-12, 9.9998903e-01, 1.8950320e-06, 1.2045744e-09,\n",
              "        1.6154329e-08, 3.7335180e-11, 5.7483369e-09, 8.7459839e-06,\n",
              "        1.8242002e-07, 1.0011896e-11],\n",
              "       [1.0000000e+00, 6.4671098e-12, 9.9057396e-10, 7.1977583e-16,\n",
              "        2.8279757e-17, 1.2494674e-11, 7.9292251e-10, 5.7448457e-10,\n",
              "        5.2910813e-16, 5.0651829e-16],\n",
              "       [8.1709173e-10, 1.2238697e-14, 3.0198795e-12, 2.9030829e-19,\n",
              "        9.9999845e-01, 2.9877213e-16, 1.7107191e-14, 5.0540656e-09,\n",
              "        2.8402995e-11, 1.5808507e-06]], dtype=float32)"
            ]
          },
          "metadata": {
            "tags": []
          },
          "execution_count": 67
        }
      ]
    },
    {
      "cell_type": "code",
      "metadata": {
        "id": "9dkH7ffSjfcJ",
        "colab_type": "code",
        "colab": {},
        "outputId": "3ed34ffe-a4be-4508-e85a-a2d321e05011"
      },
      "source": [
        "# Print our model's predictions\n",
        "print(np.argmax(predictions, axis=1))"
      ],
      "execution_count": null,
      "outputs": [
        {
          "output_type": "stream",
          "text": [
            "[7 2 1 0 4]\n"
          ],
          "name": "stdout"
        }
      ]
    },
    {
      "cell_type": "code",
      "metadata": {
        "id": "Z9V1y3xmjfcL",
        "colab_type": "code",
        "colab": {},
        "outputId": "58e4d963-2bf3-46eb-ebac-49769841cdef"
      },
      "source": [
        "# Check our predictions against the ground truths\n",
        "print(test_labels[:5]) # [7, 2, 1, 0, 4]"
      ],
      "execution_count": null,
      "outputs": [
        {
          "output_type": "stream",
          "text": [
            "[7 2 1 0 4]\n"
          ],
          "name": "stdout"
        }
      ]
    },
    {
      "cell_type": "markdown",
      "metadata": {
        "id": "QOVRR6lijfcN",
        "colab_type": "text"
      },
      "source": [
        "## Model #4 : Changing Learning Rate"
      ]
    },
    {
      "cell_type": "markdown",
      "metadata": {
        "id": "dNuw2nR_jfcN",
        "colab_type": "text"
      },
      "source": [
        "**Experiment**: write a for loop to experiment with various learning rates"
      ]
    },
    {
      "cell_type": "code",
      "metadata": {
        "id": "nVN5kf7pjfcN",
        "colab_type": "code",
        "colab": {}
      },
      "source": [
        "#setup model\n",
        "model4 = keras.Sequential([\n",
        "    keras.layers.Flatten(input_shape=(28, 28)),\n",
        "    keras.layers.Dense(128, activation = 'relu'),\n",
        "    keras.layers.Dense(128, activation = 'relu'),\n",
        "    keras.layers.Dense(10, activation = tf.nn.softmax)\n",
        "])"
      ],
      "execution_count": null,
      "outputs": []
    },
    {
      "cell_type": "code",
      "metadata": {
        "id": "74g_zXGHjfcQ",
        "colab_type": "code",
        "colab": {},
        "outputId": "0f38260e-fac2-45d2-bb58-c4afb928b7cd"
      },
      "source": [
        "for lr in [0.01,0.003,0.5,0.03,0.9,0.099]:\n",
        "    #compile model\n",
        "    model4.compile(optimizer=keras.optimizers.Adam(learning_rate=lr),\n",
        "              loss='sparse_categorical_crossentropy',\n",
        "              metrics=['accuracy'])\n",
        "\n",
        "    #train model\n",
        "    model4.fit(train_images, train_labels, epochs=15)\n",
        "\n",
        "    #dir(history)\n",
        "    history.history\n",
        "\n",
        "    #evaluate\n",
        "    test_loss, test_acc = model4.evaluate(test_images,  test_labels)\n",
        "    print(f'for learning rate: {lr} : Test accuracy: {test_acc}')"
      ],
      "execution_count": null,
      "outputs": [
        {
          "output_type": "stream",
          "text": [
            "Epoch 1/15\n",
            "1875/1875 [==============================] - 4s 2ms/step - loss: 0.2717 - accuracy: 0.9226\n",
            "Epoch 2/15\n",
            "1875/1875 [==============================] - 3s 2ms/step - loss: 0.1888 - accuracy: 0.9503\n",
            "Epoch 3/15\n",
            "1875/1875 [==============================] - 4s 2ms/step - loss: 0.1627 - accuracy: 0.9569\n",
            "Epoch 4/15\n",
            "1875/1875 [==============================] - 4s 2ms/step - loss: 0.1466 - accuracy: 0.9625\n",
            "Epoch 5/15\n",
            "1875/1875 [==============================] - 4s 2ms/step - loss: 0.1322 - accuracy: 0.9674\n",
            "Epoch 6/15\n",
            "1875/1875 [==============================] - 3s 2ms/step - loss: 0.1294 - accuracy: 0.9673\n",
            "Epoch 7/15\n",
            "1875/1875 [==============================] - 3s 2ms/step - loss: 0.1129 - accuracy: 0.9721\n",
            "Epoch 8/15\n",
            "1875/1875 [==============================] - 4s 2ms/step - loss: 0.1137 - accuracy: 0.9721\n",
            "Epoch 9/15\n",
            "1875/1875 [==============================] - 3s 2ms/step - loss: 0.1105 - accuracy: 0.9743\n",
            "Epoch 10/15\n",
            "1875/1875 [==============================] - 3s 2ms/step - loss: 0.1072 - accuracy: 0.9743\n",
            "Epoch 11/15\n",
            "1875/1875 [==============================] - 3s 2ms/step - loss: 0.1079 - accuracy: 0.9745\n",
            "Epoch 12/15\n",
            "1875/1875 [==============================] - 3s 2ms/step - loss: 0.1060 - accuracy: 0.9760\n",
            "Epoch 13/15\n",
            "1875/1875 [==============================] - 4s 2ms/step - loss: 0.0926 - accuracy: 0.9783\n",
            "Epoch 14/15\n",
            "1875/1875 [==============================] - 3s 2ms/step - loss: 0.0974 - accuracy: 0.9779\n",
            "Epoch 15/15\n",
            "1875/1875 [==============================] - 4s 2ms/step - loss: 0.0999 - accuracy: 0.9770\n",
            "313/313 [==============================] - 1s 2ms/step - loss: 0.1886 - accuracy: 0.9657\n",
            "for learning rate: 0.01 : Test accuracy: 0.9656999707221985\n",
            "Epoch 1/15\n",
            "1875/1875 [==============================] - 4s 2ms/step - loss: 0.0522 - accuracy: 0.9862\n",
            "Epoch 2/15\n",
            "1875/1875 [==============================] - 4s 2ms/step - loss: 0.0372 - accuracy: 0.9894\n",
            "Epoch 3/15\n",
            "1875/1875 [==============================] - 4s 2ms/step - loss: 0.0343 - accuracy: 0.9900\n",
            "Epoch 4/15\n",
            "1875/1875 [==============================] - 4s 2ms/step - loss: 0.0293 - accuracy: 0.9909\n",
            "Epoch 5/15\n",
            "1875/1875 [==============================] - 4s 2ms/step - loss: 0.0286 - accuracy: 0.9916\n",
            "Epoch 6/15\n",
            "1875/1875 [==============================] - 4s 2ms/step - loss: 0.0276 - accuracy: 0.9917\n",
            "Epoch 7/15\n",
            "1875/1875 [==============================] - 4s 2ms/step - loss: 0.0246 - accuracy: 0.9925\n",
            "Epoch 8/15\n",
            "1875/1875 [==============================] - 4s 2ms/step - loss: 0.0258 - accuracy: 0.9924\n",
            "Epoch 9/15\n",
            "1875/1875 [==============================] - 4s 2ms/step - loss: 0.0220 - accuracy: 0.9931\n",
            "Epoch 10/15\n",
            "1875/1875 [==============================] - 4s 2ms/step - loss: 0.0236 - accuracy: 0.9931\n",
            "Epoch 11/15\n",
            "1875/1875 [==============================] - 4s 2ms/step - loss: 0.0218 - accuracy: 0.9937\n",
            "Epoch 12/15\n",
            "1875/1875 [==============================] - 4s 2ms/step - loss: 0.0202 - accuracy: 0.9935\n",
            "Epoch 13/15\n",
            "1875/1875 [==============================] - 4s 2ms/step - loss: 0.0226 - accuracy: 0.9931\n",
            "Epoch 14/15\n",
            "1875/1875 [==============================] - 4s 2ms/step - loss: 0.0220 - accuracy: 0.9937\n",
            "Epoch 15/15\n",
            "1875/1875 [==============================] - 3s 2ms/step - loss: 0.0183 - accuracy: 0.9941\n",
            "313/313 [==============================] - 1s 2ms/step - loss: 0.3093 - accuracy: 0.9744\n",
            "for learning rate: 0.003 : Test accuracy: 0.974399983882904\n",
            "Epoch 1/15\n",
            "1875/1875 [==============================] - 4s 2ms/step - loss: 2.7870 - accuracy: 0.1056\n",
            "Epoch 2/15\n",
            "1875/1875 [==============================] - 4s 2ms/step - loss: 4.4113 - accuracy: 0.1018\n",
            "Epoch 3/15\n",
            "1875/1875 [==============================] - 4s 2ms/step - loss: 2.3587 - accuracy: 0.1022\n",
            "Epoch 4/15\n",
            "1875/1875 [==============================] - 4s 2ms/step - loss: 2.3594 - accuracy: 0.1023\n",
            "Epoch 5/15\n",
            "1875/1875 [==============================] - 4s 2ms/step - loss: 2.3584 - accuracy: 0.1017\n",
            "Epoch 6/15\n",
            "1875/1875 [==============================] - 4s 2ms/step - loss: 2.3582 - accuracy: 0.1025\n",
            "Epoch 7/15\n",
            "1875/1875 [==============================] - 4s 2ms/step - loss: 2.3576 - accuracy: 0.1029\n",
            "Epoch 8/15\n",
            "1875/1875 [==============================] - 4s 2ms/step - loss: 2.3625 - accuracy: 0.1011\n",
            "Epoch 9/15\n",
            "1875/1875 [==============================] - 4s 2ms/step - loss: 2.3600 - accuracy: 0.1045\n",
            "Epoch 10/15\n",
            "1875/1875 [==============================] - 4s 2ms/step - loss: 2.3577 - accuracy: 0.1036\n",
            "Epoch 11/15\n",
            "1875/1875 [==============================] - 4s 2ms/step - loss: 2.3597 - accuracy: 0.0989\n",
            "Epoch 12/15\n",
            "1875/1875 [==============================] - 3s 2ms/step - loss: 2.3587 - accuracy: 0.1021\n",
            "Epoch 13/15\n",
            "1875/1875 [==============================] - 3s 2ms/step - loss: 2.3601 - accuracy: 0.1003\n",
            "Epoch 14/15\n",
            "1875/1875 [==============================] - 4s 2ms/step - loss: 2.3570 - accuracy: 0.1007\n",
            "Epoch 15/15\n",
            "1875/1875 [==============================] - 4s 2ms/step - loss: 2.3604 - accuracy: 0.1018\n",
            "313/313 [==============================] - 1s 2ms/step - loss: 2.3671 - accuracy: 0.0980\n",
            "for learning rate: 0.5 : Test accuracy: 0.09799999743700027\n",
            "Epoch 1/15\n",
            "1875/1875 [==============================] - 4s 2ms/step - loss: 2.3051 - accuracy: 0.1060\n",
            "Epoch 2/15\n",
            "1875/1875 [==============================] - 4s 2ms/step - loss: 2.3054 - accuracy: 0.1067\n",
            "Epoch 3/15\n",
            "1875/1875 [==============================] - 4s 2ms/step - loss: 2.3050 - accuracy: 0.1055\n",
            "Epoch 4/15\n",
            "1875/1875 [==============================] - 4s 2ms/step - loss: 2.3051 - accuracy: 0.1044\n",
            "Epoch 5/15\n",
            "1875/1875 [==============================] - 4s 2ms/step - loss: 2.3052 - accuracy: 0.1058\n",
            "Epoch 6/15\n",
            "1875/1875 [==============================] - 4s 2ms/step - loss: 2.3051 - accuracy: 0.1057\n",
            "Epoch 7/15\n",
            "1875/1875 [==============================] - 4s 2ms/step - loss: 2.3052 - accuracy: 0.1070\n",
            "Epoch 8/15\n",
            "1875/1875 [==============================] - 4s 2ms/step - loss: 2.3053 - accuracy: 0.1035\n",
            "Epoch 9/15\n",
            "1875/1875 [==============================] - 4s 2ms/step - loss: 2.3050 - accuracy: 0.1064\n",
            "Epoch 10/15\n",
            "1875/1875 [==============================] - 4s 2ms/step - loss: 2.3054 - accuracy: 0.1047\n",
            "Epoch 11/15\n",
            "1875/1875 [==============================] - 4s 2ms/step - loss: 2.3054 - accuracy: 0.1042\n",
            "Epoch 12/15\n",
            "1875/1875 [==============================] - 4s 2ms/step - loss: 2.3051 - accuracy: 0.1042\n",
            "Epoch 13/15\n",
            "1875/1875 [==============================] - 4s 2ms/step - loss: 2.3050 - accuracy: 0.1075\n",
            "Epoch 14/15\n",
            "1875/1875 [==============================] - 3s 2ms/step - loss: 2.3050 - accuracy: 0.1066\n",
            "Epoch 15/15\n",
            "1875/1875 [==============================] - 4s 2ms/step - loss: 2.3055 - accuracy: 0.1047\n",
            "313/313 [==============================] - 1s 2ms/step - loss: 2.3041 - accuracy: 0.0958\n",
            "for learning rate: 0.03 : Test accuracy: 0.0957999974489212\n",
            "Epoch 1/15\n",
            "1875/1875 [==============================] - 4s 2ms/step - loss: 2.4023 - accuracy: 0.1023\n",
            "Epoch 2/15\n",
            "1875/1875 [==============================] - 4s 2ms/step - loss: 2.3959 - accuracy: 0.1030\n",
            "Epoch 3/15\n",
            "1875/1875 [==============================] - 4s 2ms/step - loss: 2.3963 - accuracy: 0.1010\n",
            "Epoch 4/15\n",
            "1875/1875 [==============================] - 4s 2ms/step - loss: 2.3997 - accuracy: 0.1015\n",
            "Epoch 5/15\n",
            "1875/1875 [==============================] - 4s 2ms/step - loss: 2.3957 - accuracy: 0.1004\n",
            "Epoch 6/15\n",
            "1875/1875 [==============================] - 4s 2ms/step - loss: 2.3979 - accuracy: 0.1024\n",
            "Epoch 7/15\n",
            "1875/1875 [==============================] - 4s 2ms/step - loss: 2.4000 - accuracy: 0.1024\n",
            "Epoch 8/15\n",
            "1875/1875 [==============================] - 4s 2ms/step - loss: 2.3961 - accuracy: 0.1004\n",
            "Epoch 9/15\n",
            "1875/1875 [==============================] - 4s 2ms/step - loss: 2.3979 - accuracy: 0.1032\n",
            "Epoch 10/15\n",
            "1875/1875 [==============================] - 4s 2ms/step - loss: 2.3985 - accuracy: 0.1010\n",
            "Epoch 11/15\n",
            "1875/1875 [==============================] - 4s 2ms/step - loss: 2.4029 - accuracy: 0.1008\n",
            "Epoch 12/15\n",
            "1875/1875 [==============================] - 4s 2ms/step - loss: 2.3991 - accuracy: 0.1023\n",
            "Epoch 13/15\n",
            "1875/1875 [==============================] - 4s 2ms/step - loss: 2.3950 - accuracy: 0.1006\n",
            "Epoch 14/15\n",
            "1875/1875 [==============================] - 4s 2ms/step - loss: 2.4054 - accuracy: 0.0997\n",
            "Epoch 15/15\n",
            "1875/1875 [==============================] - 4s 2ms/step - loss: 2.3990 - accuracy: 0.1017\n",
            "313/313 [==============================] - 1s 2ms/step - loss: 2.3570 - accuracy: 0.0958\n",
            "for learning rate: 0.9 : Test accuracy: 0.0957999974489212\n",
            "Epoch 1/15\n",
            "1875/1875 [==============================] - 4s 2ms/step - loss: 2.3148 - accuracy: 0.1043\n",
            "Epoch 2/15\n",
            "1875/1875 [==============================] - 4s 2ms/step - loss: 2.3138 - accuracy: 0.1024\n",
            "Epoch 3/15\n",
            "1875/1875 [==============================] - 4s 2ms/step - loss: 2.3135 - accuracy: 0.1036\n",
            "Epoch 4/15\n",
            "1875/1875 [==============================] - 4s 2ms/step - loss: 2.3140 - accuracy: 0.1004\n",
            "Epoch 5/15\n",
            "1875/1875 [==============================] - 4s 2ms/step - loss: 2.3130 - accuracy: 0.1024\n",
            "Epoch 6/15\n",
            "1875/1875 [==============================] - 4s 2ms/step - loss: 2.3144 - accuracy: 0.1026\n",
            "Epoch 7/15\n",
            "1875/1875 [==============================] - 4s 2ms/step - loss: 2.3144 - accuracy: 0.1026\n",
            "Epoch 8/15\n",
            "1875/1875 [==============================] - 4s 2ms/step - loss: 2.3135 - accuracy: 0.1037\n",
            "Epoch 9/15\n",
            "1875/1875 [==============================] - 4s 2ms/step - loss: 2.3139 - accuracy: 0.1020\n",
            "Epoch 10/15\n",
            "1875/1875 [==============================] - 4s 2ms/step - loss: 2.3132 - accuracy: 0.1056\n",
            "Epoch 11/15\n",
            "1875/1875 [==============================] - 4s 2ms/step - loss: 2.3127 - accuracy: 0.1036\n",
            "Epoch 12/15\n",
            "1875/1875 [==============================] - 4s 2ms/step - loss: 2.3144 - accuracy: 0.1027\n",
            "Epoch 13/15\n",
            "1875/1875 [==============================] - 4s 2ms/step - loss: 2.3143 - accuracy: 0.1052\n",
            "Epoch 14/15\n",
            "1875/1875 [==============================] - 4s 2ms/step - loss: 2.3131 - accuracy: 0.1058\n",
            "Epoch 15/15\n",
            "1875/1875 [==============================] - 4s 2ms/step - loss: 2.3137 - accuracy: 0.1009\n",
            "313/313 [==============================] - 1s 2ms/step - loss: 2.3247 - accuracy: 0.1032\n",
            "for learning rate: 0.099 : Test accuracy: 0.10320000350475311\n"
          ],
          "name": "stdout"
        }
      ]
    },
    {
      "cell_type": "code",
      "metadata": {
        "id": "ZbT6RoTojfcS",
        "colab_type": "code",
        "colab": {},
        "outputId": "7746a56a-c6e7-4d54-e257-93d0b404bb6b"
      },
      "source": [
        "# Predict on the first 5 test images.\n",
        "predictions = model4.predict(test_images[:5])\n",
        "\n",
        "#Raw predictions\n",
        "predictions\n",
        "\n",
        "# Print our model's predictions\n",
        "print(np.argmax(predictions, axis=1))\n",
        "\n",
        "# Check our predictions against the ground truths\n",
        "print(test_labels[:5]) # [7, 2, 1, 0, 4]"
      ],
      "execution_count": null,
      "outputs": [
        {
          "output_type": "stream",
          "text": [
            "[1 1 1 1 1]\n",
            "[7 2 1 0 4]\n"
          ],
          "name": "stdout"
        }
      ]
    },
    {
      "cell_type": "markdown",
      "metadata": {
        "id": "IJYIJuByjfcV",
        "colab_type": "text"
      },
      "source": [
        "Since we see that the accurace aroun 0.003 is the best, we can try exploring values in that range."
      ]
    },
    {
      "cell_type": "code",
      "metadata": {
        "id": "ocdkwCKKjfcV",
        "colab_type": "code",
        "colab": {}
      },
      "source": [
        "#setup model\n",
        "model41 = keras.Sequential([\n",
        "    keras.layers.Flatten(input_shape=(28, 28)),\n",
        "    keras.layers.Dense(128, activation = 'relu'),\n",
        "    keras.layers.Dense(128, activation = 'relu'),\n",
        "    keras.layers.Dense(10, activation = tf.nn.softmax)\n",
        "])"
      ],
      "execution_count": null,
      "outputs": []
    },
    {
      "cell_type": "code",
      "metadata": {
        "id": "2rYtFG1PjfcW",
        "colab_type": "code",
        "colab": {},
        "outputId": "61bc1a06-cb4b-46c8-d771-a48d9db81e21"
      },
      "source": [
        "for lr in [0.003,0.005,0.007,0.009]:\n",
        "    #compile model\n",
        "    model41.compile(optimizer=keras.optimizers.Adam(learning_rate=lr),\n",
        "              loss='sparse_categorical_crossentropy',\n",
        "              metrics=['accuracy'])\n",
        "\n",
        "    #train model\n",
        "    model41.fit(train_images, train_labels, epochs=15)\n",
        "\n",
        "    #dir(history)\n",
        "    history.history\n",
        "\n",
        "    #evaluate\n",
        "    test_loss, test_acc = model41.evaluate(test_images,  test_labels)\n",
        "    print(f'for learning rate: {lr} : Test accuracy: {test_acc}')"
      ],
      "execution_count": null,
      "outputs": [
        {
          "output_type": "stream",
          "text": [
            "Epoch 1/15\n",
            "1875/1875 [==============================] - 2s 1ms/step - loss: 0.2098 - accuracy: 0.9356\n",
            "Epoch 2/15\n",
            "1875/1875 [==============================] - 2s 1ms/step - loss: 0.1066 - accuracy: 0.9675\n",
            "Epoch 3/15\n",
            "1875/1875 [==============================] - 2s 1ms/step - loss: 0.0822 - accuracy: 0.9749\n",
            "Epoch 4/15\n",
            "1875/1875 [==============================] - 2s 1ms/step - loss: 0.0697 - accuracy: 0.9790\n",
            "Epoch 5/15\n",
            "1875/1875 [==============================] - 2s 1ms/step - loss: 0.0625 - accuracy: 0.9813\n",
            "Epoch 6/15\n",
            "1875/1875 [==============================] - 2s 1ms/step - loss: 0.0523 - accuracy: 0.9837\n",
            "Epoch 7/15\n",
            "1875/1875 [==============================] - 2s 1ms/step - loss: 0.0471 - accuracy: 0.9858\n",
            "Epoch 8/15\n",
            "1875/1875 [==============================] - 2s 1ms/step - loss: 0.0428 - accuracy: 0.9870\n",
            "Epoch 9/15\n",
            "1875/1875 [==============================] - 3s 2ms/step - loss: 0.0414 - accuracy: 0.9877\n",
            "Epoch 10/15\n",
            "1875/1875 [==============================] - 3s 1ms/step - loss: 0.0418 - accuracy: 0.9884\n",
            "Epoch 11/15\n",
            "1875/1875 [==============================] - 2s 1ms/step - loss: 0.0366 - accuracy: 0.9893\n",
            "Epoch 12/15\n",
            "1875/1875 [==============================] - 3s 2ms/step - loss: 0.0376 - accuracy: 0.9898\n",
            "Epoch 13/15\n",
            "1875/1875 [==============================] - 2s 1ms/step - loss: 0.0365 - accuracy: 0.9904\n",
            "Epoch 14/15\n",
            "1875/1875 [==============================] - 2s 1ms/step - loss: 0.0341 - accuracy: 0.9906\n",
            "Epoch 15/15\n",
            "1875/1875 [==============================] - 2s 1ms/step - loss: 0.0319 - accuracy: 0.9913\n",
            "313/313 [==============================] - 1s 2ms/step - loss: 0.1763 - accuracy: 0.9747\n",
            "for learning rate: 0.003 : Test accuracy: 0.9746999740600586\n",
            "Epoch 1/15\n",
            "1875/1875 [==============================] - 2s 1ms/step - loss: 0.0928 - accuracy: 0.9804\n",
            "Epoch 2/15\n",
            "1875/1875 [==============================] - 2s 1ms/step - loss: 0.0741 - accuracy: 0.9828\n",
            "Epoch 3/15\n",
            "1875/1875 [==============================] - 3s 1ms/step - loss: 0.0693 - accuracy: 0.9837\n",
            "Epoch 4/15\n",
            "1875/1875 [==============================] - 3s 1ms/step - loss: 0.0655 - accuracy: 0.9840\n",
            "Epoch 5/15\n",
            "1875/1875 [==============================] - 3s 1ms/step - loss: 0.0751 - accuracy: 0.9831\n",
            "Epoch 6/15\n",
            "1875/1875 [==============================] - 2s 1ms/step - loss: 0.0650 - accuracy: 0.9847\n",
            "Epoch 7/15\n",
            "1875/1875 [==============================] - 3s 1ms/step - loss: 0.0698 - accuracy: 0.9842\n",
            "Epoch 8/15\n",
            "1875/1875 [==============================] - 3s 1ms/step - loss: 0.0627 - accuracy: 0.9854\n",
            "Epoch 9/15\n",
            "1875/1875 [==============================] - 2s 1ms/step - loss: 0.0635 - accuracy: 0.9861\n",
            "Epoch 10/15\n",
            "1875/1875 [==============================] - 3s 1ms/step - loss: 0.0578 - accuracy: 0.9872\n",
            "Epoch 11/15\n",
            "1875/1875 [==============================] - 2s 1ms/step - loss: 0.0555 - accuracy: 0.9872\n",
            "Epoch 12/15\n",
            "1875/1875 [==============================] - 2s 1ms/step - loss: 0.0531 - accuracy: 0.9875\n",
            "Epoch 13/15\n",
            "1875/1875 [==============================] - 2s 1ms/step - loss: 0.0538 - accuracy: 0.9879\n",
            "Epoch 14/15\n",
            "1875/1875 [==============================] - 3s 1ms/step - loss: 0.0498 - accuracy: 0.9891\n",
            "Epoch 15/15\n",
            "1875/1875 [==============================] - 2s 1ms/step - loss: 0.0511 - accuracy: 0.9888\n",
            "313/313 [==============================] - 0s 1ms/step - loss: 0.2623 - accuracy: 0.9700\n",
            "for learning rate: 0.005 : Test accuracy: 0.9700000286102295\n",
            "Epoch 1/15\n",
            "1875/1875 [==============================] - 2s 1ms/step - loss: 0.0943 - accuracy: 0.9828\n",
            "Epoch 2/15\n",
            "1875/1875 [==============================] - 3s 1ms/step - loss: 0.0943 - accuracy: 0.9816\n",
            "Epoch 3/15\n",
            "1875/1875 [==============================] - 3s 1ms/step - loss: 0.0820 - accuracy: 0.9828\n",
            "Epoch 4/15\n",
            "1875/1875 [==============================] - 3s 1ms/step - loss: 0.0875 - accuracy: 0.9827\n",
            "Epoch 5/15\n",
            "1875/1875 [==============================] - 3s 2ms/step - loss: 0.0779 - accuracy: 0.9844\n",
            "Epoch 6/15\n",
            "1875/1875 [==============================] - 3s 1ms/step - loss: 0.0755 - accuracy: 0.9840\n",
            "Epoch 7/15\n",
            "1875/1875 [==============================] - 3s 2ms/step - loss: 0.0779 - accuracy: 0.9838\n",
            "Epoch 8/15\n",
            "1875/1875 [==============================] - 2s 1ms/step - loss: 0.0683 - accuracy: 0.9855\n",
            "Epoch 9/15\n",
            "1875/1875 [==============================] - 2s 1ms/step - loss: 0.0760 - accuracy: 0.9842\n",
            "Epoch 10/15\n",
            "1875/1875 [==============================] - 3s 2ms/step - loss: 0.0732 - accuracy: 0.9847\n",
            "Epoch 11/15\n",
            "1875/1875 [==============================] - 3s 2ms/step - loss: 0.0646 - accuracy: 0.9868\n",
            "Epoch 12/15\n",
            "1875/1875 [==============================] - 3s 1ms/step - loss: 0.0692 - accuracy: 0.9863\n",
            "Epoch 13/15\n",
            "1875/1875 [==============================] - 3s 1ms/step - loss: 0.0582 - accuracy: 0.9877\n",
            "Epoch 14/15\n",
            "1875/1875 [==============================] - 3s 1ms/step - loss: 0.0643 - accuracy: 0.9862\n",
            "Epoch 15/15\n",
            "1875/1875 [==============================] - 3s 1ms/step - loss: 0.0720 - accuracy: 0.9867\n",
            "313/313 [==============================] - 0s 1ms/step - loss: 0.3497 - accuracy: 0.9725\n",
            "for learning rate: 0.007 : Test accuracy: 0.9725000262260437\n",
            "Epoch 1/15\n",
            "1875/1875 [==============================] - 3s 2ms/step - loss: 0.1114 - accuracy: 0.9823\n",
            "Epoch 2/15\n",
            "1875/1875 [==============================] - 2s 1ms/step - loss: 0.1215 - accuracy: 0.9792\n",
            "Epoch 3/15\n",
            "1875/1875 [==============================] - 3s 1ms/step - loss: 0.1035 - accuracy: 0.9800\n",
            "Epoch 4/15\n",
            "1875/1875 [==============================] - 3s 1ms/step - loss: 0.1077 - accuracy: 0.9801\n",
            "Epoch 5/15\n",
            "1875/1875 [==============================] - 3s 1ms/step - loss: 0.1088 - accuracy: 0.9777\n",
            "Epoch 6/15\n",
            "1875/1875 [==============================] - 3s 1ms/step - loss: 0.1020 - accuracy: 0.9791\n",
            "Epoch 7/15\n",
            "1875/1875 [==============================] - 3s 1ms/step - loss: 0.1145 - accuracy: 0.9775\n",
            "Epoch 8/15\n",
            "1875/1875 [==============================] - 3s 1ms/step - loss: 0.1007 - accuracy: 0.9798\n",
            "Epoch 9/15\n",
            "1875/1875 [==============================] - 3s 1ms/step - loss: 0.1044 - accuracy: 0.9784\n",
            "Epoch 10/15\n",
            "1875/1875 [==============================] - 3s 1ms/step - loss: 0.0987 - accuracy: 0.9812\n",
            "Epoch 11/15\n",
            "1875/1875 [==============================] - 3s 1ms/step - loss: 0.1082 - accuracy: 0.9797\n",
            "Epoch 12/15\n",
            "1875/1875 [==============================] - 3s 1ms/step - loss: 0.1043 - accuracy: 0.9791\n",
            "Epoch 13/15\n",
            "1875/1875 [==============================] - 3s 1ms/step - loss: 0.0921 - accuracy: 0.9808\n",
            "Epoch 14/15\n",
            "1875/1875 [==============================] - 3s 1ms/step - loss: 0.1029 - accuracy: 0.9783\n",
            "Epoch 15/15\n",
            "1875/1875 [==============================] - 3s 1ms/step - loss: 0.1145 - accuracy: 0.9748\n",
            "313/313 [==============================] - 0s 1ms/step - loss: 0.8251 - accuracy: 0.9563\n",
            "for learning rate: 0.009 : Test accuracy: 0.9563000202178955\n"
          ],
          "name": "stdout"
        }
      ]
    },
    {
      "cell_type": "markdown",
      "metadata": {
        "id": "ZINnV9UgjfcZ",
        "colab_type": "text"
      },
      "source": [
        "Still weird, 0.003 is the best value with accuracy = 97.46"
      ]
    },
    {
      "cell_type": "code",
      "metadata": {
        "id": "vUSJWDzJjfca",
        "colab_type": "code",
        "colab": {},
        "outputId": "8545f1e4-0a95-48b1-81d8-4b963161b8db"
      },
      "source": [
        "# Predict on the first 5 test images.\n",
        "predictions = model41.predict(test_images[:5])\n",
        "\n",
        "#Raw predictions\n",
        "predictions\n",
        "\n",
        "# Print our model's predictions\n",
        "print(np.argmax(predictions, axis=1))\n",
        "\n",
        "# Check our predictions against the ground truths\n",
        "print(test_labels[:5]) # [7, 2, 1, 0, 4]"
      ],
      "execution_count": null,
      "outputs": [
        {
          "output_type": "stream",
          "text": [
            "WARNING:tensorflow:6 out of the last 13 calls to <function Model.make_predict_function.<locals>.predict_function at 0x0000020A1D83E048> triggered tf.function retracing. Tracing is expensive and the excessive number of tracings could be due to (1) creating @tf.function repeatedly in a loop, (2) passing tensors with different shapes, (3) passing Python objects instead of tensors. For (1), please define your @tf.function outside of the loop. For (2), @tf.function has experimental_relax_shapes=True option that relaxes argument shapes that can avoid unnecessary retracing. For (3), please refer to https://www.tensorflow.org/tutorials/customization/performance#python_or_tensor_args and https://www.tensorflow.org/api_docs/python/tf/function for  more details.\n",
            "[7 2 1 0 4]\n",
            "[7 2 1 0 4]\n"
          ],
          "name": "stdout"
        }
      ]
    },
    {
      "cell_type": "markdown",
      "metadata": {
        "id": "BYjmSZIdjfcb",
        "colab_type": "text"
      },
      "source": [
        "## Model #5: Learning Rate Decay Call Back Function"
      ]
    },
    {
      "cell_type": "code",
      "metadata": {
        "id": "9NfLHdFdjfcb",
        "colab_type": "code",
        "colab": {}
      },
      "source": [
        "import math\n",
        "def lr_decay(epoch):\n",
        "    return 0.01 * math.pow(0.6,epoch)\n",
        "\n",
        "lr_decay_callback = keras.callbacks.LearningRateScheduler(lr_decay,verbose=True)"
      ],
      "execution_count": null,
      "outputs": []
    },
    {
      "cell_type": "code",
      "metadata": {
        "id": "BhoAUBNrjfcc",
        "colab_type": "code",
        "colab": {}
      },
      "source": [
        "#setup model\n",
        "model5 = keras.Sequential([\n",
        "    keras.layers.Flatten(input_shape=(28, 28)),\n",
        "    keras.layers.Dense(128, activation = 'relu'),\n",
        "    keras.layers.Dense(128, activation = 'relu'),\n",
        "    keras.layers.Dense(10, activation = tf.nn.softmax)\n",
        "])"
      ],
      "execution_count": null,
      "outputs": []
    },
    {
      "cell_type": "code",
      "metadata": {
        "id": "-MHs-rGpjfce",
        "colab_type": "code",
        "colab": {}
      },
      "source": [
        "#compile model\n",
        "model5.compile(optimizer='adam',\n",
        "          loss='sparse_categorical_crossentropy',\n",
        "          metrics=['accuracy'])"
      ],
      "execution_count": null,
      "outputs": []
    },
    {
      "cell_type": "code",
      "metadata": {
        "id": "yJ-Vst22jfcf",
        "colab_type": "code",
        "colab": {},
        "outputId": "4a7da56d-443a-4313-d31b-3f7d9c6747cc"
      },
      "source": [
        "#train model\n",
        "model5.fit(train_images, train_labels, epochs=15,callbacks=[lr_decay_callback])"
      ],
      "execution_count": null,
      "outputs": [
        {
          "output_type": "stream",
          "text": [
            "\n",
            "Epoch 00001: LearningRateScheduler reducing learning rate to 0.01.\n",
            "Epoch 1/15\n",
            "1875/1875 [==============================] - 2s 1ms/step - loss: 0.2769 - accuracy: 0.9197\n",
            "\n",
            "Epoch 00002: LearningRateScheduler reducing learning rate to 0.006.\n",
            "Epoch 2/15\n",
            "1875/1875 [==============================] - 2s 1ms/step - loss: 0.1369 - accuracy: 0.9610\n",
            "\n",
            "Epoch 00003: LearningRateScheduler reducing learning rate to 0.0036.\n",
            "Epoch 3/15\n",
            "1875/1875 [==============================] - 2s 1ms/step - loss: 0.0875 - accuracy: 0.9746\n",
            "\n",
            "Epoch 00004: LearningRateScheduler reducing learning rate to 0.0021599999999999996.\n",
            "Epoch 4/15\n",
            "1875/1875 [==============================] - 2s 1ms/step - loss: 0.0559 - accuracy: 0.9827\n",
            "\n",
            "Epoch 00005: LearningRateScheduler reducing learning rate to 0.001296.\n",
            "Epoch 5/15\n",
            "1875/1875 [==============================] - 3s 1ms/step - loss: 0.0342 - accuracy: 0.9893\n",
            "\n",
            "Epoch 00006: LearningRateScheduler reducing learning rate to 0.0007775999999999998.\n",
            "Epoch 6/15\n",
            "1875/1875 [==============================] - 3s 2ms/step - loss: 0.0228 - accuracy: 0.9929\n",
            "\n",
            "Epoch 00007: LearningRateScheduler reducing learning rate to 0.0004665599999999999.\n",
            "Epoch 7/15\n",
            "1875/1875 [==============================] - 4s 2ms/step - loss: 0.0162 - accuracy: 0.9953\n",
            "\n",
            "Epoch 00008: LearningRateScheduler reducing learning rate to 0.00027993599999999994.\n",
            "Epoch 8/15\n",
            "1875/1875 [==============================] - 4s 2ms/step - loss: 0.0125 - accuracy: 0.9966\n",
            "\n",
            "Epoch 00009: LearningRateScheduler reducing learning rate to 0.00016796159999999993.\n",
            "Epoch 9/15\n",
            "1875/1875 [==============================] - 3s 2ms/step - loss: 0.0103 - accuracy: 0.9973\n",
            "\n",
            "Epoch 00010: LearningRateScheduler reducing learning rate to 0.00010077695999999997.\n",
            "Epoch 10/15\n",
            "1875/1875 [==============================] - 4s 2ms/step - loss: 0.0091 - accuracy: 0.9978\n",
            "\n",
            "Epoch 00011: LearningRateScheduler reducing learning rate to 6.0466175999999974e-05.\n",
            "Epoch 11/15\n",
            "1875/1875 [==============================] - 4s 2ms/step - loss: 0.0083 - accuracy: 0.9979\n",
            "\n",
            "Epoch 00012: LearningRateScheduler reducing learning rate to 3.627970559999999e-05.\n",
            "Epoch 12/15\n",
            "1875/1875 [==============================] - 4s 2ms/step - loss: 0.0079 - accuracy: 0.9980\n",
            "\n",
            "Epoch 00013: LearningRateScheduler reducing learning rate to 2.1767823359999992e-05.\n",
            "Epoch 13/15\n",
            "1875/1875 [==============================] - 3s 2ms/step - loss: 0.0076 - accuracy: 0.9981\n",
            "\n",
            "Epoch 00014: LearningRateScheduler reducing learning rate to 1.3060694015999994e-05.\n",
            "Epoch 14/15\n",
            "1875/1875 [==============================] - 4s 2ms/step - loss: 0.0074 - accuracy: 0.9981\n",
            "\n",
            "Epoch 00015: LearningRateScheduler reducing learning rate to 7.836416409599996e-06.\n",
            "Epoch 15/15\n",
            "1875/1875 [==============================] - 4s 2ms/step - loss: 0.0073 - accuracy: 0.9981\n"
          ],
          "name": "stdout"
        },
        {
          "output_type": "execute_result",
          "data": {
            "text/plain": [
              "<tensorflow.python.keras.callbacks.History at 0x20a1d96bcc8>"
            ]
          },
          "metadata": {
            "tags": []
          },
          "execution_count": 91
        }
      ]
    },
    {
      "cell_type": "code",
      "metadata": {
        "id": "UAMRKVLKjfch",
        "colab_type": "code",
        "colab": {},
        "outputId": "99dc17f0-c419-4934-901b-a007d956a9f6"
      },
      "source": [
        "#dir(history)\n",
        "history.history"
      ],
      "execution_count": null,
      "outputs": [
        {
          "output_type": "execute_result",
          "data": {
            "text/plain": [
              "{'loss': [0.7744966745376587,\n",
              "  0.4553094506263733,\n",
              "  0.402904748916626,\n",
              "  0.37675154209136963,\n",
              "  0.360068142414093,\n",
              "  0.3482522666454315,\n",
              "  0.33931803703308105,\n",
              "  0.33216139674186707,\n",
              "  0.3263208866119385,\n",
              "  0.321297824382782,\n",
              "  0.31721925735473633,\n",
              "  0.31356653571128845,\n",
              "  0.3103366494178772,\n",
              "  0.3074551820755005,\n",
              "  0.30484145879745483],\n",
              " 'accuracy': [0.8199833035469055,\n",
              "  0.8814333081245422,\n",
              "  0.8918499946594238,\n",
              "  0.8973833322525024,\n",
              "  0.9013166427612305,\n",
              "  0.9036833047866821,\n",
              "  0.9057499766349792,\n",
              "  0.9074000120162964,\n",
              "  0.9089999794960022,\n",
              "  0.9106000065803528,\n",
              "  0.9115166664123535,\n",
              "  0.9131500124931335,\n",
              "  0.9140166640281677,\n",
              "  0.915066659450531,\n",
              "  0.915316641330719]}"
            ]
          },
          "metadata": {
            "tags": []
          },
          "execution_count": 92
        }
      ]
    },
    {
      "cell_type": "code",
      "metadata": {
        "id": "ZqxtUh9Ojfci",
        "colab_type": "code",
        "colab": {},
        "outputId": "3d340834-5d29-4dad-c1b3-98389e3aa691"
      },
      "source": [
        "#evaluate\n",
        "test_loss, test_acc = model5.evaluate(test_images,  test_labels)\n",
        "print('\\nTest accuracy:', test_acc)"
      ],
      "execution_count": null,
      "outputs": [
        {
          "output_type": "stream",
          "text": [
            "313/313 [==============================] - 1s 2ms/step - loss: 0.1070 - accuracy: 0.9786\n",
            "\n",
            "Test accuracy: 0.978600025177002\n"
          ],
          "name": "stdout"
        }
      ]
    },
    {
      "cell_type": "code",
      "metadata": {
        "id": "eb7t3Iw3jfcj",
        "colab_type": "code",
        "colab": {}
      },
      "source": [
        "# Predict on the first 5 test images.\n",
        "predictions = model5.predict(test_images[:5])"
      ],
      "execution_count": null,
      "outputs": []
    },
    {
      "cell_type": "code",
      "metadata": {
        "id": "IHaAQwtjjfcl",
        "colab_type": "code",
        "colab": {},
        "outputId": "f3a05c74-f22b-49b7-bb64-f72aff7b5771"
      },
      "source": [
        "#Raw predictions\n",
        "predictions"
      ],
      "execution_count": null,
      "outputs": [
        {
          "output_type": "execute_result",
          "data": {
            "text/plain": [
              "array([[2.2928355e-13, 1.0564217e-08, 1.0767853e-08, 4.8878035e-10,\n",
              "        6.1932474e-15, 9.8376118e-15, 3.3744430e-19, 1.0000000e+00,\n",
              "        1.9511835e-11, 4.1509750e-08],\n",
              "       [1.1215516e-20, 1.2560490e-13, 1.0000000e+00, 5.7819266e-13,\n",
              "        9.6534242e-27, 1.2331421e-20, 6.5731358e-24, 8.4244209e-21,\n",
              "        9.7911168e-14, 1.5850135e-25],\n",
              "       [5.4185744e-12, 9.9998903e-01, 1.8950320e-06, 1.2045744e-09,\n",
              "        1.6154329e-08, 3.7335180e-11, 5.7483369e-09, 8.7459839e-06,\n",
              "        1.8242002e-07, 1.0011896e-11],\n",
              "       [1.0000000e+00, 6.4671098e-12, 9.9057396e-10, 7.1977583e-16,\n",
              "        2.8279757e-17, 1.2494674e-11, 7.9292251e-10, 5.7448457e-10,\n",
              "        5.2910813e-16, 5.0651829e-16],\n",
              "       [8.1709173e-10, 1.2238697e-14, 3.0198795e-12, 2.9030829e-19,\n",
              "        9.9999845e-01, 2.9877213e-16, 1.7107191e-14, 5.0540656e-09,\n",
              "        2.8402995e-11, 1.5808507e-06]], dtype=float32)"
            ]
          },
          "metadata": {
            "tags": []
          },
          "execution_count": 67
        }
      ]
    },
    {
      "cell_type": "code",
      "metadata": {
        "id": "gR-y_rRsjfcm",
        "colab_type": "code",
        "colab": {},
        "outputId": "d8c29d89-3c7d-4e73-bef0-0f5811e9ef33"
      },
      "source": [
        "# Print our model's predictions\n",
        "print(np.argmax(predictions, axis=1))"
      ],
      "execution_count": null,
      "outputs": [
        {
          "output_type": "stream",
          "text": [
            "[7 2 1 0 4]\n"
          ],
          "name": "stdout"
        }
      ]
    },
    {
      "cell_type": "code",
      "metadata": {
        "id": "NyUjvwLTjfcn",
        "colab_type": "code",
        "colab": {},
        "outputId": "981da4c2-b8dd-4278-f74c-9e4fd23b7d52"
      },
      "source": [
        "# Check our predictions against the ground truths\n",
        "print(test_labels[:5]) # [7, 2, 1, 0, 4]"
      ],
      "execution_count": null,
      "outputs": [
        {
          "output_type": "stream",
          "text": [
            "[7 2 1 0 4]\n"
          ],
          "name": "stdout"
        }
      ]
    },
    {
      "cell_type": "markdown",
      "metadata": {
        "id": "Mp5txB03jfco",
        "colab_type": "text"
      },
      "source": [
        "## Model #6 : Adding dropout layers"
      ]
    },
    {
      "cell_type": "markdown",
      "metadata": {
        "id": "mDFejFKojfco",
        "colab_type": "text"
      },
      "source": [
        "This didn't increase the performance much higher than our 2 layer network, now let us try adding drop out layers"
      ]
    },
    {
      "cell_type": "code",
      "metadata": {
        "id": "5KZ35X8ijfcp",
        "colab_type": "code",
        "colab": {}
      },
      "source": [
        "import math\n",
        "def lr_decay(epoch):\n",
        "    return 0.01 * math.pow(0.6,epoch)\n",
        "\n",
        "lr_decay_callback = keras.callbacks.LearningRateScheduler(lr_decay,verbose=True)"
      ],
      "execution_count": null,
      "outputs": []
    },
    {
      "cell_type": "code",
      "metadata": {
        "id": "N9HQ_Xhqjfcq",
        "colab_type": "code",
        "colab": {}
      },
      "source": [
        "#setup model\n",
        "model6 = keras.Sequential([\n",
        "    keras.layers.Flatten(input_shape=(28, 28)),\n",
        "    keras.layers.Dense(128, activation = 'relu'),\n",
        "    keras.layers.Dropout(0.25),\n",
        "    keras.layers.Dense(128, activation = 'relu'),\n",
        "    keras.layers.Dropout(0.25),\n",
        "    keras.layers.Dense(10, activation = tf.nn.softmax)\n",
        "])"
      ],
      "execution_count": null,
      "outputs": []
    },
    {
      "cell_type": "code",
      "metadata": {
        "id": "e5bRskkgjfct",
        "colab_type": "code",
        "colab": {}
      },
      "source": [
        "#compile model\n",
        "model6.compile(optimizer='adam',\n",
        "          loss='sparse_categorical_crossentropy',\n",
        "          metrics=['accuracy'])"
      ],
      "execution_count": null,
      "outputs": []
    },
    {
      "cell_type": "code",
      "metadata": {
        "id": "qAkxDDUyjfcu",
        "colab_type": "code",
        "colab": {},
        "outputId": "a2163e54-3efd-4ded-c378-0f23f38c74b6"
      },
      "source": [
        "#train model\n",
        "model6.fit(train_images, train_labels, epochs=15,callbacks=[lr_decay_callback])"
      ],
      "execution_count": null,
      "outputs": [
        {
          "output_type": "stream",
          "text": [
            "\n",
            "Epoch 00001: LearningRateScheduler reducing learning rate to 0.01.\n",
            "Epoch 1/15\n",
            "1875/1875 [==============================] - 2s 1ms/step - loss: 0.4744 - accuracy: 0.8667\n",
            "\n",
            "Epoch 00002: LearningRateScheduler reducing learning rate to 0.006.\n",
            "Epoch 2/15\n",
            "1875/1875 [==============================] - 2s 1ms/step - loss: 0.2991 - accuracy: 0.9189\n",
            "\n",
            "Epoch 00003: LearningRateScheduler reducing learning rate to 0.0036.\n",
            "Epoch 3/15\n",
            "1875/1875 [==============================] - 2s 1ms/step - loss: 0.2303 - accuracy: 0.9354\n",
            "\n",
            "Epoch 00004: LearningRateScheduler reducing learning rate to 0.0021599999999999996.\n",
            "Epoch 4/15\n",
            "1875/1875 [==============================] - 2s 1ms/step - loss: 0.1881 - accuracy: 0.9472\n",
            "\n",
            "Epoch 00005: LearningRateScheduler reducing learning rate to 0.001296.\n",
            "Epoch 5/15\n",
            "1875/1875 [==============================] - 2s 1ms/step - loss: 0.1614 - accuracy: 0.9535\n",
            "\n",
            "Epoch 00006: LearningRateScheduler reducing learning rate to 0.0007775999999999998.\n",
            "Epoch 6/15\n",
            "1875/1875 [==============================] - 3s 1ms/step - loss: 0.1427 - accuracy: 0.9577\n",
            "\n",
            "Epoch 00007: LearningRateScheduler reducing learning rate to 0.0004665599999999999.\n",
            "Epoch 7/15\n",
            "1875/1875 [==============================] - 3s 2ms/step - loss: 0.1341 - accuracy: 0.9604\n",
            "\n",
            "Epoch 00008: LearningRateScheduler reducing learning rate to 0.00027993599999999994.\n",
            "Epoch 8/15\n",
            "1875/1875 [==============================] - 3s 1ms/step - loss: 0.1267 - accuracy: 0.9625\n",
            "\n",
            "Epoch 00009: LearningRateScheduler reducing learning rate to 0.00016796159999999993.\n",
            "Epoch 9/15\n",
            "1875/1875 [==============================] - 2s 1ms/step - loss: 0.1233 - accuracy: 0.9635\n",
            "\n",
            "Epoch 00010: LearningRateScheduler reducing learning rate to 0.00010077695999999997.\n",
            "Epoch 10/15\n",
            "1875/1875 [==============================] - 2s 1ms/step - loss: 0.1225 - accuracy: 0.9638\n",
            "\n",
            "Epoch 00011: LearningRateScheduler reducing learning rate to 6.0466175999999974e-05.\n",
            "Epoch 11/15\n",
            "1875/1875 [==============================] - 2s 1ms/step - loss: 0.1206 - accuracy: 0.9638\n",
            "\n",
            "Epoch 00012: LearningRateScheduler reducing learning rate to 3.627970559999999e-05.\n",
            "Epoch 12/15\n",
            "1875/1875 [==============================] - 3s 1ms/step - loss: 0.1207 - accuracy: 0.9639\n",
            "\n",
            "Epoch 00013: LearningRateScheduler reducing learning rate to 2.1767823359999992e-05.\n",
            "Epoch 13/15\n",
            "1875/1875 [==============================] - 3s 1ms/step - loss: 0.1198 - accuracy: 0.9639\n",
            "\n",
            "Epoch 00014: LearningRateScheduler reducing learning rate to 1.3060694015999994e-05.\n",
            "Epoch 14/15\n",
            "1875/1875 [==============================] - 3s 1ms/step - loss: 0.1196 - accuracy: 0.9647\n",
            "\n",
            "Epoch 00015: LearningRateScheduler reducing learning rate to 7.836416409599996e-06.\n",
            "Epoch 15/15\n",
            "1875/1875 [==============================] - 2s 1ms/step - loss: 0.1213 - accuracy: 0.9637\n"
          ],
          "name": "stdout"
        },
        {
          "output_type": "execute_result",
          "data": {
            "text/plain": [
              "<tensorflow.python.keras.callbacks.History at 0x20a1dc3cb48>"
            ]
          },
          "metadata": {
            "tags": []
          },
          "execution_count": 97
        }
      ]
    },
    {
      "cell_type": "code",
      "metadata": {
        "id": "xDUBDYnsjfcv",
        "colab_type": "code",
        "colab": {},
        "outputId": "414016ae-4ced-4b54-84bb-69b4ed413e1e"
      },
      "source": [
        "#dir(history)\n",
        "history.history"
      ],
      "execution_count": null,
      "outputs": [
        {
          "output_type": "execute_result",
          "data": {
            "text/plain": [
              "{'loss': [0.7744966745376587,\n",
              "  0.4553094506263733,\n",
              "  0.402904748916626,\n",
              "  0.37675154209136963,\n",
              "  0.360068142414093,\n",
              "  0.3482522666454315,\n",
              "  0.33931803703308105,\n",
              "  0.33216139674186707,\n",
              "  0.3263208866119385,\n",
              "  0.321297824382782,\n",
              "  0.31721925735473633,\n",
              "  0.31356653571128845,\n",
              "  0.3103366494178772,\n",
              "  0.3074551820755005,\n",
              "  0.30484145879745483],\n",
              " 'accuracy': [0.8199833035469055,\n",
              "  0.8814333081245422,\n",
              "  0.8918499946594238,\n",
              "  0.8973833322525024,\n",
              "  0.9013166427612305,\n",
              "  0.9036833047866821,\n",
              "  0.9057499766349792,\n",
              "  0.9074000120162964,\n",
              "  0.9089999794960022,\n",
              "  0.9106000065803528,\n",
              "  0.9115166664123535,\n",
              "  0.9131500124931335,\n",
              "  0.9140166640281677,\n",
              "  0.915066659450531,\n",
              "  0.915316641330719]}"
            ]
          },
          "metadata": {
            "tags": []
          },
          "execution_count": 98
        }
      ]
    },
    {
      "cell_type": "code",
      "metadata": {
        "id": "ogNWBNRYjfcx",
        "colab_type": "code",
        "colab": {},
        "outputId": "ff82a923-70f5-4593-9681-0e5b03bcc2bb"
      },
      "source": [
        "#evaluate\n",
        "test_loss, test_acc = model5.evaluate(test_images,  test_labels)\n",
        "print('\\nTest accuracy:', test_acc)"
      ],
      "execution_count": null,
      "outputs": [
        {
          "output_type": "stream",
          "text": [
            "313/313 [==============================] - 1s 2ms/step - loss: 0.1070 - accuracy: 0.9786\n",
            "\n",
            "Test accuracy: 0.978600025177002\n"
          ],
          "name": "stdout"
        }
      ]
    },
    {
      "cell_type": "code",
      "metadata": {
        "id": "ugBfGCZdjfcz",
        "colab_type": "code",
        "colab": {}
      },
      "source": [
        "# Predict on the first 5 test images.\n",
        "predictions = model6.predict(test_images[:5])"
      ],
      "execution_count": null,
      "outputs": []
    },
    {
      "cell_type": "code",
      "metadata": {
        "id": "jCNH1ZTrjfc1",
        "colab_type": "code",
        "colab": {},
        "outputId": "80d3b830-c59a-45ff-e793-914ff1b42a36"
      },
      "source": [
        "#Raw predictions\n",
        "predictions"
      ],
      "execution_count": null,
      "outputs": [
        {
          "output_type": "execute_result",
          "data": {
            "text/plain": [
              "array([[6.3150554e-13, 2.4647166e-11, 1.0940240e-08, 9.6726609e-09,\n",
              "        1.4008019e-09, 4.9387622e-11, 5.3494877e-21, 9.9999809e-01,\n",
              "        7.2885127e-15, 1.8830224e-06],\n",
              "       [1.2051256e-09, 7.1458978e-04, 9.9917644e-01, 8.9442328e-05,\n",
              "        2.5940569e-10, 1.9257165e-08, 1.2127187e-09, 1.8187713e-05,\n",
              "        1.3230484e-06, 3.8495303e-13],\n",
              "       [7.9323017e-19, 9.9999952e-01, 2.1289546e-13, 1.3772233e-12,\n",
              "        1.9057420e-09, 2.0326343e-12, 3.6850570e-12, 4.2401754e-07,\n",
              "        3.4652398e-08, 4.5222489e-12],\n",
              "       [9.9998438e-01, 2.6231689e-20, 2.1760754e-07, 9.1002885e-09,\n",
              "        8.0106606e-09, 3.3857009e-06, 5.0838380e-06, 4.4168247e-09,\n",
              "        1.9793354e-09, 6.8763211e-06],\n",
              "       [5.7425915e-08, 3.1153922e-07, 2.4018238e-06, 3.4222283e-09,\n",
              "        9.9978966e-01, 1.3571064e-07, 3.0250439e-07, 1.9755407e-05,\n",
              "        9.0138137e-08, 1.8736135e-04]], dtype=float32)"
            ]
          },
          "metadata": {
            "tags": []
          },
          "execution_count": 102
        }
      ]
    },
    {
      "cell_type": "code",
      "metadata": {
        "id": "rVPuycm0jfc3",
        "colab_type": "code",
        "colab": {},
        "outputId": "9cb0cb63-914f-4463-cb2c-90f7923ce02c"
      },
      "source": [
        "# Print our model's predictions\n",
        "print(np.argmax(predictions, axis=1))"
      ],
      "execution_count": null,
      "outputs": [
        {
          "output_type": "stream",
          "text": [
            "[7 2 1 0 4]\n"
          ],
          "name": "stdout"
        }
      ]
    },
    {
      "cell_type": "code",
      "metadata": {
        "id": "jaCdIYZAjfc5",
        "colab_type": "code",
        "colab": {},
        "outputId": "e3816e91-9ba3-4023-9f72-1bcfd900e8f7"
      },
      "source": [
        "# Check our predictions against the ground truths\n",
        "print(test_labels[:5]) # [7, 2, 1, 0, 4]"
      ],
      "execution_count": null,
      "outputs": [
        {
          "output_type": "stream",
          "text": [
            "[7 2 1 0 4]\n"
          ],
          "name": "stdout"
        }
      ]
    },
    {
      "cell_type": "markdown",
      "metadata": {
        "id": "wMkTU1iOjfc6",
        "colab_type": "text"
      },
      "source": [
        "## Comparison Table"
      ]
    },
    {
      "cell_type": "markdown",
      "metadata": {
        "id": "QWTkvn13jfc7",
        "colab_type": "text"
      },
      "source": [
        "| Approach | Accuracy(%) |\n",
        "|---|---|\n",
        "| Base Model | 90.78 |\n",
        "| Epoch inc to 15| 91.72 |\n",
        "| ADAM Optimizer | 92.65 |\n",
        "| 128 - Dense layer | 97.79 |\n",
        "| 2 128 - Dense layers | 97.87   |\n",
        "| Best of learning rate loop: 0.003 | 97.44  |\n",
        "| with Learning Rate Decay | 97.86  |\n",
        "| with Dropout layers | 97.86  |"
      ]
    },
    {
      "cell_type": "markdown",
      "metadata": {
        "id": "gMDN8nUjjfc7",
        "colab_type": "text"
      },
      "source": [
        "**Conclusion**:\n",
        "With Fully Connected DNNs, we seem to hit a cap of 97.86 no matter what we do. To get this to 99.3% we must incolve Conv2D , CNNs with Dropout layers. "
      ]
    },
    {
      "cell_type": "markdown",
      "metadata": {
        "id": "IyeoGhoTjfc7",
        "colab_type": "text"
      },
      "source": [
        "# Convolutional Neural Networks "
      ]
    },
    {
      "cell_type": "code",
      "metadata": {
        "id": "fd0TGq_ejfc8",
        "colab_type": "code",
        "colab": {}
      },
      "source": [
        "train_images = train_images.reshape(train_images.shape[0],28,28,1)\n",
        "test_images = test_images.reshape(test_images.shape[0],28,28,1)"
      ],
      "execution_count": 11,
      "outputs": []
    },
    {
      "cell_type": "code",
      "metadata": {
        "id": "HE7gNSmNjfc9",
        "colab_type": "code",
        "colab": {}
      },
      "source": [
        "import math\n",
        "def lr_decay(epoch):\n",
        "    return 0.01 * math.pow(0.6,epoch)\n",
        "\n",
        "lr_decay_callback = keras.callbacks.LearningRateScheduler(lr_decay,verbose=True)"
      ],
      "execution_count": null,
      "outputs": []
    },
    {
      "cell_type": "markdown",
      "metadata": {
        "id": "_0EChA1zyXBA",
        "colab_type": "text"
      },
      "source": [
        "# 98.48"
      ]
    },
    {
      "cell_type": "code",
      "metadata": {
        "id": "CZ_3Wj0Xjfc-",
        "colab_type": "code",
        "colab": {}
      },
      "source": [
        "#setup model\n",
        "cnnmodel1 = keras.Sequential([\n",
        "    keras.layers.Conv2D(kernel_size=3,filters=12,activation='relu',padding='same',input_shape=(28,28,1)),\n",
        "    keras.layers.MaxPooling2D(pool_size=(2,2)),\n",
        "    keras.layers.Conv2D(kernel_size=6,filters=24,activation='relu',padding='same',strides=3),\n",
        "    keras.layers.MaxPooling2D(pool_size=(2,2)),\n",
        "    keras.layers.Conv2D(kernel_size=6,filters=32,activation='relu',padding='same',strides=3),\n",
        "    keras.layers.Flatten(),\n",
        "    keras.layers.Dense(128, activation='relu'),\n",
        "    keras.layers.Dense(10, activation = tf.nn.softmax)    \n",
        "])"
      ],
      "execution_count": null,
      "outputs": []
    },
    {
      "cell_type": "code",
      "metadata": {
        "id": "XwKPax_Hjfc_",
        "colab_type": "code",
        "colab": {}
      },
      "source": [
        "#compile model\n",
        "cnnmodel1.compile(optimizer='adam',\n",
        "          loss='sparse_categorical_crossentropy',\n",
        "          metrics=['accuracy'])"
      ],
      "execution_count": null,
      "outputs": []
    },
    {
      "cell_type": "code",
      "metadata": {
        "id": "EFGs4ABDjfdB",
        "colab_type": "code",
        "colab": {
          "base_uri": "https://localhost:8080/",
          "height": 1000
        },
        "outputId": "de6206c0-6b8d-43d3-89e7-0a021a7b8c37"
      },
      "source": [
        "#train model\n",
        "cnnmodel1.fit(train_images, train_labels, epochs=15,callbacks=[lr_decay_callback])"
      ],
      "execution_count": null,
      "outputs": [
        {
          "output_type": "stream",
          "text": [
            "\n",
            "Epoch 00001: LearningRateScheduler reducing learning rate to 0.01.\n",
            "Epoch 1/15\n",
            "1875/1875 [==============================] - 32s 17ms/step - loss: 0.2312 - accuracy: 0.9286\n",
            "\n",
            "Epoch 00002: LearningRateScheduler reducing learning rate to 0.006.\n",
            "Epoch 2/15\n",
            "1875/1875 [==============================] - 33s 18ms/step - loss: 0.0968 - accuracy: 0.9715\n",
            "\n",
            "Epoch 00003: LearningRateScheduler reducing learning rate to 0.0036.\n",
            "Epoch 3/15\n",
            "1875/1875 [==============================] - 33s 18ms/step - loss: 0.0633 - accuracy: 0.9817\n",
            "\n",
            "Epoch 00004: LearningRateScheduler reducing learning rate to 0.0021599999999999996.\n",
            "Epoch 4/15\n",
            "1875/1875 [==============================] - 34s 18ms/step - loss: 0.0426 - accuracy: 0.9871\n",
            "\n",
            "Epoch 00005: LearningRateScheduler reducing learning rate to 0.001296.\n",
            "Epoch 5/15\n",
            "1875/1875 [==============================] - 33s 18ms/step - loss: 0.0321 - accuracy: 0.9898\n",
            "\n",
            "Epoch 00006: LearningRateScheduler reducing learning rate to 0.0007775999999999998.\n",
            "Epoch 6/15\n",
            "1875/1875 [==============================] - 34s 18ms/step - loss: 0.0227 - accuracy: 0.9931\n",
            "\n",
            "Epoch 00007: LearningRateScheduler reducing learning rate to 0.0004665599999999999.\n",
            "Epoch 7/15\n",
            "1875/1875 [==============================] - 33s 17ms/step - loss: 0.0172 - accuracy: 0.9948\n",
            "\n",
            "Epoch 00008: LearningRateScheduler reducing learning rate to 0.00027993599999999994.\n",
            "Epoch 8/15\n",
            "1875/1875 [==============================] - 32s 17ms/step - loss: 0.0141 - accuracy: 0.9961\n",
            "\n",
            "Epoch 00009: LearningRateScheduler reducing learning rate to 0.00016796159999999993.\n",
            "Epoch 9/15\n",
            "1875/1875 [==============================] - 35s 19ms/step - loss: 0.0123 - accuracy: 0.9966\n",
            "\n",
            "Epoch 00010: LearningRateScheduler reducing learning rate to 0.00010077695999999997.\n",
            "Epoch 10/15\n",
            "1875/1875 [==============================] - 32s 17ms/step - loss: 0.0112 - accuracy: 0.9971\n",
            "\n",
            "Epoch 00011: LearningRateScheduler reducing learning rate to 6.0466175999999974e-05.\n",
            "Epoch 11/15\n",
            "1875/1875 [==============================] - 33s 17ms/step - loss: 0.0104 - accuracy: 0.9974\n",
            "\n",
            "Epoch 00012: LearningRateScheduler reducing learning rate to 3.627970559999999e-05.\n",
            "Epoch 12/15\n",
            "1875/1875 [==============================] - 33s 17ms/step - loss: 0.0100 - accuracy: 0.9975\n",
            "\n",
            "Epoch 00013: LearningRateScheduler reducing learning rate to 2.1767823359999992e-05.\n",
            "Epoch 13/15\n",
            "1875/1875 [==============================] - 32s 17ms/step - loss: 0.0098 - accuracy: 0.9976\n",
            "\n",
            "Epoch 00014: LearningRateScheduler reducing learning rate to 1.3060694015999994e-05.\n",
            "Epoch 14/15\n",
            "1875/1875 [==============================] - 33s 17ms/step - loss: 0.0096 - accuracy: 0.9976\n",
            "\n",
            "Epoch 00015: LearningRateScheduler reducing learning rate to 7.836416409599996e-06.\n",
            "Epoch 15/15\n",
            "1875/1875 [==============================] - 33s 18ms/step - loss: 0.0095 - accuracy: 0.9977\n"
          ],
          "name": "stdout"
        },
        {
          "output_type": "execute_result",
          "data": {
            "text/plain": [
              "<tensorflow.python.keras.callbacks.History at 0x7fc37a21ea20>"
            ]
          },
          "metadata": {
            "tags": []
          },
          "execution_count": 20
        }
      ]
    },
    {
      "cell_type": "code",
      "metadata": {
        "id": "8kq6whM0jfdF",
        "colab_type": "code",
        "colab": {
          "base_uri": "https://localhost:8080/",
          "height": 67
        },
        "outputId": "0686a69f-bc1c-4911-b09b-e21269c29534"
      },
      "source": [
        "#evaluate\n",
        "test_loss, test_acc = cnnmodel1.evaluate(test_images,  test_labels)\n",
        "print('\\nTest accuracy:', test_acc)"
      ],
      "execution_count": null,
      "outputs": [
        {
          "output_type": "stream",
          "text": [
            "313/313 [==============================] - 3s 8ms/step - loss: 0.0674 - accuracy: 0.9849\n",
            "\n",
            "Test accuracy: 0.9848999977111816\n"
          ],
          "name": "stdout"
        }
      ]
    },
    {
      "cell_type": "code",
      "metadata": {
        "id": "vNTv0oZ0jfdG",
        "colab_type": "code",
        "colab": {}
      },
      "source": [
        "# Predict on the first 5 test images.\n",
        "predictions = cnnmodel1.predict(test_images[:5])"
      ],
      "execution_count": null,
      "outputs": []
    },
    {
      "cell_type": "code",
      "metadata": {
        "id": "K6oxd6UZjfdH",
        "colab_type": "code",
        "colab": {
          "base_uri": "https://localhost:8080/",
          "height": 269
        },
        "outputId": "ab2d92cf-ba80-4abd-973f-a4ddfa3a6e79"
      },
      "source": [
        "#Raw predictions\n",
        "predictions"
      ],
      "execution_count": null,
      "outputs": [
        {
          "output_type": "execute_result",
          "data": {
            "text/plain": [
              "array([[2.58821339e-13, 4.42130360e-10, 2.81399093e-06, 8.22663992e-10,\n",
              "        4.22725073e-08, 1.46156628e-10, 3.79519306e-19, 9.99997020e-01,\n",
              "        1.57904023e-10, 1.16600425e-07],\n",
              "       [1.49077127e-12, 1.85843983e-12, 1.00000000e+00, 4.35442698e-12,\n",
              "        2.57657827e-12, 6.03696712e-14, 1.64096066e-14, 5.49620523e-11,\n",
              "        2.45187880e-11, 8.77612372e-16],\n",
              "       [1.45968844e-16, 1.00000000e+00, 4.10229779e-14, 9.53375804e-19,\n",
              "        3.30425687e-11, 5.42400597e-14, 4.69045679e-12, 2.23021471e-14,\n",
              "        2.85816596e-12, 3.74989861e-13],\n",
              "       [9.99956965e-01, 1.10112047e-14, 2.14770146e-10, 2.89034602e-10,\n",
              "        1.29831657e-09, 1.60293254e-08, 3.27569251e-05, 1.62169421e-12,\n",
              "        5.78023451e-09, 1.02208933e-05],\n",
              "       [3.10790182e-18, 1.15170070e-14, 1.86831209e-13, 1.04194933e-20,\n",
              "        1.00000000e+00, 8.31934267e-16, 6.68590888e-14, 4.18914306e-13,\n",
              "        2.64455992e-13, 8.70124042e-11]], dtype=float32)"
            ]
          },
          "metadata": {
            "tags": []
          },
          "execution_count": 24
        }
      ]
    },
    {
      "cell_type": "code",
      "metadata": {
        "id": "TP0TyP6vjfdI",
        "colab_type": "code",
        "colab": {
          "base_uri": "https://localhost:8080/",
          "height": 34
        },
        "outputId": "8e26d1cd-fd1d-4401-b37d-dadee384d4df"
      },
      "source": [
        "# Print our model's predictions\n",
        "print(np.argmax(predictions, axis=1))"
      ],
      "execution_count": null,
      "outputs": [
        {
          "output_type": "stream",
          "text": [
            "[7 2 1 0 4]\n"
          ],
          "name": "stdout"
        }
      ]
    },
    {
      "cell_type": "code",
      "metadata": {
        "id": "ZCn55NCijfdJ",
        "colab_type": "code",
        "colab": {
          "base_uri": "https://localhost:8080/",
          "height": 34
        },
        "outputId": "ea3548b2-3427-4f0b-bc89-a87735844072"
      },
      "source": [
        "# Check our predictions against the ground truths\n",
        "print(test_labels[:5]) # [7, 2, 1, 0, 4]"
      ],
      "execution_count": null,
      "outputs": [
        {
          "output_type": "stream",
          "text": [
            "[7 2 1 0 4]\n"
          ],
          "name": "stdout"
        }
      ]
    },
    {
      "cell_type": "code",
      "metadata": {
        "id": "vXjPrCbZmME4",
        "colab_type": "code",
        "colab": {}
      },
      "source": [
        ""
      ],
      "execution_count": null,
      "outputs": []
    },
    {
      "cell_type": "markdown",
      "metadata": {
        "id": "I_NGRUxfyf1P",
        "colab_type": "text"
      },
      "source": [
        "# 98.79"
      ]
    },
    {
      "cell_type": "code",
      "metadata": {
        "colab_type": "code",
        "id": "zwM7d4vsmrkp",
        "colab": {}
      },
      "source": [
        "#setup model\n",
        "cnnmodel2 = keras.Sequential([\n",
        "    keras.layers.Conv2D(kernel_size=3,filters=12,activation='relu',padding='same',input_shape=(28,28,1)),\n",
        "    keras.layers.Conv2D(kernel_size=6,filters=24,activation='relu',padding='same',strides=3),\n",
        "    keras.layers.Conv2D(kernel_size=6,filters=32,activation='relu',padding='same',strides=3),\n",
        "    keras.layers.Flatten(),\n",
        "    keras.layers.Dense(128, activation='relu'),\n",
        "    #keras.layers.Dropout(0.25),\n",
        "    keras.layers.Dense(10, activation = tf.nn.softmax)    \n",
        "])"
      ],
      "execution_count": null,
      "outputs": []
    },
    {
      "cell_type": "code",
      "metadata": {
        "colab_type": "code",
        "id": "0Qqr9SSMmrk6",
        "colab": {}
      },
      "source": [
        "#compile model\n",
        "cnnmodel2.compile(optimizer='adam',\n",
        "          loss='sparse_categorical_crossentropy',\n",
        "          metrics=['accuracy'])"
      ],
      "execution_count": null,
      "outputs": []
    },
    {
      "cell_type": "code",
      "metadata": {
        "colab_type": "code",
        "id": "gp-Uz8efmrk_",
        "colab": {
          "base_uri": "https://localhost:8080/",
          "height": 370
        },
        "outputId": "13dfdd66-975e-4cb3-f082-14f868d9c97e"
      },
      "source": [
        "#train model\n",
        "cnnmodel2.fit(train_images, train_labels, epochs=10)"
      ],
      "execution_count": null,
      "outputs": [
        {
          "output_type": "stream",
          "text": [
            "Epoch 1/10\n",
            "1875/1875 [==============================] - 49s 26ms/step - loss: 0.1642 - accuracy: 0.9486\n",
            "Epoch 2/10\n",
            "1875/1875 [==============================] - 49s 26ms/step - loss: 0.0553 - accuracy: 0.9828\n",
            "Epoch 3/10\n",
            "1875/1875 [==============================] - 52s 28ms/step - loss: 0.0374 - accuracy: 0.9885\n",
            "Epoch 4/10\n",
            "1875/1875 [==============================] - 50s 27ms/step - loss: 0.0278 - accuracy: 0.9911\n",
            "Epoch 5/10\n",
            "1875/1875 [==============================] - 50s 27ms/step - loss: 0.0212 - accuracy: 0.9929\n",
            "Epoch 6/10\n",
            "1875/1875 [==============================] - 51s 27ms/step - loss: 0.0169 - accuracy: 0.9948\n",
            "Epoch 7/10\n",
            "1875/1875 [==============================] - 50s 27ms/step - loss: 0.0137 - accuracy: 0.9955\n",
            "Epoch 8/10\n",
            "1875/1875 [==============================] - 50s 27ms/step - loss: 0.0129 - accuracy: 0.9957\n",
            "Epoch 9/10\n",
            "1875/1875 [==============================] - 51s 27ms/step - loss: 0.0106 - accuracy: 0.9966\n",
            "Epoch 10/10\n",
            "1875/1875 [==============================] - 49s 26ms/step - loss: 0.0089 - accuracy: 0.9972\n"
          ],
          "name": "stdout"
        },
        {
          "output_type": "execute_result",
          "data": {
            "text/plain": [
              "<tensorflow.python.keras.callbacks.History at 0x7fc37644f208>"
            ]
          },
          "metadata": {
            "tags": []
          },
          "execution_count": 33
        }
      ]
    },
    {
      "cell_type": "code",
      "metadata": {
        "colab_type": "code",
        "id": "1cKncamGmrlC",
        "colab": {
          "base_uri": "https://localhost:8080/",
          "height": 67
        },
        "outputId": "5d944a29-b990-4b68-cf83-64f8079f4a0e"
      },
      "source": [
        "#evaluate\n",
        "test_loss, test_acc = cnnmodel2.evaluate(test_images,  test_labels)\n",
        "print('\\nTest accuracy:', test_acc)"
      ],
      "execution_count": null,
      "outputs": [
        {
          "output_type": "stream",
          "text": [
            "313/313 [==============================] - 3s 10ms/step - loss: 0.0452 - accuracy: 0.9879\n",
            "\n",
            "Test accuracy: 0.9879000186920166\n"
          ],
          "name": "stdout"
        }
      ]
    },
    {
      "cell_type": "code",
      "metadata": {
        "colab_type": "code",
        "id": "y9xQ3pdlmrlF",
        "colab": {}
      },
      "source": [
        "# Predict on the first 5 test images.\n",
        "predictions = cnnmodel2.predict(test_images[:5])"
      ],
      "execution_count": null,
      "outputs": []
    },
    {
      "cell_type": "code",
      "metadata": {
        "colab_type": "code",
        "id": "7mP5poDlmrlG",
        "colab": {
          "base_uri": "https://localhost:8080/",
          "height": 269
        },
        "outputId": "9a2f0451-3592-4a97-df5a-1c7f4369d0b0"
      },
      "source": [
        "#Raw predictions\n",
        "predictions"
      ],
      "execution_count": null,
      "outputs": [
        {
          "output_type": "execute_result",
          "data": {
            "text/plain": [
              "array([[9.1748900e-12, 9.1796556e-11, 2.7299302e-08, 3.6320422e-11,\n",
              "        9.8894764e-12, 4.1397853e-13, 2.6194843e-17, 1.0000000e+00,\n",
              "        6.2747745e-13, 2.2187985e-09],\n",
              "       [7.1729658e-20, 1.1877107e-15, 1.0000000e+00, 1.1910056e-21,\n",
              "        4.0960795e-23, 6.2814627e-26, 1.1696030e-18, 4.7109088e-23,\n",
              "        8.9971780e-15, 2.7189868e-23],\n",
              "       [4.1285803e-06, 9.9987817e-01, 3.0863303e-06, 2.2479698e-09,\n",
              "        1.4219809e-06, 2.9214144e-07, 1.5567189e-06, 1.2510365e-06,\n",
              "        1.1002855e-04, 1.6997017e-08],\n",
              "       [9.9999952e-01, 1.8046469e-17, 2.3325680e-10, 7.8363465e-15,\n",
              "        1.0223754e-11, 4.1493212e-11, 2.2690299e-08, 4.9674110e-12,\n",
              "        2.4817688e-11, 4.6448841e-07],\n",
              "       [2.7687352e-11, 4.4522434e-11, 2.8588606e-10, 8.1518204e-12,\n",
              "        9.9994826e-01, 3.4906242e-10, 8.7942237e-11, 1.3688676e-11,\n",
              "        1.2679978e-09, 5.1759605e-05]], dtype=float32)"
            ]
          },
          "metadata": {
            "tags": []
          },
          "execution_count": 36
        }
      ]
    },
    {
      "cell_type": "code",
      "metadata": {
        "colab_type": "code",
        "id": "SBD8o0YOmrlI",
        "colab": {
          "base_uri": "https://localhost:8080/",
          "height": 34
        },
        "outputId": "36da4567-b943-444a-eb8a-207f82b8afc3"
      },
      "source": [
        "# Print our model's predictions\n",
        "print(np.argmax(predictions, axis=1))"
      ],
      "execution_count": null,
      "outputs": [
        {
          "output_type": "stream",
          "text": [
            "[7 2 1 0 4]\n"
          ],
          "name": "stdout"
        }
      ]
    },
    {
      "cell_type": "code",
      "metadata": {
        "colab_type": "code",
        "id": "gS6F7tHWmrlK",
        "colab": {
          "base_uri": "https://localhost:8080/",
          "height": 34
        },
        "outputId": "7ac08e90-fa12-4d39-c0cd-b7fd0a2bbf64"
      },
      "source": [
        "# Check our predictions against the ground truths\n",
        "print(test_labels[:5]) # [7, 2, 1, 0, 4]"
      ],
      "execution_count": null,
      "outputs": [
        {
          "output_type": "stream",
          "text": [
            "[7 2 1 0 4]\n"
          ],
          "name": "stdout"
        }
      ]
    },
    {
      "cell_type": "code",
      "metadata": {
        "id": "JuMufP6ussy5",
        "colab_type": "code",
        "colab": {}
      },
      "source": [
        ""
      ],
      "execution_count": null,
      "outputs": []
    },
    {
      "cell_type": "markdown",
      "metadata": {
        "id": "vqtSOYcSylVP",
        "colab_type": "text"
      },
      "source": [
        "# 98.94"
      ]
    },
    {
      "cell_type": "code",
      "metadata": {
        "colab_type": "code",
        "id": "4OipBqD-sv_U",
        "colab": {}
      },
      "source": [
        "#setup model\n",
        "cnnmodel3 = keras.Sequential([\n",
        "    keras.layers.Conv2D(kernel_size=3,filters=12,activation='relu',padding='same',input_shape=(28,28,1)),\n",
        "    keras.layers.Conv2D(kernel_size=6,filters=24,activation='relu',padding='same',strides=3),\n",
        "    keras.layers.Conv2D(kernel_size=6,filters=32,activation='relu',padding='same',strides=3),\n",
        "    keras.layers.Flatten(),\n",
        "    keras.layers.Dense(128, activation='relu'),\n",
        "    keras.layers.Dropout(0.4),\n",
        "    keras.layers.Dense(200, activation='relu'),\n",
        "    keras.layers.Dropout(0.4),\n",
        "    keras.layers.Dense(10, activation = tf.nn.softmax)    \n",
        "])"
      ],
      "execution_count": 39,
      "outputs": []
    },
    {
      "cell_type": "code",
      "metadata": {
        "colab_type": "code",
        "id": "MNVgyRlzsv_X",
        "colab": {}
      },
      "source": [
        "#compile model\n",
        "cnnmodel3.compile(optimizer='adam',\n",
        "          loss='sparse_categorical_crossentropy',\n",
        "          metrics=['accuracy'])"
      ],
      "execution_count": 40,
      "outputs": []
    },
    {
      "cell_type": "code",
      "metadata": {
        "colab_type": "code",
        "id": "3h4C3nsZsv_Y",
        "colab": {
          "base_uri": "https://localhost:8080/",
          "height": 374
        },
        "outputId": "b34879d1-0ae0-4260-dfa1-f1770d4386b8"
      },
      "source": [
        "#train model\n",
        "cnnmodel3.fit(train_images, train_labels, epochs=10)"
      ],
      "execution_count": 41,
      "outputs": [
        {
          "output_type": "stream",
          "text": [
            "Epoch 1/10\n",
            "1875/1875 [==============================] - 53s 28ms/step - loss: 0.2596 - accuracy: 0.9220\n",
            "Epoch 2/10\n",
            "1875/1875 [==============================] - 54s 29ms/step - loss: 0.0893 - accuracy: 0.9750\n",
            "Epoch 3/10\n",
            "1875/1875 [==============================] - 51s 27ms/step - loss: 0.0631 - accuracy: 0.9826\n",
            "Epoch 4/10\n",
            "1875/1875 [==============================] - 50s 27ms/step - loss: 0.0502 - accuracy: 0.9859\n",
            "Epoch 5/10\n",
            "1875/1875 [==============================] - 52s 28ms/step - loss: 0.0428 - accuracy: 0.9883\n",
            "Epoch 6/10\n",
            "1875/1875 [==============================] - 51s 27ms/step - loss: 0.0353 - accuracy: 0.9899\n",
            "Epoch 7/10\n",
            "1875/1875 [==============================] - 51s 27ms/step - loss: 0.0299 - accuracy: 0.9913\n",
            "Epoch 8/10\n",
            "1875/1875 [==============================] - 52s 28ms/step - loss: 0.0280 - accuracy: 0.9918\n",
            "Epoch 9/10\n",
            "1875/1875 [==============================] - 52s 28ms/step - loss: 0.0260 - accuracy: 0.9924\n",
            "Epoch 10/10\n",
            "1875/1875 [==============================] - 51s 27ms/step - loss: 0.0211 - accuracy: 0.9942\n"
          ],
          "name": "stdout"
        },
        {
          "output_type": "execute_result",
          "data": {
            "text/plain": [
              "<tensorflow.python.keras.callbacks.History at 0x7fc374316c88>"
            ]
          },
          "metadata": {
            "tags": []
          },
          "execution_count": 41
        }
      ]
    },
    {
      "cell_type": "code",
      "metadata": {
        "colab_type": "code",
        "id": "YV9S8XaVsv_b",
        "colab": {
          "base_uri": "https://localhost:8080/",
          "height": 68
        },
        "outputId": "89e502ae-8ea0-4eba-89dc-6df247dfdf44"
      },
      "source": [
        "#evaluate\n",
        "test_loss, test_acc = cnnmodel3.evaluate(test_images,  test_labels)\n",
        "print('\\nTest accuracy:', test_acc)"
      ],
      "execution_count": 42,
      "outputs": [
        {
          "output_type": "stream",
          "text": [
            "313/313 [==============================] - 3s 10ms/step - loss: 0.0458 - accuracy: 0.9895\n",
            "\n",
            "Test accuracy: 0.9894999861717224\n"
          ],
          "name": "stdout"
        }
      ]
    },
    {
      "cell_type": "code",
      "metadata": {
        "colab_type": "code",
        "id": "Q_J9vVPPsv_d",
        "colab": {}
      },
      "source": [
        "# Predict on the first 5 test images.\n",
        "predictions = cnnmodel3.predict(test_images[:5])"
      ],
      "execution_count": null,
      "outputs": []
    },
    {
      "cell_type": "code",
      "metadata": {
        "colab_type": "code",
        "id": "3lL0yu_psv_e",
        "colab": {
          "base_uri": "https://localhost:8080/",
          "height": 269
        },
        "outputId": "9a2f0451-3592-4a97-df5a-1c7f4369d0b0"
      },
      "source": [
        "#Raw predictions\n",
        "predictions"
      ],
      "execution_count": null,
      "outputs": [
        {
          "output_type": "execute_result",
          "data": {
            "text/plain": [
              "array([[9.1748900e-12, 9.1796556e-11, 2.7299302e-08, 3.6320422e-11,\n",
              "        9.8894764e-12, 4.1397853e-13, 2.6194843e-17, 1.0000000e+00,\n",
              "        6.2747745e-13, 2.2187985e-09],\n",
              "       [7.1729658e-20, 1.1877107e-15, 1.0000000e+00, 1.1910056e-21,\n",
              "        4.0960795e-23, 6.2814627e-26, 1.1696030e-18, 4.7109088e-23,\n",
              "        8.9971780e-15, 2.7189868e-23],\n",
              "       [4.1285803e-06, 9.9987817e-01, 3.0863303e-06, 2.2479698e-09,\n",
              "        1.4219809e-06, 2.9214144e-07, 1.5567189e-06, 1.2510365e-06,\n",
              "        1.1002855e-04, 1.6997017e-08],\n",
              "       [9.9999952e-01, 1.8046469e-17, 2.3325680e-10, 7.8363465e-15,\n",
              "        1.0223754e-11, 4.1493212e-11, 2.2690299e-08, 4.9674110e-12,\n",
              "        2.4817688e-11, 4.6448841e-07],\n",
              "       [2.7687352e-11, 4.4522434e-11, 2.8588606e-10, 8.1518204e-12,\n",
              "        9.9994826e-01, 3.4906242e-10, 8.7942237e-11, 1.3688676e-11,\n",
              "        1.2679978e-09, 5.1759605e-05]], dtype=float32)"
            ]
          },
          "metadata": {
            "tags": []
          },
          "execution_count": 36
        }
      ]
    },
    {
      "cell_type": "code",
      "metadata": {
        "colab_type": "code",
        "id": "HgdbRE_-sv_g",
        "colab": {
          "base_uri": "https://localhost:8080/",
          "height": 34
        },
        "outputId": "36da4567-b943-444a-eb8a-207f82b8afc3"
      },
      "source": [
        "# Print our model's predictions\n",
        "print(np.argmax(predictions, axis=1))"
      ],
      "execution_count": null,
      "outputs": [
        {
          "output_type": "stream",
          "text": [
            "[7 2 1 0 4]\n"
          ],
          "name": "stdout"
        }
      ]
    },
    {
      "cell_type": "code",
      "metadata": {
        "colab_type": "code",
        "id": "nKZwwiFrsv_h",
        "colab": {
          "base_uri": "https://localhost:8080/",
          "height": 34
        },
        "outputId": "7ac08e90-fa12-4d39-c0cd-b7fd0a2bbf64"
      },
      "source": [
        "# Check our predictions against the ground truths\n",
        "print(test_labels[:5]) # [7, 2, 1, 0, 4]"
      ],
      "execution_count": null,
      "outputs": [
        {
          "output_type": "stream",
          "text": [
            "[7 2 1 0 4]\n"
          ],
          "name": "stdout"
        }
      ]
    },
    {
      "cell_type": "code",
      "metadata": {
        "id": "6PCoRJsAvWxy",
        "colab_type": "code",
        "colab": {}
      },
      "source": [
        ""
      ],
      "execution_count": null,
      "outputs": []
    },
    {
      "cell_type": "markdown",
      "metadata": {
        "id": "9ckBWrwYypLL",
        "colab_type": "text"
      },
      "source": [
        "# "
      ]
    },
    {
      "cell_type": "code",
      "metadata": {
        "colab_type": "code",
        "id": "EcUX6DYgvXKR",
        "colab": {}
      },
      "source": [
        "#setup model\n",
        "cnnmodel4 = keras.Sequential([\n",
        "    keras.layers.Conv2D(kernel_size=3,filters=12,use_bias=False,padding='same'),\n",
        "    keras.layers.BatchNormalization(center=True,scale=False),\n",
        "    keras.layers.Activation('relu'),\n",
        "\n",
        "    keras.layers.Conv2D(kernel_size=6,filters=24,use_bias=False,padding='same',strides=2),\n",
        "    keras.layers.BatchNormalization(center=True,scale=False),\n",
        "    keras.layers.Activation('relu'),\n",
        "    \n",
        "    keras.layers.Conv2D(kernel_size=6,filters=32,use_bias=False,padding='same',strides=2),\n",
        "    keras.layers.BatchNormalization(center=True,scale=False),\n",
        "    keras.layers.Activation('relu'),\n",
        "    \n",
        "    keras.layers.Flatten(),\n",
        "    \n",
        "    keras.layers.Dense(128),\n",
        "    keras.layers.BatchNormalization(center=True,scale=False),\n",
        "    keras.layers.Activation('relu'),\n",
        "    keras.layers.Dropout(0.4),\n",
        "\n",
        "    keras.layers.Dense(200),\n",
        "    keras.layers.BatchNormalization(center=True,scale=False),\n",
        "    keras.layers.Activation('relu'),\n",
        "    keras.layers.Dropout(0.4),\n",
        "    \n",
        "    keras.layers.Dense(10, activation = tf.nn.softmax)    \n",
        "])"
      ],
      "execution_count": 13,
      "outputs": []
    },
    {
      "cell_type": "code",
      "metadata": {
        "colab_type": "code",
        "id": "Z-et_TdevXKd",
        "colab": {}
      },
      "source": [
        "#compile model\n",
        "cnnmodel4.compile(optimizer='adam',\n",
        "          loss='sparse_categorical_crossentropy',\n",
        "          metrics=['accuracy'])"
      ],
      "execution_count": 14,
      "outputs": []
    },
    {
      "cell_type": "code",
      "metadata": {
        "colab_type": "code",
        "id": "bYsyt7sMvXKj",
        "colab": {
          "base_uri": "https://localhost:8080/",
          "height": 374
        },
        "outputId": "d73b10c2-374f-45e4-9ebb-6a28b7364338"
      },
      "source": [
        "#train model\n",
        "cnnmodel4.fit(train_images, train_labels, epochs=10)"
      ],
      "execution_count": 15,
      "outputs": [
        {
          "output_type": "stream",
          "text": [
            "Epoch 1/10\n",
            "1875/1875 [==============================] - 6s 3ms/step - loss: 0.2169 - accuracy: 0.9351\n",
            "Epoch 2/10\n",
            "1875/1875 [==============================] - 6s 3ms/step - loss: 0.0809 - accuracy: 0.9759\n",
            "Epoch 3/10\n",
            "1875/1875 [==============================] - 6s 3ms/step - loss: 0.0626 - accuracy: 0.9819\n",
            "Epoch 4/10\n",
            "1875/1875 [==============================] - 6s 3ms/step - loss: 0.0523 - accuracy: 0.9848\n",
            "Epoch 5/10\n",
            "1875/1875 [==============================] - 6s 3ms/step - loss: 0.0430 - accuracy: 0.9873\n",
            "Epoch 6/10\n",
            "1875/1875 [==============================] - 6s 3ms/step - loss: 0.0387 - accuracy: 0.9880\n",
            "Epoch 7/10\n",
            "1875/1875 [==============================] - 6s 3ms/step - loss: 0.0348 - accuracy: 0.9896\n",
            "Epoch 8/10\n",
            "1875/1875 [==============================] - 6s 3ms/step - loss: 0.0293 - accuracy: 0.9910\n",
            "Epoch 9/10\n",
            "1875/1875 [==============================] - 7s 3ms/step - loss: 0.0264 - accuracy: 0.9917\n",
            "Epoch 10/10\n",
            "1875/1875 [==============================] - 7s 4ms/step - loss: 0.0236 - accuracy: 0.9931\n"
          ],
          "name": "stdout"
        },
        {
          "output_type": "execute_result",
          "data": {
            "text/plain": [
              "<tensorflow.python.keras.callbacks.History at 0x7f461c2e4b38>"
            ]
          },
          "metadata": {
            "tags": []
          },
          "execution_count": 15
        }
      ]
    },
    {
      "cell_type": "code",
      "metadata": {
        "colab_type": "code",
        "id": "AQfPnv0_vXKq",
        "colab": {
          "base_uri": "https://localhost:8080/",
          "height": 68
        },
        "outputId": "a4c058ed-146d-477b-b3c1-3723788375f2"
      },
      "source": [
        "#evaluate\n",
        "test_loss, test_acc = cnnmodel4.evaluate(test_images,  test_labels)\n",
        "print('\\nTest accuracy:', test_acc)"
      ],
      "execution_count": 17,
      "outputs": [
        {
          "output_type": "stream",
          "text": [
            "313/313 [==============================] - 1s 2ms/step - loss: 0.0217 - accuracy: 0.9930\n",
            "\n",
            "Test accuracy: 0.9929999709129333\n"
          ],
          "name": "stdout"
        }
      ]
    },
    {
      "cell_type": "code",
      "metadata": {
        "colab_type": "code",
        "id": "f5F4O0ZGvXKu",
        "colab": {}
      },
      "source": [
        "# Predict on the first 5 test images.\n",
        "predictions = cnnmodel4.predict(test_images[:5])"
      ],
      "execution_count": 18,
      "outputs": []
    },
    {
      "cell_type": "code",
      "metadata": {
        "colab_type": "code",
        "id": "TVv9nvVMvXKw",
        "colab": {
          "base_uri": "https://localhost:8080/",
          "height": 272
        },
        "outputId": "31fa3e44-92a6-4a34-df55-5157b95a5f65"
      },
      "source": [
        "#Raw predictions\n",
        "predictions"
      ],
      "execution_count": 19,
      "outputs": [
        {
          "output_type": "execute_result",
          "data": {
            "text/plain": [
              "array([[8.15029988e-10, 6.32423962e-08, 1.49575797e-07, 4.90447150e-09,\n",
              "        4.88744085e-08, 4.83876716e-10, 5.69438852e-09, 9.99999166e-01,\n",
              "        8.34515027e-11, 6.13133807e-07],\n",
              "       [1.54924024e-07, 3.56493821e-08, 9.99994516e-01, 1.02682804e-07,\n",
              "        3.28987397e-08, 4.01041570e-12, 4.93736297e-06, 1.99132330e-07,\n",
              "        1.24171269e-08, 5.16413845e-09],\n",
              "       [3.17750465e-10, 1.00000000e+00, 1.05235687e-09, 1.21815127e-11,\n",
              "        2.25314503e-10, 7.56320145e-11, 7.45349737e-09, 1.44219303e-08,\n",
              "        1.30716185e-08, 2.39522256e-11],\n",
              "       [9.99992847e-01, 5.15069551e-08, 9.99725547e-09, 2.39075315e-09,\n",
              "        4.26711289e-08, 3.13056091e-07, 4.29830470e-06, 1.55122905e-07,\n",
              "        1.62151912e-06, 7.66250992e-07],\n",
              "       [1.31871081e-09, 2.82378380e-07, 5.03988240e-10, 1.55313193e-11,\n",
              "        9.99982953e-01, 7.10562553e-10, 8.89375773e-09, 4.94240426e-09,\n",
              "        1.31498590e-09, 1.68008792e-05]], dtype=float32)"
            ]
          },
          "metadata": {
            "tags": []
          },
          "execution_count": 19
        }
      ]
    },
    {
      "cell_type": "code",
      "metadata": {
        "colab_type": "code",
        "id": "qjCBstoQvXKz",
        "colab": {
          "base_uri": "https://localhost:8080/",
          "height": 34
        },
        "outputId": "6281fa2d-7785-4eef-e6c0-cb2a32eb5892"
      },
      "source": [
        "# Print our model's predictions\n",
        "print(np.argmax(predictions, axis=1))"
      ],
      "execution_count": 20,
      "outputs": [
        {
          "output_type": "stream",
          "text": [
            "[7 2 1 0 4]\n"
          ],
          "name": "stdout"
        }
      ]
    },
    {
      "cell_type": "code",
      "metadata": {
        "colab_type": "code",
        "id": "bMyIkT8evXK2",
        "colab": {
          "base_uri": "https://localhost:8080/",
          "height": 34
        },
        "outputId": "e627b05e-9024-4586-9d7c-cee4c95a0252"
      },
      "source": [
        "# Check our predictions against the ground truths\n",
        "print(test_labels[:5]) # [7, 2, 1, 0, 4]"
      ],
      "execution_count": 21,
      "outputs": [
        {
          "output_type": "stream",
          "text": [
            "[7 2 1 0 4]\n"
          ],
          "name": "stdout"
        }
      ]
    },
    {
      "cell_type": "code",
      "metadata": {
        "id": "7Keox2IM1CNw",
        "colab_type": "code",
        "colab": {}
      },
      "source": [
        ""
      ],
      "execution_count": null,
      "outputs": []
    }
  ]
}