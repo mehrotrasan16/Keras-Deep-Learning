{
  "nbformat": 4,
  "nbformat_minor": 0,
  "metadata": {
    "colab": {
      "name": "01-keras-mnist-baseline.ipynb",
      "provenance": [],
      "collapsed_sections": [],
      "toc_visible": true,
      "include_colab_link": true
    },
    "kernelspec": {
      "display_name": "Python 3",
      "language": "python",
      "name": "python3"
    },
    "language_info": {
      "codemirror_mode": {
        "name": "ipython",
        "version": 3
      },
      "file_extension": ".py",
      "mimetype": "text/x-python",
      "name": "python",
      "nbconvert_exporter": "python",
      "pygments_lexer": "ipython3",
      "version": "3.7.6"
    },
    "toc": {
      "base_numbering": 1,
      "nav_menu": {},
      "number_sections": true,
      "sideBar": true,
      "skip_h1_title": false,
      "title_cell": "Table of Contents",
      "title_sidebar": "Contents",
      "toc_cell": true,
      "toc_position": {},
      "toc_section_display": true,
      "toc_window_display": true
    },
    "toc-autonumbering": true,
    "accelerator": "GPU"
  },
  "cells": [
    {
      "cell_type": "markdown",
      "metadata": {
        "id": "view-in-github",
        "colab_type": "text"
      },
      "source": [
        "<a href=\"https://colab.research.google.com/github/mehrotrasan16/Keras-Deep-Learning/blob/01-MNIST-CNN-99.29/01_keras_mnist_baseline.ipynb\" target=\"_parent\"><img src=\"https://colab.research.google.com/assets/colab-badge.svg\" alt=\"Open In Colab\"/></a>"
      ]
    },
    {
      "cell_type": "code",
      "metadata": {
        "colab_type": "code",
        "id": "opdFPDUIUwFr",
        "colab": {
          "base_uri": "https://localhost:8080/",
          "height": 35
        },
        "outputId": "14aa231e-e9ad-4512-a996-40bdd0c0404c"
      },
      "source": [
        "# TensorFlow and tf.keras\n",
        "import tensorflow as tf\n",
        "import numpy as np\n",
        "from tensorflow import keras\n",
        "\n",
        "#tf version should be 2.2 or higher\n",
        "tf.__version__"
      ],
      "execution_count": null,
      "outputs": [
        {
          "output_type": "execute_result",
          "data": {
            "application/vnd.google.colaboratory.intrinsic+json": {
              "type": "string"
            },
            "text/plain": [
              "'2.3.0'"
            ]
          },
          "metadata": {
            "tags": []
          },
          "execution_count": 6
        }
      ]
    },
    {
      "cell_type": "code",
      "metadata": {
        "id": "VMXk6dmxjfar",
        "colab_type": "code",
        "colab": {
          "base_uri": "https://localhost:8080/",
          "height": 35
        },
        "outputId": "104237ed-9ce3-492c-f4c8-a8544ff195c0"
      },
      "source": [
        "keras.__version__"
      ],
      "execution_count": null,
      "outputs": [
        {
          "output_type": "execute_result",
          "data": {
            "application/vnd.google.colaboratory.intrinsic+json": {
              "type": "string"
            },
            "text/plain": [
              "'2.4.0'"
            ]
          },
          "metadata": {
            "tags": []
          },
          "execution_count": 7
        }
      ]
    },
    {
      "cell_type": "code",
      "metadata": {
        "id": "kd6DN3oIjfat",
        "colab_type": "code",
        "colab": {
          "base_uri": "https://localhost:8080/",
          "height": 85
        },
        "outputId": "0afdb705-12f4-4646-8bc1-83d93df30abd"
      },
      "source": [
        "tf.test.is_gpu_available()"
      ],
      "execution_count": null,
      "outputs": [
        {
          "output_type": "stream",
          "text": [
            "WARNING:tensorflow:From <ipython-input-8-17bb7203622b>:1: is_gpu_available (from tensorflow.python.framework.test_util) is deprecated and will be removed in a future version.\n",
            "Instructions for updating:\n",
            "Use `tf.config.list_physical_devices('GPU')` instead.\n"
          ],
          "name": "stdout"
        },
        {
          "output_type": "execute_result",
          "data": {
            "text/plain": [
              "True"
            ]
          },
          "metadata": {
            "tags": []
          },
          "execution_count": 8
        }
      ]
    },
    {
      "cell_type": "code",
      "metadata": {
        "id": "_NVsuimMjfav",
        "colab_type": "code",
        "colab": {
          "base_uri": "https://localhost:8080/",
          "height": 51
        },
        "outputId": "5a9f2232-892b-4dfe-f26d-f2dec08f4c10"
      },
      "source": [
        "#get data\n",
        "(train_images, train_labels), (test_images, test_labels) = \\\n",
        "      keras.datasets.mnist.load_data()"
      ],
      "execution_count": null,
      "outputs": [
        {
          "output_type": "stream",
          "text": [
            "Downloading data from https://storage.googleapis.com/tensorflow/tf-keras-datasets/mnist.npz\n",
            "11493376/11490434 [==============================] - 0s 0us/step\n"
          ],
          "name": "stdout"
        }
      ]
    },
    {
      "cell_type": "code",
      "metadata": {
        "id": "Xai01xdOjfax",
        "colab_type": "code",
        "colab": {}
      },
      "source": [
        "#scale model\n",
        "train_images = train_images / 255.0\n",
        "test_images = test_images / 255.0"
      ],
      "execution_count": null,
      "outputs": []
    },
    {
      "cell_type": "code",
      "metadata": {
        "id": "zZ3b2WMvjfaz",
        "colab_type": "code",
        "colab": {}
      },
      "source": [
        "#setup model\n",
        "model = keras.Sequential([\n",
        "    keras.layers.Flatten(input_shape=(28, 28)),\n",
        "    keras.layers.Dense(10, activation = tf.nn.softmax)\n",
        "])"
      ],
      "execution_count": null,
      "outputs": []
    },
    {
      "cell_type": "code",
      "metadata": {
        "id": "O3snVFZ8jfa2",
        "colab_type": "code",
        "colab": {}
      },
      "source": [
        "#compile model\n",
        "model.compile(optimizer='sgd',\n",
        "          loss='sparse_categorical_crossentropy',\n",
        "          metrics=['accuracy'])"
      ],
      "execution_count": null,
      "outputs": []
    },
    {
      "cell_type": "code",
      "metadata": {
        "id": "cKNNKGqojfa5",
        "colab_type": "code",
        "colab": {
          "base_uri": "https://localhost:8080/",
          "height": 202
        },
        "outputId": "39aabb1f-a896-4b51-f307-e0b114317618"
      },
      "source": [
        "#train model\n",
        "model.fit(train_images, train_labels, epochs=5)"
      ],
      "execution_count": null,
      "outputs": [
        {
          "output_type": "stream",
          "text": [
            "Epoch 1/5\n",
            "1875/1875 [==============================] - 3s 1ms/step - loss: 0.7851 - accuracy: 0.8116\n",
            "Epoch 2/5\n",
            "1875/1875 [==============================] - 2s 1ms/step - loss: 0.4578 - accuracy: 0.8802\n",
            "Epoch 3/5\n",
            "1875/1875 [==============================] - 2s 1ms/step - loss: 0.4040 - accuracy: 0.8910\n",
            "Epoch 4/5\n",
            "1875/1875 [==============================] - 2s 1ms/step - loss: 0.3771 - accuracy: 0.8970\n",
            "Epoch 5/5\n",
            "1875/1875 [==============================] - 2s 1ms/step - loss: 0.3602 - accuracy: 0.9006\n"
          ],
          "name": "stdout"
        },
        {
          "output_type": "execute_result",
          "data": {
            "text/plain": [
              "<tensorflow.python.keras.callbacks.History at 0x7fc37d93dac8>"
            ]
          },
          "metadata": {
            "tags": []
          },
          "execution_count": 9
        }
      ]
    },
    {
      "cell_type": "code",
      "metadata": {
        "id": "NZ3drNzjjfa7",
        "colab_type": "code",
        "colab": {
          "base_uri": "https://localhost:8080/",
          "height": 67
        },
        "outputId": "db7fab1d-8f7b-48eb-8f37-326d8569f7ac"
      },
      "source": [
        "#evaluate\n",
        "test_loss, test_acc = model.evaluate(test_images,  test_labels)\n",
        "print('\\nTest accuracy:', test_acc)"
      ],
      "execution_count": null,
      "outputs": [
        {
          "output_type": "stream",
          "text": [
            "313/313 [==============================] - 0s 967us/step - loss: 0.3359 - accuracy: 0.9079\n",
            "\n",
            "Test accuracy: 0.9078999757766724\n"
          ],
          "name": "stdout"
        }
      ]
    },
    {
      "cell_type": "code",
      "metadata": {
        "id": "H0ZuLSXRjfa9",
        "colab_type": "code",
        "colab": {}
      },
      "source": [
        "# Predict on the first 5 test images.\n",
        "predictions = model.predict(test_images[:5])"
      ],
      "execution_count": null,
      "outputs": []
    },
    {
      "cell_type": "code",
      "metadata": {
        "id": "1Pfq30bZjfa_",
        "colab_type": "code",
        "colab": {
          "base_uri": "https://localhost:8080/",
          "height": 286
        },
        "outputId": "f80d031e-e3c7-46aa-a376-8cedd61278ab"
      },
      "source": [
        "#Raw predictions\n",
        "predictions.shape,predictions\n"
      ],
      "execution_count": null,
      "outputs": [
        {
          "output_type": "execute_result",
          "data": {
            "text/plain": [
              "((5, 10),\n",
              " array([[2.21342721e-04, 1.09743360e-06, 1.71652689e-04, 2.24272953e-03,\n",
              "         4.42058081e-05, 1.10166693e-04, 2.70977330e-06, 9.93551016e-01,\n",
              "         2.19001129e-04, 3.43613280e-03],\n",
              "        [1.58161353e-02, 3.36178142e-04, 8.30395758e-01, 3.23872976e-02,\n",
              "         1.15933904e-06, 2.55346242e-02, 8.19568485e-02, 4.08923142e-07,\n",
              "         1.35638425e-02, 7.79689981e-06],\n",
              "        [2.75393977e-04, 9.52982366e-01, 1.50614483e-02, 6.84671942e-03,\n",
              "         8.62881890e-04, 2.08819425e-03, 4.37100045e-03, 5.17000630e-03,\n",
              "         1.08089820e-02, 1.53307989e-03],\n",
              "        [9.96784687e-01, 1.88348590e-08, 2.67934112e-04, 6.91862369e-05,\n",
              "         7.07319032e-07, 1.30594219e-03, 1.04554673e-03, 2.86947645e-04,\n",
              "         1.58192124e-04, 8.07901597e-05],\n",
              "        [2.44874647e-03, 4.88645674e-05, 1.10137910e-02, 9.68728971e-04,\n",
              "         8.74821544e-01, 1.58484804e-03, 7.43442960e-03, 1.95053741e-02,\n",
              "         1.61125790e-02, 6.60610721e-02]], dtype=float32))"
            ]
          },
          "metadata": {
            "tags": []
          },
          "execution_count": 12
        }
      ]
    },
    {
      "cell_type": "code",
      "metadata": {
        "id": "_fcrtMbVjfbB",
        "colab_type": "code",
        "colab": {
          "base_uri": "https://localhost:8080/",
          "height": 34
        },
        "outputId": "a9215cb3-85c1-430e-e8b5-7cb0bf17dca0"
      },
      "source": [
        "# Print our model's predictions\n",
        "print(np.argmax(predictions, axis=1))"
      ],
      "execution_count": null,
      "outputs": [
        {
          "output_type": "stream",
          "text": [
            "[7 2 1 0 4]\n"
          ],
          "name": "stdout"
        }
      ]
    },
    {
      "cell_type": "code",
      "metadata": {
        "id": "66kgzDHRjfbE",
        "colab_type": "code",
        "colab": {
          "base_uri": "https://localhost:8080/",
          "height": 34
        },
        "outputId": "f487f10d-852f-4615-b530-182ebe653f95"
      },
      "source": [
        "# Check our predictions against the ground truths\n",
        "print(test_labels[:5]) # [7, 2, 1, 0, 4]"
      ],
      "execution_count": null,
      "outputs": [
        {
          "output_type": "stream",
          "text": [
            "[7 2 1 0 4]\n"
          ],
          "name": "stdout"
        }
      ]
    },
    {
      "cell_type": "markdown",
      "metadata": {
        "id": "wMkTU1iOjfc6",
        "colab_type": "text"
      },
      "source": [
        "## Fully Connected Layers : Comparison Table"
      ]
    },
    {
      "cell_type": "markdown",
      "metadata": {
        "id": "QWTkvn13jfc7",
        "colab_type": "text"
      },
      "source": [
        "| Approach | Accuracy(%) |\n",
        "|---|---|\n",
        "| Base Model | 90.78 |\n",
        "| Epoch inc to 15| 91.72 |\n",
        "| ADAM Optimizer | 92.65 |\n",
        "| 128 - Dense layer | 97.79 |\n",
        "| 2 128 - Dense layers | 97.87   |\n",
        "| Best of learning rate loop: 0.003 | 97.44  |\n",
        "| with Learning Rate Decay | 97.86  |\n",
        "| with Dropout layers | 97.86  |"
      ]
    },
    {
      "cell_type": "markdown",
      "metadata": {
        "id": "gMDN8nUjjfc7",
        "colab_type": "text"
      },
      "source": [
        "**Conclusion**:\n",
        "With Fully Connected DNNs, we seem to hit a cap of 97.86 no matter what we do. To get this to 99.3% we must incolve Conv2D , CNNs with Dropout layers. "
      ]
    },
    {
      "cell_type": "markdown",
      "metadata": {
        "id": "IyeoGhoTjfc7",
        "colab_type": "text"
      },
      "source": [
        "# Convolutional Neural Networks "
      ]
    },
    {
      "cell_type": "code",
      "metadata": {
        "id": "fd0TGq_ejfc8",
        "colab_type": "code",
        "colab": {}
      },
      "source": [
        "train_images = train_images.reshape(train_images.shape[0],28,28,1)\n",
        "test_images = test_images.reshape(test_images.shape[0],28,28,1)"
      ],
      "execution_count": null,
      "outputs": []
    },
    {
      "cell_type": "code",
      "metadata": {
        "id": "HE7gNSmNjfc9",
        "colab_type": "code",
        "colab": {}
      },
      "source": [
        "import math\n",
        "def lr_decay(epoch):\n",
        "    return 0.01 * math.pow(0.6,epoch)\n",
        "\n",
        "lr_decay_callback = keras.callbacks.LearningRateScheduler(lr_decay,verbose=True)"
      ],
      "execution_count": null,
      "outputs": []
    },
    {
      "cell_type": "markdown",
      "metadata": {
        "id": "_0EChA1zyXBA",
        "colab_type": "text"
      },
      "source": [
        "# 98.48"
      ]
    },
    {
      "cell_type": "code",
      "metadata": {
        "id": "CZ_3Wj0Xjfc-",
        "colab_type": "code",
        "colab": {}
      },
      "source": [
        "#setup model\n",
        "cnnmodel1 = keras.Sequential([\n",
        "    keras.layers.Conv2D(kernel_size=3,filters=12,activation='relu',padding='same',input_shape=(28,28,1)),\n",
        "    keras.layers.MaxPooling2D(pool_size=(2,2)),\n",
        "    keras.layers.Conv2D(kernel_size=6,filters=24,activation='relu',padding='same',strides=3),\n",
        "    keras.layers.MaxPooling2D(pool_size=(2,2)),\n",
        "    keras.layers.Conv2D(kernel_size=6,filters=32,activation='relu',padding='same',strides=3),\n",
        "    keras.layers.Flatten(),\n",
        "    keras.layers.Dense(128, activation='relu'),\n",
        "    keras.layers.Dense(10, activation = tf.nn.softmax)    \n",
        "])"
      ],
      "execution_count": null,
      "outputs": []
    },
    {
      "cell_type": "code",
      "metadata": {
        "id": "XwKPax_Hjfc_",
        "colab_type": "code",
        "colab": {}
      },
      "source": [
        "#compile model\n",
        "cnnmodel1.compile(optimizer='adam',\n",
        "          loss='sparse_categorical_crossentropy',\n",
        "          metrics=['accuracy'])"
      ],
      "execution_count": null,
      "outputs": []
    },
    {
      "cell_type": "code",
      "metadata": {
        "id": "EFGs4ABDjfdB",
        "colab_type": "code",
        "colab": {
          "base_uri": "https://localhost:8080/",
          "height": 1000
        },
        "outputId": "de6206c0-6b8d-43d3-89e7-0a021a7b8c37"
      },
      "source": [
        "#train model\n",
        "cnnmodel1.fit(train_images, train_labels, epochs=15,callbacks=[lr_decay_callback])"
      ],
      "execution_count": null,
      "outputs": [
        {
          "output_type": "stream",
          "text": [
            "\n",
            "Epoch 00001: LearningRateScheduler reducing learning rate to 0.01.\n",
            "Epoch 1/15\n",
            "1875/1875 [==============================] - 32s 17ms/step - loss: 0.2312 - accuracy: 0.9286\n",
            "\n",
            "Epoch 00002: LearningRateScheduler reducing learning rate to 0.006.\n",
            "Epoch 2/15\n",
            "1875/1875 [==============================] - 33s 18ms/step - loss: 0.0968 - accuracy: 0.9715\n",
            "\n",
            "Epoch 00003: LearningRateScheduler reducing learning rate to 0.0036.\n",
            "Epoch 3/15\n",
            "1875/1875 [==============================] - 33s 18ms/step - loss: 0.0633 - accuracy: 0.9817\n",
            "\n",
            "Epoch 00004: LearningRateScheduler reducing learning rate to 0.0021599999999999996.\n",
            "Epoch 4/15\n",
            "1875/1875 [==============================] - 34s 18ms/step - loss: 0.0426 - accuracy: 0.9871\n",
            "\n",
            "Epoch 00005: LearningRateScheduler reducing learning rate to 0.001296.\n",
            "Epoch 5/15\n",
            "1875/1875 [==============================] - 33s 18ms/step - loss: 0.0321 - accuracy: 0.9898\n",
            "\n",
            "Epoch 00006: LearningRateScheduler reducing learning rate to 0.0007775999999999998.\n",
            "Epoch 6/15\n",
            "1875/1875 [==============================] - 34s 18ms/step - loss: 0.0227 - accuracy: 0.9931\n",
            "\n",
            "Epoch 00007: LearningRateScheduler reducing learning rate to 0.0004665599999999999.\n",
            "Epoch 7/15\n",
            "1875/1875 [==============================] - 33s 17ms/step - loss: 0.0172 - accuracy: 0.9948\n",
            "\n",
            "Epoch 00008: LearningRateScheduler reducing learning rate to 0.00027993599999999994.\n",
            "Epoch 8/15\n",
            "1875/1875 [==============================] - 32s 17ms/step - loss: 0.0141 - accuracy: 0.9961\n",
            "\n",
            "Epoch 00009: LearningRateScheduler reducing learning rate to 0.00016796159999999993.\n",
            "Epoch 9/15\n",
            "1875/1875 [==============================] - 35s 19ms/step - loss: 0.0123 - accuracy: 0.9966\n",
            "\n",
            "Epoch 00010: LearningRateScheduler reducing learning rate to 0.00010077695999999997.\n",
            "Epoch 10/15\n",
            "1875/1875 [==============================] - 32s 17ms/step - loss: 0.0112 - accuracy: 0.9971\n",
            "\n",
            "Epoch 00011: LearningRateScheduler reducing learning rate to 6.0466175999999974e-05.\n",
            "Epoch 11/15\n",
            "1875/1875 [==============================] - 33s 17ms/step - loss: 0.0104 - accuracy: 0.9974\n",
            "\n",
            "Epoch 00012: LearningRateScheduler reducing learning rate to 3.627970559999999e-05.\n",
            "Epoch 12/15\n",
            "1875/1875 [==============================] - 33s 17ms/step - loss: 0.0100 - accuracy: 0.9975\n",
            "\n",
            "Epoch 00013: LearningRateScheduler reducing learning rate to 2.1767823359999992e-05.\n",
            "Epoch 13/15\n",
            "1875/1875 [==============================] - 32s 17ms/step - loss: 0.0098 - accuracy: 0.9976\n",
            "\n",
            "Epoch 00014: LearningRateScheduler reducing learning rate to 1.3060694015999994e-05.\n",
            "Epoch 14/15\n",
            "1875/1875 [==============================] - 33s 17ms/step - loss: 0.0096 - accuracy: 0.9976\n",
            "\n",
            "Epoch 00015: LearningRateScheduler reducing learning rate to 7.836416409599996e-06.\n",
            "Epoch 15/15\n",
            "1875/1875 [==============================] - 33s 18ms/step - loss: 0.0095 - accuracy: 0.9977\n"
          ],
          "name": "stdout"
        },
        {
          "output_type": "execute_result",
          "data": {
            "text/plain": [
              "<tensorflow.python.keras.callbacks.History at 0x7fc37a21ea20>"
            ]
          },
          "metadata": {
            "tags": []
          },
          "execution_count": 20
        }
      ]
    },
    {
      "cell_type": "code",
      "metadata": {
        "id": "8kq6whM0jfdF",
        "colab_type": "code",
        "colab": {
          "base_uri": "https://localhost:8080/",
          "height": 67
        },
        "outputId": "0686a69f-bc1c-4911-b09b-e21269c29534"
      },
      "source": [
        "#evaluate\n",
        "test_loss, test_acc = cnnmodel1.evaluate(test_images,  test_labels)\n",
        "print('\\nTest accuracy:', test_acc)"
      ],
      "execution_count": null,
      "outputs": [
        {
          "output_type": "stream",
          "text": [
            "313/313 [==============================] - 3s 8ms/step - loss: 0.0674 - accuracy: 0.9849\n",
            "\n",
            "Test accuracy: 0.9848999977111816\n"
          ],
          "name": "stdout"
        }
      ]
    },
    {
      "cell_type": "code",
      "metadata": {
        "id": "vNTv0oZ0jfdG",
        "colab_type": "code",
        "colab": {}
      },
      "source": [
        "# Predict on the first 5 test images.\n",
        "predictions = cnnmodel1.predict(test_images[:5])"
      ],
      "execution_count": null,
      "outputs": []
    },
    {
      "cell_type": "code",
      "metadata": {
        "id": "K6oxd6UZjfdH",
        "colab_type": "code",
        "colab": {
          "base_uri": "https://localhost:8080/",
          "height": 269
        },
        "outputId": "ab2d92cf-ba80-4abd-973f-a4ddfa3a6e79"
      },
      "source": [
        "#Raw predictions\n",
        "predictions"
      ],
      "execution_count": null,
      "outputs": [
        {
          "output_type": "execute_result",
          "data": {
            "text/plain": [
              "array([[2.58821339e-13, 4.42130360e-10, 2.81399093e-06, 8.22663992e-10,\n",
              "        4.22725073e-08, 1.46156628e-10, 3.79519306e-19, 9.99997020e-01,\n",
              "        1.57904023e-10, 1.16600425e-07],\n",
              "       [1.49077127e-12, 1.85843983e-12, 1.00000000e+00, 4.35442698e-12,\n",
              "        2.57657827e-12, 6.03696712e-14, 1.64096066e-14, 5.49620523e-11,\n",
              "        2.45187880e-11, 8.77612372e-16],\n",
              "       [1.45968844e-16, 1.00000000e+00, 4.10229779e-14, 9.53375804e-19,\n",
              "        3.30425687e-11, 5.42400597e-14, 4.69045679e-12, 2.23021471e-14,\n",
              "        2.85816596e-12, 3.74989861e-13],\n",
              "       [9.99956965e-01, 1.10112047e-14, 2.14770146e-10, 2.89034602e-10,\n",
              "        1.29831657e-09, 1.60293254e-08, 3.27569251e-05, 1.62169421e-12,\n",
              "        5.78023451e-09, 1.02208933e-05],\n",
              "       [3.10790182e-18, 1.15170070e-14, 1.86831209e-13, 1.04194933e-20,\n",
              "        1.00000000e+00, 8.31934267e-16, 6.68590888e-14, 4.18914306e-13,\n",
              "        2.64455992e-13, 8.70124042e-11]], dtype=float32)"
            ]
          },
          "metadata": {
            "tags": []
          },
          "execution_count": 24
        }
      ]
    },
    {
      "cell_type": "code",
      "metadata": {
        "id": "TP0TyP6vjfdI",
        "colab_type": "code",
        "colab": {
          "base_uri": "https://localhost:8080/",
          "height": 34
        },
        "outputId": "8e26d1cd-fd1d-4401-b37d-dadee384d4df"
      },
      "source": [
        "# Print our model's predictions\n",
        "print(np.argmax(predictions, axis=1))"
      ],
      "execution_count": null,
      "outputs": [
        {
          "output_type": "stream",
          "text": [
            "[7 2 1 0 4]\n"
          ],
          "name": "stdout"
        }
      ]
    },
    {
      "cell_type": "code",
      "metadata": {
        "id": "ZCn55NCijfdJ",
        "colab_type": "code",
        "colab": {
          "base_uri": "https://localhost:8080/",
          "height": 34
        },
        "outputId": "ea3548b2-3427-4f0b-bc89-a87735844072"
      },
      "source": [
        "# Check our predictions against the ground truths\n",
        "print(test_labels[:5]) # [7, 2, 1, 0, 4]"
      ],
      "execution_count": null,
      "outputs": [
        {
          "output_type": "stream",
          "text": [
            "[7 2 1 0 4]\n"
          ],
          "name": "stdout"
        }
      ]
    },
    {
      "cell_type": "code",
      "metadata": {
        "id": "vXjPrCbZmME4",
        "colab_type": "code",
        "colab": {}
      },
      "source": [
        ""
      ],
      "execution_count": null,
      "outputs": []
    },
    {
      "cell_type": "markdown",
      "metadata": {
        "id": "I_NGRUxfyf1P",
        "colab_type": "text"
      },
      "source": [
        "# 98.79"
      ]
    },
    {
      "cell_type": "code",
      "metadata": {
        "colab_type": "code",
        "id": "zwM7d4vsmrkp",
        "colab": {}
      },
      "source": [
        "#setup model\n",
        "cnnmodel2 = keras.Sequential([\n",
        "    keras.layers.Conv2D(kernel_size=3,filters=12,activation='relu',padding='same',input_shape=(28,28,1)),\n",
        "    keras.layers.Conv2D(kernel_size=6,filters=24,activation='relu',padding='same',strides=3),\n",
        "    keras.layers.Conv2D(kernel_size=6,filters=32,activation='relu',padding='same',strides=3),\n",
        "    keras.layers.Flatten(),\n",
        "    keras.layers.Dense(128, activation='relu'),\n",
        "    #keras.layers.Dropout(0.25),\n",
        "    keras.layers.Dense(10, activation = tf.nn.softmax)    \n",
        "])"
      ],
      "execution_count": null,
      "outputs": []
    },
    {
      "cell_type": "code",
      "metadata": {
        "colab_type": "code",
        "id": "0Qqr9SSMmrk6",
        "colab": {}
      },
      "source": [
        "#compile model\n",
        "cnnmodel2.compile(optimizer='adam',\n",
        "          loss='sparse_categorical_crossentropy',\n",
        "          metrics=['accuracy'])"
      ],
      "execution_count": null,
      "outputs": []
    },
    {
      "cell_type": "code",
      "metadata": {
        "colab_type": "code",
        "id": "gp-Uz8efmrk_",
        "colab": {
          "base_uri": "https://localhost:8080/",
          "height": 370
        },
        "outputId": "13dfdd66-975e-4cb3-f082-14f868d9c97e"
      },
      "source": [
        "#train model\n",
        "cnnmodel2.fit(train_images, train_labels, epochs=10)"
      ],
      "execution_count": null,
      "outputs": [
        {
          "output_type": "stream",
          "text": [
            "Epoch 1/10\n",
            "1875/1875 [==============================] - 49s 26ms/step - loss: 0.1642 - accuracy: 0.9486\n",
            "Epoch 2/10\n",
            "1875/1875 [==============================] - 49s 26ms/step - loss: 0.0553 - accuracy: 0.9828\n",
            "Epoch 3/10\n",
            "1875/1875 [==============================] - 52s 28ms/step - loss: 0.0374 - accuracy: 0.9885\n",
            "Epoch 4/10\n",
            "1875/1875 [==============================] - 50s 27ms/step - loss: 0.0278 - accuracy: 0.9911\n",
            "Epoch 5/10\n",
            "1875/1875 [==============================] - 50s 27ms/step - loss: 0.0212 - accuracy: 0.9929\n",
            "Epoch 6/10\n",
            "1875/1875 [==============================] - 51s 27ms/step - loss: 0.0169 - accuracy: 0.9948\n",
            "Epoch 7/10\n",
            "1875/1875 [==============================] - 50s 27ms/step - loss: 0.0137 - accuracy: 0.9955\n",
            "Epoch 8/10\n",
            "1875/1875 [==============================] - 50s 27ms/step - loss: 0.0129 - accuracy: 0.9957\n",
            "Epoch 9/10\n",
            "1875/1875 [==============================] - 51s 27ms/step - loss: 0.0106 - accuracy: 0.9966\n",
            "Epoch 10/10\n",
            "1875/1875 [==============================] - 49s 26ms/step - loss: 0.0089 - accuracy: 0.9972\n"
          ],
          "name": "stdout"
        },
        {
          "output_type": "execute_result",
          "data": {
            "text/plain": [
              "<tensorflow.python.keras.callbacks.History at 0x7fc37644f208>"
            ]
          },
          "metadata": {
            "tags": []
          },
          "execution_count": 33
        }
      ]
    },
    {
      "cell_type": "code",
      "metadata": {
        "colab_type": "code",
        "id": "1cKncamGmrlC",
        "colab": {
          "base_uri": "https://localhost:8080/",
          "height": 67
        },
        "outputId": "5d944a29-b990-4b68-cf83-64f8079f4a0e"
      },
      "source": [
        "#evaluate\n",
        "test_loss, test_acc = cnnmodel2.evaluate(test_images,  test_labels)\n",
        "print('\\nTest accuracy:', test_acc)"
      ],
      "execution_count": null,
      "outputs": [
        {
          "output_type": "stream",
          "text": [
            "313/313 [==============================] - 3s 10ms/step - loss: 0.0452 - accuracy: 0.9879\n",
            "\n",
            "Test accuracy: 0.9879000186920166\n"
          ],
          "name": "stdout"
        }
      ]
    },
    {
      "cell_type": "code",
      "metadata": {
        "colab_type": "code",
        "id": "y9xQ3pdlmrlF",
        "colab": {}
      },
      "source": [
        "# Predict on the first 5 test images.\n",
        "predictions = cnnmodel2.predict(test_images[:5])"
      ],
      "execution_count": null,
      "outputs": []
    },
    {
      "cell_type": "code",
      "metadata": {
        "colab_type": "code",
        "id": "7mP5poDlmrlG",
        "colab": {
          "base_uri": "https://localhost:8080/",
          "height": 269
        },
        "outputId": "9a2f0451-3592-4a97-df5a-1c7f4369d0b0"
      },
      "source": [
        "#Raw predictions\n",
        "predictions"
      ],
      "execution_count": null,
      "outputs": [
        {
          "output_type": "execute_result",
          "data": {
            "text/plain": [
              "array([[9.1748900e-12, 9.1796556e-11, 2.7299302e-08, 3.6320422e-11,\n",
              "        9.8894764e-12, 4.1397853e-13, 2.6194843e-17, 1.0000000e+00,\n",
              "        6.2747745e-13, 2.2187985e-09],\n",
              "       [7.1729658e-20, 1.1877107e-15, 1.0000000e+00, 1.1910056e-21,\n",
              "        4.0960795e-23, 6.2814627e-26, 1.1696030e-18, 4.7109088e-23,\n",
              "        8.9971780e-15, 2.7189868e-23],\n",
              "       [4.1285803e-06, 9.9987817e-01, 3.0863303e-06, 2.2479698e-09,\n",
              "        1.4219809e-06, 2.9214144e-07, 1.5567189e-06, 1.2510365e-06,\n",
              "        1.1002855e-04, 1.6997017e-08],\n",
              "       [9.9999952e-01, 1.8046469e-17, 2.3325680e-10, 7.8363465e-15,\n",
              "        1.0223754e-11, 4.1493212e-11, 2.2690299e-08, 4.9674110e-12,\n",
              "        2.4817688e-11, 4.6448841e-07],\n",
              "       [2.7687352e-11, 4.4522434e-11, 2.8588606e-10, 8.1518204e-12,\n",
              "        9.9994826e-01, 3.4906242e-10, 8.7942237e-11, 1.3688676e-11,\n",
              "        1.2679978e-09, 5.1759605e-05]], dtype=float32)"
            ]
          },
          "metadata": {
            "tags": []
          },
          "execution_count": 36
        }
      ]
    },
    {
      "cell_type": "code",
      "metadata": {
        "colab_type": "code",
        "id": "SBD8o0YOmrlI",
        "colab": {
          "base_uri": "https://localhost:8080/",
          "height": 34
        },
        "outputId": "36da4567-b943-444a-eb8a-207f82b8afc3"
      },
      "source": [
        "# Print our model's predictions\n",
        "print(np.argmax(predictions, axis=1))"
      ],
      "execution_count": null,
      "outputs": [
        {
          "output_type": "stream",
          "text": [
            "[7 2 1 0 4]\n"
          ],
          "name": "stdout"
        }
      ]
    },
    {
      "cell_type": "code",
      "metadata": {
        "colab_type": "code",
        "id": "gS6F7tHWmrlK",
        "colab": {
          "base_uri": "https://localhost:8080/",
          "height": 34
        },
        "outputId": "7ac08e90-fa12-4d39-c0cd-b7fd0a2bbf64"
      },
      "source": [
        "# Check our predictions against the ground truths\n",
        "print(test_labels[:5]) # [7, 2, 1, 0, 4]"
      ],
      "execution_count": null,
      "outputs": [
        {
          "output_type": "stream",
          "text": [
            "[7 2 1 0 4]\n"
          ],
          "name": "stdout"
        }
      ]
    },
    {
      "cell_type": "code",
      "metadata": {
        "id": "JuMufP6ussy5",
        "colab_type": "code",
        "colab": {}
      },
      "source": [
        ""
      ],
      "execution_count": null,
      "outputs": []
    },
    {
      "cell_type": "markdown",
      "metadata": {
        "id": "vqtSOYcSylVP",
        "colab_type": "text"
      },
      "source": [
        "# 98.94"
      ]
    },
    {
      "cell_type": "code",
      "metadata": {
        "colab_type": "code",
        "id": "4OipBqD-sv_U",
        "colab": {}
      },
      "source": [
        "#setup model\n",
        "cnnmodel3 = keras.Sequential([\n",
        "    keras.layers.Conv2D(kernel_size=3,filters=12,activation='relu',padding='same',input_shape=(28,28,1)),\n",
        "    keras.layers.Conv2D(kernel_size=6,filters=24,activation='relu',padding='same',strides=3),\n",
        "    keras.layers.Conv2D(kernel_size=6,filters=32,activation='relu',padding='same',strides=3),\n",
        "    keras.layers.Flatten(),\n",
        "    keras.layers.Dense(128, activation='relu'),\n",
        "    keras.layers.Dropout(0.4),\n",
        "    keras.layers.Dense(200, activation='relu'),\n",
        "    keras.layers.Dropout(0.4),\n",
        "    keras.layers.Dense(10, activation = tf.nn.softmax)    \n",
        "])"
      ],
      "execution_count": null,
      "outputs": []
    },
    {
      "cell_type": "code",
      "metadata": {
        "colab_type": "code",
        "id": "MNVgyRlzsv_X",
        "colab": {}
      },
      "source": [
        "#compile model\n",
        "cnnmodel3.compile(optimizer='adam',\n",
        "          loss='sparse_categorical_crossentropy',\n",
        "          metrics=['accuracy'])"
      ],
      "execution_count": null,
      "outputs": []
    },
    {
      "cell_type": "code",
      "metadata": {
        "colab_type": "code",
        "id": "3h4C3nsZsv_Y",
        "colab": {
          "base_uri": "https://localhost:8080/",
          "height": 374
        },
        "outputId": "b34879d1-0ae0-4260-dfa1-f1770d4386b8"
      },
      "source": [
        "#train model\n",
        "cnnmodel3.fit(train_images, train_labels, epochs=10)"
      ],
      "execution_count": null,
      "outputs": [
        {
          "output_type": "stream",
          "text": [
            "Epoch 1/10\n",
            "1875/1875 [==============================] - 53s 28ms/step - loss: 0.2596 - accuracy: 0.9220\n",
            "Epoch 2/10\n",
            "1875/1875 [==============================] - 54s 29ms/step - loss: 0.0893 - accuracy: 0.9750\n",
            "Epoch 3/10\n",
            "1875/1875 [==============================] - 51s 27ms/step - loss: 0.0631 - accuracy: 0.9826\n",
            "Epoch 4/10\n",
            "1875/1875 [==============================] - 50s 27ms/step - loss: 0.0502 - accuracy: 0.9859\n",
            "Epoch 5/10\n",
            "1875/1875 [==============================] - 52s 28ms/step - loss: 0.0428 - accuracy: 0.9883\n",
            "Epoch 6/10\n",
            "1875/1875 [==============================] - 51s 27ms/step - loss: 0.0353 - accuracy: 0.9899\n",
            "Epoch 7/10\n",
            "1875/1875 [==============================] - 51s 27ms/step - loss: 0.0299 - accuracy: 0.9913\n",
            "Epoch 8/10\n",
            "1875/1875 [==============================] - 52s 28ms/step - loss: 0.0280 - accuracy: 0.9918\n",
            "Epoch 9/10\n",
            "1875/1875 [==============================] - 52s 28ms/step - loss: 0.0260 - accuracy: 0.9924\n",
            "Epoch 10/10\n",
            "1875/1875 [==============================] - 51s 27ms/step - loss: 0.0211 - accuracy: 0.9942\n"
          ],
          "name": "stdout"
        },
        {
          "output_type": "execute_result",
          "data": {
            "text/plain": [
              "<tensorflow.python.keras.callbacks.History at 0x7fc374316c88>"
            ]
          },
          "metadata": {
            "tags": []
          },
          "execution_count": 41
        }
      ]
    },
    {
      "cell_type": "code",
      "metadata": {
        "colab_type": "code",
        "id": "YV9S8XaVsv_b",
        "colab": {
          "base_uri": "https://localhost:8080/",
          "height": 68
        },
        "outputId": "89e502ae-8ea0-4eba-89dc-6df247dfdf44"
      },
      "source": [
        "#evaluate\n",
        "test_loss, test_acc = cnnmodel3.evaluate(test_images,  test_labels)\n",
        "print('\\nTest accuracy:', test_acc)"
      ],
      "execution_count": null,
      "outputs": [
        {
          "output_type": "stream",
          "text": [
            "313/313 [==============================] - 3s 10ms/step - loss: 0.0458 - accuracy: 0.9895\n",
            "\n",
            "Test accuracy: 0.9894999861717224\n"
          ],
          "name": "stdout"
        }
      ]
    },
    {
      "cell_type": "code",
      "metadata": {
        "colab_type": "code",
        "id": "Q_J9vVPPsv_d",
        "colab": {}
      },
      "source": [
        "# Predict on the first 5 test images.\n",
        "predictions = cnnmodel3.predict(test_images[:5])"
      ],
      "execution_count": null,
      "outputs": []
    },
    {
      "cell_type": "code",
      "metadata": {
        "colab_type": "code",
        "id": "3lL0yu_psv_e",
        "colab": {
          "base_uri": "https://localhost:8080/",
          "height": 269
        },
        "outputId": "9a2f0451-3592-4a97-df5a-1c7f4369d0b0"
      },
      "source": [
        "#Raw predictions\n",
        "predictions"
      ],
      "execution_count": null,
      "outputs": [
        {
          "output_type": "execute_result",
          "data": {
            "text/plain": [
              "array([[9.1748900e-12, 9.1796556e-11, 2.7299302e-08, 3.6320422e-11,\n",
              "        9.8894764e-12, 4.1397853e-13, 2.6194843e-17, 1.0000000e+00,\n",
              "        6.2747745e-13, 2.2187985e-09],\n",
              "       [7.1729658e-20, 1.1877107e-15, 1.0000000e+00, 1.1910056e-21,\n",
              "        4.0960795e-23, 6.2814627e-26, 1.1696030e-18, 4.7109088e-23,\n",
              "        8.9971780e-15, 2.7189868e-23],\n",
              "       [4.1285803e-06, 9.9987817e-01, 3.0863303e-06, 2.2479698e-09,\n",
              "        1.4219809e-06, 2.9214144e-07, 1.5567189e-06, 1.2510365e-06,\n",
              "        1.1002855e-04, 1.6997017e-08],\n",
              "       [9.9999952e-01, 1.8046469e-17, 2.3325680e-10, 7.8363465e-15,\n",
              "        1.0223754e-11, 4.1493212e-11, 2.2690299e-08, 4.9674110e-12,\n",
              "        2.4817688e-11, 4.6448841e-07],\n",
              "       [2.7687352e-11, 4.4522434e-11, 2.8588606e-10, 8.1518204e-12,\n",
              "        9.9994826e-01, 3.4906242e-10, 8.7942237e-11, 1.3688676e-11,\n",
              "        1.2679978e-09, 5.1759605e-05]], dtype=float32)"
            ]
          },
          "metadata": {
            "tags": []
          },
          "execution_count": 36
        }
      ]
    },
    {
      "cell_type": "code",
      "metadata": {
        "colab_type": "code",
        "id": "HgdbRE_-sv_g",
        "colab": {
          "base_uri": "https://localhost:8080/",
          "height": 34
        },
        "outputId": "36da4567-b943-444a-eb8a-207f82b8afc3"
      },
      "source": [
        "# Print our model's predictions\n",
        "print(np.argmax(predictions, axis=1))"
      ],
      "execution_count": null,
      "outputs": [
        {
          "output_type": "stream",
          "text": [
            "[7 2 1 0 4]\n"
          ],
          "name": "stdout"
        }
      ]
    },
    {
      "cell_type": "code",
      "metadata": {
        "colab_type": "code",
        "id": "nKZwwiFrsv_h",
        "colab": {
          "base_uri": "https://localhost:8080/",
          "height": 34
        },
        "outputId": "7ac08e90-fa12-4d39-c0cd-b7fd0a2bbf64"
      },
      "source": [
        "# Check our predictions against the ground truths\n",
        "print(test_labels[:5]) # [7, 2, 1, 0, 4]"
      ],
      "execution_count": null,
      "outputs": [
        {
          "output_type": "stream",
          "text": [
            "[7 2 1 0 4]\n"
          ],
          "name": "stdout"
        }
      ]
    },
    {
      "cell_type": "code",
      "metadata": {
        "id": "6PCoRJsAvWxy",
        "colab_type": "code",
        "colab": {}
      },
      "source": [
        ""
      ],
      "execution_count": null,
      "outputs": []
    },
    {
      "cell_type": "markdown",
      "metadata": {
        "id": "9ckBWrwYypLL",
        "colab_type": "text"
      },
      "source": [
        "# 99.29"
      ]
    },
    {
      "cell_type": "code",
      "metadata": {
        "colab_type": "code",
        "id": "EcUX6DYgvXKR",
        "colab": {}
      },
      "source": [
        "#setup model\n",
        "cnnmodel4 = keras.Sequential([\n",
        "    keras.layers.Conv2D(kernel_size=3,filters=12,use_bias=False,padding='same'),\n",
        "    keras.layers.BatchNormalization(center=True,scale=False),\n",
        "    keras.layers.Activation('relu'),\n",
        "\n",
        "    keras.layers.Conv2D(kernel_size=6,filters=24,use_bias=False,padding='same',strides=2),\n",
        "    keras.layers.BatchNormalization(center=True,scale=False),\n",
        "    keras.layers.Activation('relu'),\n",
        "    \n",
        "    keras.layers.Conv2D(kernel_size=6,filters=32,use_bias=False,padding='same',strides=2),\n",
        "    keras.layers.BatchNormalization(center=True,scale=False),\n",
        "    keras.layers.Activation('relu'),\n",
        "    \n",
        "    keras.layers.Flatten(),\n",
        "    \n",
        "    keras.layers.Dense(128),\n",
        "    keras.layers.BatchNormalization(center=True,scale=False),\n",
        "    keras.layers.Activation('relu'),\n",
        "    keras.layers.Dropout(0.4),\n",
        "\n",
        "    keras.layers.Dense(200),\n",
        "    keras.layers.BatchNormalization(center=True,scale=False),\n",
        "    keras.layers.Activation('relu'),\n",
        "    keras.layers.Dropout(0.4),\n",
        "    \n",
        "    keras.layers.Dense(10, activation = tf.nn.softmax)    \n",
        "])"
      ],
      "execution_count": null,
      "outputs": []
    },
    {
      "cell_type": "code",
      "metadata": {
        "colab_type": "code",
        "id": "Z-et_TdevXKd",
        "colab": {}
      },
      "source": [
        "#compile model\n",
        "cnnmodel4.compile(optimizer='adam',\n",
        "          loss='sparse_categorical_crossentropy',\n",
        "          metrics=['accuracy'])"
      ],
      "execution_count": null,
      "outputs": []
    },
    {
      "cell_type": "code",
      "metadata": {
        "colab_type": "code",
        "id": "bYsyt7sMvXKj",
        "colab": {
          "base_uri": "https://localhost:8080/",
          "height": 374
        },
        "outputId": "d73b10c2-374f-45e4-9ebb-6a28b7364338"
      },
      "source": [
        "#train model\n",
        "cnnmodel4.fit(train_images, train_labels, epochs=10)"
      ],
      "execution_count": null,
      "outputs": [
        {
          "output_type": "stream",
          "text": [
            "Epoch 1/10\n",
            "1875/1875 [==============================] - 6s 3ms/step - loss: 0.2169 - accuracy: 0.9351\n",
            "Epoch 2/10\n",
            "1875/1875 [==============================] - 6s 3ms/step - loss: 0.0809 - accuracy: 0.9759\n",
            "Epoch 3/10\n",
            "1875/1875 [==============================] - 6s 3ms/step - loss: 0.0626 - accuracy: 0.9819\n",
            "Epoch 4/10\n",
            "1875/1875 [==============================] - 6s 3ms/step - loss: 0.0523 - accuracy: 0.9848\n",
            "Epoch 5/10\n",
            "1875/1875 [==============================] - 6s 3ms/step - loss: 0.0430 - accuracy: 0.9873\n",
            "Epoch 6/10\n",
            "1875/1875 [==============================] - 6s 3ms/step - loss: 0.0387 - accuracy: 0.9880\n",
            "Epoch 7/10\n",
            "1875/1875 [==============================] - 6s 3ms/step - loss: 0.0348 - accuracy: 0.9896\n",
            "Epoch 8/10\n",
            "1875/1875 [==============================] - 6s 3ms/step - loss: 0.0293 - accuracy: 0.9910\n",
            "Epoch 9/10\n",
            "1875/1875 [==============================] - 7s 3ms/step - loss: 0.0264 - accuracy: 0.9917\n",
            "Epoch 10/10\n",
            "1875/1875 [==============================] - 7s 4ms/step - loss: 0.0236 - accuracy: 0.9931\n"
          ],
          "name": "stdout"
        },
        {
          "output_type": "execute_result",
          "data": {
            "text/plain": [
              "<tensorflow.python.keras.callbacks.History at 0x7f461c2e4b38>"
            ]
          },
          "metadata": {
            "tags": []
          },
          "execution_count": 15
        }
      ]
    },
    {
      "cell_type": "code",
      "metadata": {
        "colab_type": "code",
        "id": "AQfPnv0_vXKq",
        "colab": {
          "base_uri": "https://localhost:8080/",
          "height": 68
        },
        "outputId": "a4c058ed-146d-477b-b3c1-3723788375f2"
      },
      "source": [
        "#evaluate\n",
        "test_loss, test_acc = cnnmodel4.evaluate(test_images,  test_labels)\n",
        "print('\\nTest accuracy:', test_acc)"
      ],
      "execution_count": null,
      "outputs": [
        {
          "output_type": "stream",
          "text": [
            "313/313 [==============================] - 1s 2ms/step - loss: 0.0217 - accuracy: 0.9930\n",
            "\n",
            "Test accuracy: 0.9929999709129333\n"
          ],
          "name": "stdout"
        }
      ]
    },
    {
      "cell_type": "code",
      "metadata": {
        "colab_type": "code",
        "id": "f5F4O0ZGvXKu",
        "colab": {}
      },
      "source": [
        "# Predict on the first 5 test images.\n",
        "predictions = cnnmodel4.predict(test_images[:5])"
      ],
      "execution_count": null,
      "outputs": []
    },
    {
      "cell_type": "code",
      "metadata": {
        "colab_type": "code",
        "id": "TVv9nvVMvXKw",
        "colab": {
          "base_uri": "https://localhost:8080/",
          "height": 272
        },
        "outputId": "31fa3e44-92a6-4a34-df55-5157b95a5f65"
      },
      "source": [
        "#Raw predictions\n",
        "predictions"
      ],
      "execution_count": null,
      "outputs": [
        {
          "output_type": "execute_result",
          "data": {
            "text/plain": [
              "array([[8.15029988e-10, 6.32423962e-08, 1.49575797e-07, 4.90447150e-09,\n",
              "        4.88744085e-08, 4.83876716e-10, 5.69438852e-09, 9.99999166e-01,\n",
              "        8.34515027e-11, 6.13133807e-07],\n",
              "       [1.54924024e-07, 3.56493821e-08, 9.99994516e-01, 1.02682804e-07,\n",
              "        3.28987397e-08, 4.01041570e-12, 4.93736297e-06, 1.99132330e-07,\n",
              "        1.24171269e-08, 5.16413845e-09],\n",
              "       [3.17750465e-10, 1.00000000e+00, 1.05235687e-09, 1.21815127e-11,\n",
              "        2.25314503e-10, 7.56320145e-11, 7.45349737e-09, 1.44219303e-08,\n",
              "        1.30716185e-08, 2.39522256e-11],\n",
              "       [9.99992847e-01, 5.15069551e-08, 9.99725547e-09, 2.39075315e-09,\n",
              "        4.26711289e-08, 3.13056091e-07, 4.29830470e-06, 1.55122905e-07,\n",
              "        1.62151912e-06, 7.66250992e-07],\n",
              "       [1.31871081e-09, 2.82378380e-07, 5.03988240e-10, 1.55313193e-11,\n",
              "        9.99982953e-01, 7.10562553e-10, 8.89375773e-09, 4.94240426e-09,\n",
              "        1.31498590e-09, 1.68008792e-05]], dtype=float32)"
            ]
          },
          "metadata": {
            "tags": []
          },
          "execution_count": 19
        }
      ]
    },
    {
      "cell_type": "code",
      "metadata": {
        "colab_type": "code",
        "id": "qjCBstoQvXKz",
        "colab": {
          "base_uri": "https://localhost:8080/",
          "height": 34
        },
        "outputId": "6281fa2d-7785-4eef-e6c0-cb2a32eb5892"
      },
      "source": [
        "# Print our model's predictions\n",
        "print(np.argmax(predictions, axis=1))"
      ],
      "execution_count": null,
      "outputs": [
        {
          "output_type": "stream",
          "text": [
            "[7 2 1 0 4]\n"
          ],
          "name": "stdout"
        }
      ]
    },
    {
      "cell_type": "code",
      "metadata": {
        "colab_type": "code",
        "id": "bMyIkT8evXK2",
        "colab": {
          "base_uri": "https://localhost:8080/",
          "height": 34
        },
        "outputId": "e627b05e-9024-4586-9d7c-cee4c95a0252"
      },
      "source": [
        "# Check our predictions against the ground truths\n",
        "print(test_labels[:5]) # [7, 2, 1, 0, 4]"
      ],
      "execution_count": null,
      "outputs": [
        {
          "output_type": "stream",
          "text": [
            "[7 2 1 0 4]\n"
          ],
          "name": "stdout"
        }
      ]
    },
    {
      "cell_type": "code",
      "metadata": {
        "id": "7Keox2IM1CNw",
        "colab_type": "code",
        "colab": {}
      },
      "source": [
        ""
      ],
      "execution_count": null,
      "outputs": []
    },
    {
      "cell_type": "markdown",
      "metadata": {
        "id": "dKGxEp7Z52bm",
        "colab_type": "text"
      },
      "source": [
        "# Comparison Table\n"
      ]
    },
    {
      "cell_type": "markdown",
      "metadata": {
        "colab_type": "text",
        "id": "OEqpiGKd564Z"
      },
      "source": [
        "| Approach | Accuracy(%) |\n",
        "|---|---|\n",
        "| Base 3x Conv2D | 98.79 |\n",
        "| 3 x conv with Max Pool and lr Decay | 98.48 |\n",
        "| Extra Dense layer with Dropout | 98.94 |\n",
        "| 3x Conv, 2xDense, with Dropout & BatchNorm | 99.29|"
      ]
    },
    {
      "cell_type": "markdown",
      "metadata": {
        "colab_type": "text",
        "id": "8uU_2T6s564Z"
      },
      "source": [
        "**Conclusion**:\n",
        "Batch Norm made an enourmous difference, allowing us to reach the required accuracy."
      ]
    },
    {
      "cell_type": "code",
      "metadata": {
        "id": "doH-X17D54SJ",
        "colab_type": "code",
        "colab": {}
      },
      "source": [
        ""
      ],
      "execution_count": null,
      "outputs": []
    }
  ]
}