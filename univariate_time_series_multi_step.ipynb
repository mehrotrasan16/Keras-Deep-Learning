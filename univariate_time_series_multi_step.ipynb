{
  "nbformat": 4,
  "nbformat_minor": 0,
  "metadata": {
    "kernelspec": {
      "display_name": "Python 3",
      "language": "python",
      "name": "python3"
    },
    "language_info": {
      "codemirror_mode": {
        "name": "ipython",
        "version": 3
      },
      "file_extension": ".py",
      "mimetype": "text/x-python",
      "name": "python",
      "nbconvert_exporter": "python",
      "pygments_lexer": "ipython3",
      "version": "3.8.3"
    },
    "nav_menu": {},
    "toc": {
      "navigate_menu": true,
      "number_sections": true,
      "sideBar": true,
      "threshold": 6,
      "toc_cell": false,
      "toc_section_display": "block",
      "toc_window_display": false
    },
    "colab": {
      "name": "univariate-time-series-multi-step.ipynb",
      "provenance": [],
      "collapsed_sections": [],
      "toc_visible": true,
      "include_colab_link": true
    },
    "accelerator": "GPU"
  },
  "cells": [
    {
      "cell_type": "markdown",
      "metadata": {
        "id": "view-in-github",
        "colab_type": "text"
      },
      "source": [
        "<a href=\"https://colab.research.google.com/github/mehrotrasan16/Keras-Deep-Learning/blob/05-RNN-LSTM-Seq2Seq-Networks/univariate_time_series_multi_step.ipynb\" target=\"_parent\"><img src=\"https://colab.research.google.com/assets/colab-badge.svg\" alt=\"Open In Colab\"/></a>"
      ]
    },
    {
      "cell_type": "code",
      "metadata": {
        "id": "Y9_6QfmqUffG",
        "colab": {
          "base_uri": "https://localhost:8080/"
        },
        "outputId": "d398d322-8946-43e9-8ece-1034b5f69e6e"
      },
      "source": [
        "from google.colab import drive\n",
        "drive.mount('/content/drive')"
      ],
      "execution_count": 3,
      "outputs": [
        {
          "output_type": "stream",
          "text": [
            "Mounted at /content/drive\n"
          ],
          "name": "stdout"
        }
      ]
    },
    {
      "cell_type": "code",
      "metadata": {
        "id": "o20AertRUURA"
      },
      "source": [
        "import sys\n",
        "import sklearn\n",
        "import tensorflow as tf\n",
        "from tensorflow import keras\n",
        "\n",
        "import numpy as np\n",
        "from numpy import load\n",
        "import os\n",
        "\n",
        "# to make this notebook's output stable across runs\n",
        "np.random.seed(42)\n",
        "tf.random.set_seed(42)\n",
        "\n",
        "# To plot pretty figures\n",
        "%matplotlib inline\n",
        "import matplotlib as mpl\n",
        "import matplotlib.pyplot as plt\n",
        "mpl.rc('axes', labelsize=14)\n",
        "mpl.rc('xtick', labelsize=12)\n",
        "mpl.rc('ytick', labelsize=12)\n",
        "\n",
        "# Where to save the figures\n",
        "PROJECT_ROOT_DIR = \".\"\n",
        "IMAGES_PATH = os.path.join(PROJECT_ROOT_DIR, \"images\")\n",
        "os.makedirs(IMAGES_PATH, exist_ok=True)\n",
        "\n",
        "def save_fig(fig_id, tight_layout=True, fig_extension=\"png\", resolution=300):\n",
        "    path = os.path.join(IMAGES_PATH, fig_id + \".\" + fig_extension)\n",
        "    print(\"Saving figure\", fig_id)\n",
        "    if tight_layout:\n",
        "        plt.tight_layout()\n",
        "    plt.savefig(path, format=fig_extension, dpi=resolution)"
      ],
      "execution_count": 4,
      "outputs": []
    },
    {
      "cell_type": "markdown",
      "metadata": {
        "id": "tAPzzGWRUURJ"
      },
      "source": [
        "### Load Dataset"
      ]
    },
    {
      "cell_type": "code",
      "metadata": {
        "id": "TXsJCzfxUURK"
      },
      "source": [
        "def plot_learning_curves(loss, val_loss):\n",
        "    plt.plot(np.arange(len(loss)) + 0.5, loss, \"b.-\", label=\"Training loss\")\n",
        "    plt.plot(np.arange(len(val_loss)) + 1, val_loss, \"r.-\", label=\"Validation loss\")\n",
        "    plt.gca().xaxis.set_major_locator(mpl.ticker.MaxNLocator(integer=True))\n",
        "    plt.axis([1, 20, 0, 0.05])\n",
        "    plt.legend(fontsize=14)\n",
        "    plt.xlabel(\"Epochs\")\n",
        "    plt.ylabel(\"Loss\")\n",
        "    plt.grid(True)"
      ],
      "execution_count": 5,
      "outputs": []
    },
    {
      "cell_type": "code",
      "metadata": {
        "id": "jt2Y7nm7UURO"
      },
      "source": [
        "def plot_series(series, y=None, y_pred=None, x_label=\"$t$\", y_label=\"$x(t)$\"):\n",
        "    plt.plot(series, \".-\")\n",
        "    if y is not None:\n",
        "        plt.plot(n_steps, y, \"bx\", markersize=10)\n",
        "    if y_pred is not None:\n",
        "        plt.plot(n_steps, y_pred, \"ro\")\n",
        "    plt.grid(True)\n",
        "    if x_label:\n",
        "        plt.xlabel(x_label, fontsize=16)\n",
        "    if y_label:\n",
        "        plt.ylabel(y_label, fontsize=16, rotation=0)\n",
        "    plt.hlines(0, 0, 100, linewidth=1)\n",
        "    plt.axis([0, n_steps + 1, -1, 1])"
      ],
      "execution_count": 6,
      "outputs": []
    },
    {
      "cell_type": "code",
      "metadata": {
        "id": "KEcz-_lyUURR"
      },
      "source": [
        "def plot_multiple_forecasts(X, Y, Y_pred):\n",
        "    n_steps = X.shape[1]\n",
        "    ahead = Y.shape[1]\n",
        "    plot_series(X[0, :, 0])\n",
        "    plt.plot(np.arange(n_steps, n_steps + ahead), Y[0, :, 0], \"ro-\", label=\"Actual\")\n",
        "    plt.plot(np.arange(n_steps, n_steps + ahead), Y_pred[0, :, 0], \"bx-\", label=\"Forecast\", markersize=10)\n",
        "    plt.axis([0, n_steps + ahead, -1, 1])\n",
        "    plt.legend(fontsize=14)"
      ],
      "execution_count": 7,
      "outputs": []
    },
    {
      "cell_type": "markdown",
      "metadata": {
        "id": "7CvxVat0UURU"
      },
      "source": [
        "## Forecasting Several Steps Ahead\n",
        "\n",
        "If we want to predict the next 10 values, instead of just 1, we can modify our previous model to predict the next 10 values. We first need to load the dataset that has sequences with 9 more time steps."
      ]
    },
    {
      "cell_type": "code",
      "metadata": {
        "id": "2Mv8yoOnUURV"
      },
      "source": [
        "n_steps = 50\n",
        "series = load('/content/drive/MyDrive/Colab Notebooks/CS581-TestResults/assignment5/HW5-supp-files/univariate-time-series-multi-step.npy')\n",
        "\n",
        "X_train, Y_train = series[:7000, :n_steps], series[:7000, -10:, 0]\n",
        "X_valid, Y_valid = series[7000:9000, :n_steps], series[7000:9000, -10:, 0]\n",
        "X_test, Y_test = series[9000:, :n_steps], series[9000:, -10:, 0]"
      ],
      "execution_count": 8,
      "outputs": []
    },
    {
      "cell_type": "code",
      "metadata": {
        "id": "2j3wIC5GUURY",
        "colab": {
          "base_uri": "https://localhost:8080/"
        },
        "outputId": "fbf4e787-49d2-4836-9150-2e0697b5ac3f"
      },
      "source": [
        "#Improve upon this model with your own model\n",
        "\n",
        "model = keras.models.Sequential([\n",
        "    keras.layers.Flatten(input_shape=[50, 1]),\n",
        "    keras.layers.Dense(10)\n",
        "])\n",
        "\n",
        "model.compile(loss=\"mse\", optimizer=\"adam\")\n",
        "history = model.fit(X_train, Y_train, epochs=20,\n",
        "                    validation_data=(X_valid, Y_valid))"
      ],
      "execution_count": 9,
      "outputs": [
        {
          "output_type": "stream",
          "text": [
            "Epoch 1/20\n",
            "219/219 [==============================] - 1s 3ms/step - loss: 0.1389 - val_loss: 0.0753\n",
            "Epoch 2/20\n",
            "219/219 [==============================] - 0s 2ms/step - loss: 0.0624 - val_loss: 0.0551\n",
            "Epoch 3/20\n",
            "219/219 [==============================] - 0s 2ms/step - loss: 0.0505 - val_loss: 0.0470\n",
            "Epoch 4/20\n",
            "219/219 [==============================] - 0s 2ms/step - loss: 0.0447 - val_loss: 0.0422\n",
            "Epoch 5/20\n",
            "219/219 [==============================] - 0s 2ms/step - loss: 0.0413 - val_loss: 0.0396\n",
            "Epoch 6/20\n",
            "219/219 [==============================] - 0s 2ms/step - loss: 0.0390 - val_loss: 0.0376\n",
            "Epoch 7/20\n",
            "219/219 [==============================] - 0s 2ms/step - loss: 0.0374 - val_loss: 0.0360\n",
            "Epoch 8/20\n",
            "219/219 [==============================] - 0s 2ms/step - loss: 0.0362 - val_loss: 0.0350\n",
            "Epoch 9/20\n",
            "219/219 [==============================] - 0s 2ms/step - loss: 0.0354 - val_loss: 0.0342\n",
            "Epoch 10/20\n",
            "219/219 [==============================] - 0s 2ms/step - loss: 0.0347 - val_loss: 0.0336\n",
            "Epoch 11/20\n",
            "219/219 [==============================] - 0s 2ms/step - loss: 0.0342 - val_loss: 0.0333\n",
            "Epoch 12/20\n",
            "219/219 [==============================] - 0s 2ms/step - loss: 0.0337 - val_loss: 0.0327\n",
            "Epoch 13/20\n",
            "219/219 [==============================] - 0s 2ms/step - loss: 0.0334 - val_loss: 0.0324\n",
            "Epoch 14/20\n",
            "219/219 [==============================] - 0s 2ms/step - loss: 0.0331 - val_loss: 0.0323\n",
            "Epoch 15/20\n",
            "219/219 [==============================] - 0s 2ms/step - loss: 0.0329 - val_loss: 0.0319\n",
            "Epoch 16/20\n",
            "219/219 [==============================] - 0s 2ms/step - loss: 0.0326 - val_loss: 0.0318\n",
            "Epoch 17/20\n",
            "219/219 [==============================] - 0s 2ms/step - loss: 0.0324 - val_loss: 0.0317\n",
            "Epoch 18/20\n",
            "219/219 [==============================] - 0s 2ms/step - loss: 0.0321 - val_loss: 0.0316\n",
            "Epoch 19/20\n",
            "219/219 [==============================] - 1s 2ms/step - loss: 0.0320 - val_loss: 0.0313\n",
            "Epoch 20/20\n",
            "219/219 [==============================] - 1s 2ms/step - loss: 0.0318 - val_loss: 0.0312\n"
          ],
          "name": "stdout"
        }
      ]
    },
    {
      "cell_type": "code",
      "metadata": {
        "id": "jECM5QCNUURc",
        "colab": {
          "base_uri": "https://localhost:8080/",
          "height": 291
        },
        "outputId": "95e908b9-ff08-4e35-f22d-db5397dabe22"
      },
      "source": [
        "plot_learning_curves(history.history[\"loss\"], history.history[\"val_loss\"])\n",
        "plt.show()"
      ],
      "execution_count": 10,
      "outputs": [
        {
          "output_type": "display_data",
          "data": {
            "image/png": "[encoded data removed]",
            "text/plain": [
              "<Figure size 432x288 with 1 Axes>"
            ]
          },
          "metadata": {
            "tags": [],
            "needs_background": "light"
          }
        }
      ]
    },
    {
      "cell_type": "markdown",
      "metadata": {
        "id": "KAd6GMrxUURg"
      },
      "source": [
        "Now let's predict the next 10 values:"
      ]
    },
    {
      "cell_type": "code",
      "metadata": {
        "id": "r5B2AvKrUURh"
      },
      "source": [
        "series = load('/content/drive/MyDrive/Colab Notebooks/CS581-TestResults/assignment5/HW5-supp-files/univariate-time-series-multi-step-test.npy')\n",
        "X_new, Y_new = series[:, :50, :], series[:, -10:, :]\n",
        "Y_pred = model.predict(X_new)[..., np.newaxis]"
      ],
      "execution_count": 11,
      "outputs": []
    },
    {
      "cell_type": "code",
      "metadata": {
        "id": "jw5pVbZQUURk",
        "colab": {
          "base_uri": "https://localhost:8080/",
          "height": 293
        },
        "outputId": "cda75d28-1879-4795-862b-0d3a620ac703"
      },
      "source": [
        "plot_multiple_forecasts(X_new, Y_new, Y_pred)\n",
        "plt.show()"
      ],
      "execution_count": 12,
      "outputs": [
        {
          "output_type": "display_data",
          "data": {
            "image/png": "[encoded data removed]",
            "text/plain": [
              "<Figure size 432x288 with 1 Axes>"
            ]
          },
          "metadata": {
            "tags": [],
            "needs_background": "light"
          }
        }
      ]
    },
    {
      "cell_type": "code",
      "metadata": {
        "id": "PT3BdOdNUURn",
        "colab": {
          "base_uri": "https://localhost:8080/"
        },
        "outputId": "ecbcc9d7-281b-45ae-c47a-35c16c4dd3d6"
      },
      "source": [
        "model.evaluate(X_test, Y_test)"
      ],
      "execution_count": 13,
      "outputs": [
        {
          "output_type": "stream",
          "text": [
            "32/32 [==============================] - 0s 1ms/step - loss: 0.0325\n"
          ],
          "name": "stdout"
        },
        {
          "output_type": "execute_result",
          "data": {
            "text/plain": [
              "0.032544732093811035"
            ]
          },
          "metadata": {
            "tags": []
          },
          "execution_count": 13
        }
      ]
    },
    {
      "cell_type": "markdown",
      "metadata": {
        "id": "GROEEmotWqif"
      },
      "source": [
        "## RNN Model"
      ]
    },
    {
      "cell_type": "code",
      "metadata": {
        "id": "XzTES3EIXi6_",
        "colab": {
          "base_uri": "https://localhost:8080/"
        },
        "outputId": "6bfa0d47-6c59-4208-efda-f2105ea2b392"
      },
      "source": [
        "X_train.shape,X_test.shape,Y_train.shape,Y_test.shape,X_new.shape,Y_new.shape"
      ],
      "execution_count": 14,
      "outputs": [
        {
          "output_type": "execute_result",
          "data": {
            "text/plain": [
              "((7000, 50, 1), (1000, 50, 1), (7000, 10), (1000, 10), (1, 50, 1), (1, 10, 1))"
            ]
          },
          "metadata": {
            "tags": []
          },
          "execution_count": 14
        }
      ]
    },
    {
      "cell_type": "code",
      "metadata": {
        "id": "zjTMMPL2WS6k",
        "colab": {
          "base_uri": "https://localhost:8080/"
        },
        "outputId": "b32feb49-165d-42fc-c43d-6e0f0c94908c"
      },
      "source": [
        "rnnmodel = keras.models.Sequential([\n",
        "    keras.layers.LSTM(256,input_shape=[50,1]),\n",
        "    keras.layers.Dense(100),\n",
        "    keras.layers.Dense(10)\n",
        "])\n",
        "rnnmodel.compile(loss=\"mse\", optimizer=\"adam\")\n",
        "print(rnnmodel.summary())\n",
        "rnnhistory = rnnmodel.fit(X_train,Y_train,validation_data=(X_valid,Y_valid),epochs=20, batch_size=128)"
      ],
      "execution_count": 15,
      "outputs": [
        {
          "output_type": "stream",
          "text": [
            "Model: \"sequential_1\"\n",
            "_________________________________________________________________\n",
            "Layer (type)                 Output Shape              Param #   \n",
            "=================================================================\n",
            "lstm (LSTM)                  (None, 256)               264192    \n",
            "_________________________________________________________________\n",
            "dense_1 (Dense)              (None, 100)               25700     \n",
            "_________________________________________________________________\n",
            "dense_2 (Dense)              (None, 10)                1010      \n",
            "=================================================================\n",
            "Total params: 290,902\n",
            "Trainable params: 290,902\n",
            "Non-trainable params: 0\n",
            "_________________________________________________________________\n",
            "None\n",
            "Epoch 1/20\n",
            "55/55 [==============================] - 1s 18ms/step - loss: 0.0810 - val_loss: 0.0573\n",
            "Epoch 2/20\n",
            "55/55 [==============================] - 0s 9ms/step - loss: 0.0501 - val_loss: 0.0440\n",
            "Epoch 3/20\n",
            "55/55 [==============================] - 0s 9ms/step - loss: 0.0400 - val_loss: 0.0361\n",
            "Epoch 4/20\n",
            "55/55 [==============================] - 0s 9ms/step - loss: 0.0354 - val_loss: 0.0315\n",
            "Epoch 5/20\n",
            "55/55 [==============================] - 0s 9ms/step - loss: 0.0307 - val_loss: 0.0260\n",
            "Epoch 6/20\n",
            "55/55 [==============================] - 0s 9ms/step - loss: 0.0258 - val_loss: 0.0257\n",
            "Epoch 7/20\n",
            "55/55 [==============================] - 0s 9ms/step - loss: 0.0237 - val_loss: 0.0210\n",
            "Epoch 8/20\n",
            "55/55 [==============================] - 0s 9ms/step - loss: 0.0226 - val_loss: 0.0221\n",
            "Epoch 9/20\n",
            "55/55 [==============================] - 0s 9ms/step - loss: 0.0213 - val_loss: 0.0209\n",
            "Epoch 10/20\n",
            "55/55 [==============================] - 0s 9ms/step - loss: 0.0202 - val_loss: 0.0181\n",
            "Epoch 11/20\n",
            "55/55 [==============================] - 0s 9ms/step - loss: 0.0183 - val_loss: 0.0194\n",
            "Epoch 12/20\n",
            "55/55 [==============================] - 0s 9ms/step - loss: 0.0179 - val_loss: 0.0164\n",
            "Epoch 13/20\n",
            "55/55 [==============================] - 0s 9ms/step - loss: 0.0170 - val_loss: 0.0161\n",
            "Epoch 14/20\n",
            "55/55 [==============================] - 0s 9ms/step - loss: 0.0153 - val_loss: 0.0135\n",
            "Epoch 15/20\n",
            "55/55 [==============================] - 0s 9ms/step - loss: 0.0135 - val_loss: 0.0142\n",
            "Epoch 16/20\n",
            "55/55 [==============================] - 0s 9ms/step - loss: 0.0125 - val_loss: 0.0124\n",
            "Epoch 17/20\n",
            "55/55 [==============================] - 0s 9ms/step - loss: 0.0124 - val_loss: 0.0120\n",
            "Epoch 18/20\n",
            "55/55 [==============================] - 0s 9ms/step - loss: 0.0126 - val_loss: 0.0119\n",
            "Epoch 19/20\n",
            "55/55 [==============================] - 0s 9ms/step - loss: 0.0114 - val_loss: 0.0129\n",
            "Epoch 20/20\n",
            "55/55 [==============================] - 0s 9ms/step - loss: 0.0112 - val_loss: 0.0105\n"
          ],
          "name": "stdout"
        }
      ]
    },
    {
      "cell_type": "code",
      "metadata": {
        "id": "KGccr1VGnLDt"
      },
      "source": [
        "Y1 = rnnmodel(X_valid)"
      ],
      "execution_count": 17,
      "outputs": []
    },
    {
      "cell_type": "code",
      "metadata": {
        "id": "MafIlFksnQ5w",
        "colab": {
          "base_uri": "https://localhost:8080/"
        },
        "outputId": "96461442-ee36-4f2c-acb9-fa771b73dcea"
      },
      "source": [
        "Y1.shape"
      ],
      "execution_count": 18,
      "outputs": [
        {
          "output_type": "execute_result",
          "data": {
            "text/plain": [
              "TensorShape([2000, 10])"
            ]
          },
          "metadata": {
            "tags": []
          },
          "execution_count": 18
        }
      ]
    },
    {
      "cell_type": "code",
      "metadata": {
        "colab": {
          "base_uri": "https://localhost:8080/",
          "height": 291
        },
        "id": "P3scvDJvFHj0",
        "outputId": "3bcf174a-7a9d-4273-9761-19207d937fdc"
      },
      "source": [
        "plot_learning_curves(rnnhistory.history[\"loss\"], rnnhistory.history[\"val_loss\"])\n",
        "plt.show()"
      ],
      "execution_count": 21,
      "outputs": [
        {
          "output_type": "display_data",
          "data": {
            "image/png": "[encoded data removed]",
            "text/plain": [
              "<Figure size 432x288 with 1 Axes>"
            ]
          },
          "metadata": {
            "tags": [],
            "needs_background": "light"
          }
        }
      ]
    },
    {
      "cell_type": "code",
      "metadata": {
        "id": "HUWslX8NCIjK"
      },
      "source": [
        "series = load('/content/drive/MyDrive/Colab Notebooks/CS581-TestResults/assignment5/HW5-supp-files/univariate-time-series-multi-step-test.npy')\n",
        "X_new, Y_new = series[:, :50, :], series[:, -10:, :]\n",
        "Y_pred = rnnmodel.predict(X_new)[..., np.newaxis]"
      ],
      "execution_count": 19,
      "outputs": []
    },
    {
      "cell_type": "code",
      "metadata": {
        "colab": {
          "base_uri": "https://localhost:8080/",
          "height": 293
        },
        "id": "tsxYDveiCIjL",
        "outputId": "eac044c4-8c62-423a-b8a9-f2504e3c0f34"
      },
      "source": [
        "plot_multiple_forecasts(X_new, Y_new, Y_pred)\n",
        "plt.show()"
      ],
      "execution_count": 20,
      "outputs": [
        {
          "output_type": "display_data",
          "data": {
            "image/png": "[encoded data removed]",
            "text/plain": [
              "<Figure size 432x288 with 1 Axes>"
            ]
          },
          "metadata": {
            "tags": [],
            "needs_background": "light"
          }
        }
      ]
    },
    {
      "cell_type": "code",
      "metadata": {
        "id": "ubSd_L2xXQmV",
        "colab": {
          "base_uri": "https://localhost:8080/"
        },
        "outputId": "5a183955-9675-42fa-b631-c630d0ff3460"
      },
      "source": [
        "scores = rnnmodel.evaluate(X_test,Y_test)\n",
        "print(f\"RMSE: {scores}\")"
      ],
      "execution_count": 16,
      "outputs": [
        {
          "output_type": "stream",
          "text": [
            "32/32 [==============================] - 0s 3ms/step - loss: 0.0112\n",
            "RMSE: 0.011172199621796608\n"
          ],
          "name": "stdout"
        }
      ]
    }
  ]
}