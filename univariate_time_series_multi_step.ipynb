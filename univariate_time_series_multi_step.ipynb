{
  "nbformat": 4,
  "nbformat_minor": 0,
  "metadata": {
    "kernelspec": {
      "display_name": "Python 3",
      "language": "python",
      "name": "python3"
    },
    "language_info": {
      "codemirror_mode": {
        "name": "ipython",
        "version": 3
      },
      "file_extension": ".py",
      "mimetype": "text/x-python",
      "name": "python",
      "nbconvert_exporter": "python",
      "pygments_lexer": "ipython3",
      "version": "3.8.3"
    },
    "nav_menu": {},
    "toc": {
      "navigate_menu": true,
      "number_sections": true,
      "sideBar": true,
      "threshold": 6,
      "toc_cell": false,
      "toc_section_display": "block",
      "toc_window_display": false
    },
    "colab": {
      "name": "univariate-time-series-multi-step.ipynb",
      "provenance": [],
      "collapsed_sections": [],
      "toc_visible": true,
      "include_colab_link": true
    }
  },
  "cells": [
    {
      "cell_type": "markdown",
      "metadata": {
        "id": "view-in-github",
        "colab_type": "text"
      },
      "source": [
        "<a href=\"https://colab.research.google.com/github/mehrotrasan16/Keras-Deep-Learning/blob/A5-univariate-rnn-forecasting/univariate_time_series_multi_step.ipynb\" target=\"_parent\"><img src=\"https://colab.research.google.com/assets/colab-badge.svg\" alt=\"Open In Colab\"/></a>"
      ]
    },
    {
      "cell_type": "code",
      "metadata": {
        "id": "Y9_6QfmqUffG",
        "outputId": "4f89c6a7-afbf-4666-bcbe-6ef6f2638690",
        "colab": {
          "base_uri": "https://localhost:8080/"
        }
      },
      "source": [
        "from google.colab import drive\n",
        "drive.mount('/content/drive')"
      ],
      "execution_count": 10,
      "outputs": [
        {
          "output_type": "stream",
          "text": [
            "Drive already mounted at /content/drive; to attempt to forcibly remount, call drive.mount(\"/content/drive\", force_remount=True).\n"
          ],
          "name": "stdout"
        }
      ]
    },
    {
      "cell_type": "code",
      "metadata": {
        "id": "o20AertRUURA"
      },
      "source": [
        "import sys\n",
        "import sklearn\n",
        "import tensorflow as tf\n",
        "from tensorflow import keras\n",
        "\n",
        "import numpy as np\n",
        "from numpy import load\n",
        "import os\n",
        "\n",
        "# to make this notebook's output stable across runs\n",
        "np.random.seed(42)\n",
        "tf.random.set_seed(42)\n",
        "\n",
        "# To plot pretty figures\n",
        "%matplotlib inline\n",
        "import matplotlib as mpl\n",
        "import matplotlib.pyplot as plt\n",
        "mpl.rc('axes', labelsize=14)\n",
        "mpl.rc('xtick', labelsize=12)\n",
        "mpl.rc('ytick', labelsize=12)\n",
        "\n",
        "# Where to save the figures\n",
        "PROJECT_ROOT_DIR = \".\"\n",
        "IMAGES_PATH = os.path.join(PROJECT_ROOT_DIR, \"images\")\n",
        "os.makedirs(IMAGES_PATH, exist_ok=True)\n",
        "\n",
        "def save_fig(fig_id, tight_layout=True, fig_extension=\"png\", resolution=300):\n",
        "    path = os.path.join(IMAGES_PATH, fig_id + \".\" + fig_extension)\n",
        "    print(\"Saving figure\", fig_id)\n",
        "    if tight_layout:\n",
        "        plt.tight_layout()\n",
        "    plt.savefig(path, format=fig_extension, dpi=resolution)"
      ],
      "execution_count": 11,
      "outputs": []
    },
    {
      "cell_type": "markdown",
      "metadata": {
        "id": "tAPzzGWRUURJ"
      },
      "source": [
        "### Load Dataset"
      ]
    },
    {
      "cell_type": "code",
      "metadata": {
        "id": "TXsJCzfxUURK"
      },
      "source": [
        "def plot_learning_curves(loss, val_loss):\n",
        "    plt.plot(np.arange(len(loss)) + 0.5, loss, \"b.-\", label=\"Training loss\")\n",
        "    plt.plot(np.arange(len(val_loss)) + 1, val_loss, \"r.-\", label=\"Validation loss\")\n",
        "    plt.gca().xaxis.set_major_locator(mpl.ticker.MaxNLocator(integer=True))\n",
        "    plt.axis([1, 20, 0, 0.05])\n",
        "    plt.legend(fontsize=14)\n",
        "    plt.xlabel(\"Epochs\")\n",
        "    plt.ylabel(\"Loss\")\n",
        "    plt.grid(True)"
      ],
      "execution_count": 12,
      "outputs": []
    },
    {
      "cell_type": "code",
      "metadata": {
        "id": "jt2Y7nm7UURO"
      },
      "source": [
        "def plot_series(series, y=None, y_pred=None, x_label=\"$t$\", y_label=\"$x(t)$\"):\n",
        "    plt.plot(series, \".-\")\n",
        "    if y is not None:\n",
        "        plt.plot(n_steps, y, \"bx\", markersize=10)\n",
        "    if y_pred is not None:\n",
        "        plt.plot(n_steps, y_pred, \"ro\")\n",
        "    plt.grid(True)\n",
        "    if x_label:\n",
        "        plt.xlabel(x_label, fontsize=16)\n",
        "    if y_label:\n",
        "        plt.ylabel(y_label, fontsize=16, rotation=0)\n",
        "    plt.hlines(0, 0, 100, linewidth=1)\n",
        "    plt.axis([0, n_steps + 1, -1, 1])"
      ],
      "execution_count": 13,
      "outputs": []
    },
    {
      "cell_type": "code",
      "metadata": {
        "id": "KEcz-_lyUURR"
      },
      "source": [
        "def plot_multiple_forecasts(X, Y, Y_pred):\n",
        "    n_steps = X.shape[1]\n",
        "    ahead = Y.shape[1]\n",
        "    plot_series(X[0, :, 0])\n",
        "    plt.plot(np.arange(n_steps, n_steps + ahead), Y[0, :, 0], \"ro-\", label=\"Actual\")\n",
        "    plt.plot(np.arange(n_steps, n_steps + ahead), Y_pred[0, :, 0], \"bx-\", label=\"Forecast\", markersize=10)\n",
        "    plt.axis([0, n_steps + ahead, -1, 1])\n",
        "    plt.legend(fontsize=14)"
      ],
      "execution_count": 14,
      "outputs": []
    },
    {
      "cell_type": "markdown",
      "metadata": {
        "id": "7CvxVat0UURU"
      },
      "source": [
        "## Forecasting Several Steps Ahead\n",
        "\n",
        "If we want to predict the next 10 values, instead of just 1, we can modify our previous model to predict the next 10 values. We first need to load the dataset that has sequences with 9 more time steps."
      ]
    },
    {
      "cell_type": "code",
      "metadata": {
        "id": "2Mv8yoOnUURV"
      },
      "source": [
        "n_steps = 50\n",
        "series = load('/content/drive/MyDrive/Colab Notebooks/CS581-TestResults/assignment5/HW5-supp-files/univariate-time-series-multi-step.npy')\n",
        "\n",
        "X_train, Y_train = series[:7000, :n_steps], series[:7000, -10:, 0]\n",
        "X_valid, Y_valid = series[7000:9000, :n_steps], series[7000:9000, -10:, 0]\n",
        "X_test, Y_test = series[9000:, :n_steps], series[9000:, -10:, 0]"
      ],
      "execution_count": 22,
      "outputs": []
    },
    {
      "cell_type": "code",
      "metadata": {
        "id": "2j3wIC5GUURY",
        "outputId": "3bf251fe-addb-4eb3-8cdd-92428826eaeb",
        "colab": {
          "base_uri": "https://localhost:8080/"
        }
      },
      "source": [
        "#Improve upon this model with your own model\n",
        "\n",
        "model = keras.models.Sequential([\n",
        "    keras.layers.Flatten(input_shape=[50, 1]),\n",
        "    keras.layers.Dense(10)\n",
        "])\n",
        "\n",
        "model.compile(loss=\"mse\", optimizer=\"adam\")\n",
        "history = model.fit(X_train, Y_train, epochs=20,\n",
        "                    validation_data=(X_valid, Y_valid))"
      ],
      "execution_count": 23,
      "outputs": [
        {
          "output_type": "stream",
          "text": [
            "Epoch 1/20\n",
            "219/219 [==============================] - 0s 2ms/step - loss: 0.1501 - val_loss: 0.0835\n",
            "Epoch 2/20\n",
            "219/219 [==============================] - 0s 1ms/step - loss: 0.0686 - val_loss: 0.0602\n",
            "Epoch 3/20\n",
            "219/219 [==============================] - 0s 1ms/step - loss: 0.0547 - val_loss: 0.0508\n",
            "Epoch 4/20\n",
            "219/219 [==============================] - 0s 1ms/step - loss: 0.0478 - val_loss: 0.0452\n",
            "Epoch 5/20\n",
            "219/219 [==============================] - 0s 1ms/step - loss: 0.0436 - val_loss: 0.0418\n",
            "Epoch 6/20\n",
            "219/219 [==============================] - 0s 1ms/step - loss: 0.0407 - val_loss: 0.0392\n",
            "Epoch 7/20\n",
            "219/219 [==============================] - 0s 1ms/step - loss: 0.0386 - val_loss: 0.0371\n",
            "Epoch 8/20\n",
            "219/219 [==============================] - 0s 1ms/step - loss: 0.0370 - val_loss: 0.0357\n",
            "Epoch 9/20\n",
            "219/219 [==============================] - 0s 1ms/step - loss: 0.0359 - val_loss: 0.0346\n",
            "Epoch 10/20\n",
            "219/219 [==============================] - 0s 1ms/step - loss: 0.0350 - val_loss: 0.0338\n",
            "Epoch 11/20\n",
            "219/219 [==============================] - 0s 1ms/step - loss: 0.0343 - val_loss: 0.0334\n",
            "Epoch 12/20\n",
            "219/219 [==============================] - 0s 1ms/step - loss: 0.0338 - val_loss: 0.0327\n",
            "Epoch 13/20\n",
            "219/219 [==============================] - 0s 1ms/step - loss: 0.0333 - val_loss: 0.0324\n",
            "Epoch 14/20\n",
            "219/219 [==============================] - 0s 1ms/step - loss: 0.0330 - val_loss: 0.0322\n",
            "Epoch 15/20\n",
            "219/219 [==============================] - 0s 1ms/step - loss: 0.0327 - val_loss: 0.0319\n",
            "Epoch 16/20\n",
            "219/219 [==============================] - 0s 1ms/step - loss: 0.0324 - val_loss: 0.0317\n",
            "Epoch 17/20\n",
            "219/219 [==============================] - 0s 1ms/step - loss: 0.0322 - val_loss: 0.0316\n",
            "Epoch 18/20\n",
            "219/219 [==============================] - 0s 1ms/step - loss: 0.0320 - val_loss: 0.0314\n",
            "Epoch 19/20\n",
            "219/219 [==============================] - 0s 1ms/step - loss: 0.0318 - val_loss: 0.0312\n",
            "Epoch 20/20\n",
            "219/219 [==============================] - 0s 1ms/step - loss: 0.0316 - val_loss: 0.0311\n"
          ],
          "name": "stdout"
        }
      ]
    },
    {
      "cell_type": "code",
      "metadata": {
        "id": "jECM5QCNUURc",
        "outputId": "bdc9254e-0088-4771-f32c-557fdf965807",
        "colab": {
          "base_uri": "https://localhost:8080/",
          "height": 291
        }
      },
      "source": [
        "plot_learning_curves(history.history[\"loss\"], history.history[\"val_loss\"])\n",
        "plt.show()"
      ],
      "execution_count": 24,
      "outputs": [
        {
          "output_type": "display_data",
          "data": {
            "image/png": "[encoded data removed]",
            "text/plain": [
              "<Figure size 432x288 with 1 Axes>"
            ]
          },
          "metadata": {
            "tags": [],
            "needs_background": "light"
          }
        }
      ]
    },
    {
      "cell_type": "markdown",
      "metadata": {
        "id": "KAd6GMrxUURg"
      },
      "source": [
        "Now let's predict the next 10 values:"
      ]
    },
    {
      "cell_type": "code",
      "metadata": {
        "id": "r5B2AvKrUURh"
      },
      "source": [
        "series = load('/content/drive/MyDrive/Colab Notebooks/CS581-TestResults/assignment5/HW5-supp-files/univariate-time-series-multi-step-test.npy')\n",
        "X_new, Y_new = series[:, :50, :], series[:, -10:, :]\n",
        "Y_pred = model.predict(X_new)[..., np.newaxis]"
      ],
      "execution_count": 25,
      "outputs": []
    },
    {
      "cell_type": "code",
      "metadata": {
        "id": "jw5pVbZQUURk",
        "outputId": "5ec34f1b-6bdc-4bae-c307-2106c3d47a9d",
        "colab": {
          "base_uri": "https://localhost:8080/",
          "height": 293
        }
      },
      "source": [
        "plot_multiple_forecasts(X_new, Y_new, Y_pred)\n",
        "plt.show()"
      ],
      "execution_count": 26,
      "outputs": [
        {
          "output_type": "display_data",
          "data": {
            "image/png": "[encoded data removed]",
            "text/plain": [
              "<Figure size 432x288 with 1 Axes>"
            ]
          },
          "metadata": {
            "tags": [],
            "needs_background": "light"
          }
        }
      ]
    },
    {
      "cell_type": "code",
      "metadata": {
        "id": "PT3BdOdNUURn",
        "outputId": "82e6f0dc-88e3-4565-8adf-0cd03c960018",
        "colab": {
          "base_uri": "https://localhost:8080/"
        }
      },
      "source": [
        "model.evaluate(X_test, Y_test)"
      ],
      "execution_count": 21,
      "outputs": [
        {
          "output_type": "stream",
          "text": [
            "32/32 [==============================] - 0s 1ms/step - loss: 0.0325\n"
          ],
          "name": "stdout"
        },
        {
          "output_type": "execute_result",
          "data": {
            "text/plain": [
              "0.03254472836852074"
            ]
          },
          "metadata": {
            "tags": []
          },
          "execution_count": 21
        }
      ]
    },
    {
      "cell_type": "markdown",
      "metadata": {
        "id": "GROEEmotWqif"
      },
      "source": [
        "## RNN Model"
      ]
    },
    {
      "cell_type": "code",
      "metadata": {
        "id": "XzTES3EIXi6_",
        "outputId": "92debd62-6d3c-4fac-d02c-2314626a4700",
        "colab": {
          "base_uri": "https://localhost:8080/"
        }
      },
      "source": [
        "X_train.shape,X_test.shape,Y_train.shape,Y_test.shape,X_new.shape,Y_new.shape"
      ],
      "execution_count": 36,
      "outputs": [
        {
          "output_type": "execute_result",
          "data": {
            "text/plain": [
              "((7000, 50, 1), (1000, 50, 1), (7000, 10), (1000, 10), (1, 50, 1), (1, 10, 1))"
            ]
          },
          "metadata": {
            "tags": []
          },
          "execution_count": 36
        }
      ]
    },
    {
      "cell_type": "code",
      "metadata": {
        "id": "zjTMMPL2WS6k",
        "outputId": "f4b35cd6-9205-4bf1-8bc8-df715d0cc483",
        "colab": {
          "base_uri": "https://localhost:8080/"
        }
      },
      "source": [
        "rnnmodel = keras.models.Sequential([\n",
        "    keras.layers.LSTM(256,input_shape=[50,1]),\n",
        "    keras.layers.Dense(100),\n",
        "    keras.layers.Dense(10)\n",
        "])\n",
        "rnnmodel.compile(loss=\"mse\", optimizer=\"adam\")\n",
        "print(rnnmodel.summary())\n",
        "rnnmodel.fit(X_train,Y_train,validation_data=(X_valid,Y_valid),epochs=20, batch_size=128)"
      ],
      "execution_count": 38,
      "outputs": [
        {
          "output_type": "stream",
          "text": [
            "Model: \"sequential_7\"\n",
            "_________________________________________________________________\n",
            "Layer (type)                 Output Shape              Param #   \n",
            "=================================================================\n",
            "lstm_4 (LSTM)                (None, 256)               264192    \n",
            "_________________________________________________________________\n",
            "dense_7 (Dense)              (None, 100)               25700     \n",
            "_________________________________________________________________\n",
            "dense_8 (Dense)              (None, 10)                1010      \n",
            "=================================================================\n",
            "Total params: 290,902\n",
            "Trainable params: 290,902\n",
            "Non-trainable params: 0\n",
            "_________________________________________________________________\n",
            "None\n",
            "Epoch 1/20\n",
            "55/55 [==============================] - 20s 355ms/step - loss: 0.0820 - val_loss: 0.0559\n",
            "Epoch 2/20\n",
            "55/55 [==============================] - 19s 347ms/step - loss: 0.0500 - val_loss: 0.0439\n",
            "Epoch 3/20\n",
            "55/55 [==============================] - 20s 358ms/step - loss: 0.0407 - val_loss: 0.0368\n",
            "Epoch 4/20\n",
            "55/55 [==============================] - 19s 345ms/step - loss: 0.0355 - val_loss: 0.0320\n",
            "Epoch 5/20\n",
            "55/55 [==============================] - 19s 345ms/step - loss: 0.0319 - val_loss: 0.0283\n",
            "Epoch 6/20\n",
            "55/55 [==============================] - 19s 350ms/step - loss: 0.0276 - val_loss: 0.0283\n",
            "Epoch 7/20\n",
            "55/55 [==============================] - 19s 347ms/step - loss: 0.0244 - val_loss: 0.0215\n",
            "Epoch 8/20\n",
            "55/55 [==============================] - 19s 347ms/step - loss: 0.0231 - val_loss: 0.0225\n",
            "Epoch 9/20\n",
            "55/55 [==============================] - 19s 350ms/step - loss: 0.0207 - val_loss: 0.0238\n",
            "Epoch 10/20\n",
            "55/55 [==============================] - 19s 354ms/step - loss: 0.0202 - val_loss: 0.0184\n",
            "Epoch 11/20\n",
            "55/55 [==============================] - 19s 345ms/step - loss: 0.0180 - val_loss: 0.0181\n",
            "Epoch 12/20\n",
            "55/55 [==============================] - 19s 349ms/step - loss: 0.0174 - val_loss: 0.0148\n",
            "Epoch 13/20\n",
            "55/55 [==============================] - 19s 344ms/step - loss: 0.0162 - val_loss: 0.0147\n",
            "Epoch 14/20\n",
            "55/55 [==============================] - 19s 346ms/step - loss: 0.0145 - val_loss: 0.0131\n",
            "Epoch 15/20\n",
            "55/55 [==============================] - 19s 345ms/step - loss: 0.0130 - val_loss: 0.0127\n",
            "Epoch 16/20\n",
            "55/55 [==============================] - 19s 342ms/step - loss: 0.0120 - val_loss: 0.0119\n",
            "Epoch 17/20\n",
            "55/55 [==============================] - 19s 343ms/step - loss: 0.0119 - val_loss: 0.0119\n",
            "Epoch 18/20\n",
            "55/55 [==============================] - 19s 352ms/step - loss: 0.0123 - val_loss: 0.0119\n",
            "Epoch 19/20\n",
            "55/55 [==============================] - 19s 348ms/step - loss: 0.0111 - val_loss: 0.0123\n",
            "Epoch 20/20\n",
            "55/55 [==============================] - 19s 346ms/step - loss: 0.0111 - val_loss: 0.0106\n"
          ],
          "name": "stdout"
        },
        {
          "output_type": "execute_result",
          "data": {
            "text/plain": [
              "<tensorflow.python.keras.callbacks.History at 0x7feb4d9467f0>"
            ]
          },
          "metadata": {
            "tags": []
          },
          "execution_count": 38
        }
      ]
    },
    {
      "cell_type": "code",
      "metadata": {
        "id": "ubSd_L2xXQmV",
        "outputId": "8fcd6d3c-bb08-4473-8dc0-7c5ba59e391d",
        "colab": {
          "base_uri": "https://localhost:8080/"
        }
      },
      "source": [
        "scores = rnnmodel.evaluate(X_test,Y_test)\n",
        "print(f\"RMSE: {scores*100}\")"
      ],
      "execution_count": 40,
      "outputs": [
        {
          "output_type": "stream",
          "text": [
            "32/32 [==============================] - 1s 42ms/step - loss: 0.0115\n",
            "RMSE: 1.1500442400574684\n"
          ],
          "name": "stdout"
        }
      ]
    },
    {
      "cell_type": "code",
      "metadata": {
        "id": "KGccr1VGnLDt"
      },
      "source": [
        "Y1 = rnnmodel(X_valid)"
      ],
      "execution_count": 42,
      "outputs": []
    },
    {
      "cell_type": "code",
      "metadata": {
        "id": "MafIlFksnQ5w",
        "outputId": "4e0f5149-f566-4593-a6cc-461a5affef74",
        "colab": {
          "base_uri": "https://localhost:8080/"
        }
      },
      "source": [
        "Y1.shape"
      ],
      "execution_count": 43,
      "outputs": [
        {
          "output_type": "execute_result",
          "data": {
            "text/plain": [
              "TensorShape([2000, 10])"
            ]
          },
          "metadata": {
            "tags": []
          },
          "execution_count": 43
        }
      ]
    },
    {
      "cell_type": "code",
      "metadata": {
        "id": "UE9B3aqWnS8M"
      },
      "source": [
        ""
      ],
      "execution_count": null,
      "outputs": []
    }
  ]
}