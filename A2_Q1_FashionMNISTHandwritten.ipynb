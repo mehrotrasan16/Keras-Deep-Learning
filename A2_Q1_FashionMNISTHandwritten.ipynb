{
  "nbformat": 4,
  "nbformat_minor": 0,
  "metadata": {
    "colab": {
      "name": "A2-Q1-FashionMNISTHandwritten",
      "provenance": [],
      "collapsed_sections": [],
      "authorship_tag": "ABX9TyOL3ku5vDw4EJkeoxtxVKcZ",
      "include_colab_link": true
    },
    "kernelspec": {
      "name": "python3",
      "display_name": "Python 3"
    }
  },
  "cells": [
    {
      "cell_type": "markdown",
      "metadata": {
        "id": "view-in-github",
        "colab_type": "text"
      },
      "source": [
        "<a href=\"https://colab.research.google.com/github/mehrotrasan16/Keras-Deep-Learning/blob/02-FashionMNISTHandCrafted-Classification/A2_Q1_FashionMNISTHandwritten.ipynb\" target=\"_parent\"><img src=\"https://colab.research.google.com/assets/colab-badge.svg\" alt=\"Open In Colab\"/></a>"
      ]
    },
    {
      "cell_type": "code",
      "metadata": {
        "id": "R1zl2Z7dS330",
        "colab_type": "code",
        "colab": {
          "base_uri": "https://localhost:8080/",
          "height": 153
        },
        "outputId": "49644ca8-0546-44e8-83a2-d2cd3a2e7cf1"
      },
      "source": [
        "import tensorflow as tf\n",
        "from tensorflow import keras\n",
        "from keras import models,layers\n",
        "\n",
        "train_data, test_data,  = tf.keras.datasets.fashion_mnist.load_data()\n"
      ],
      "execution_count": 1,
      "outputs": [
        {
          "output_type": "stream",
          "text": [
            "Downloading data from https://storage.googleapis.com/tensorflow/tf-keras-datasets/train-labels-idx1-ubyte.gz\n",
            "32768/29515 [=================================] - 0s 0us/step\n",
            "Downloading data from https://storage.googleapis.com/tensorflow/tf-keras-datasets/train-images-idx3-ubyte.gz\n",
            "26427392/26421880 [==============================] - 1s 0us/step\n",
            "Downloading data from https://storage.googleapis.com/tensorflow/tf-keras-datasets/t10k-labels-idx1-ubyte.gz\n",
            "8192/5148 [===============================================] - 0s 0us/step\n",
            "Downloading data from https://storage.googleapis.com/tensorflow/tf-keras-datasets/t10k-images-idx3-ubyte.gz\n",
            "4423680/4422102 [==============================] - 0s 0us/step\n"
          ],
          "name": "stdout"
        }
      ]
    },
    {
      "cell_type": "markdown",
      "metadata": {
        "id": "Uz8US1BJfdkg",
        "colab_type": "text"
      },
      "source": [
        ""
      ]
    },
    {
      "cell_type": "code",
      "metadata": {
        "id": "L2yeUOlB4lsX",
        "colab_type": "code",
        "colab": {
          "base_uri": "https://localhost:8080/",
          "height": 34
        },
        "outputId": "d647ea3d-229b-4af6-89a4-519552427e4d"
      },
      "source": [
        "train_images, train_labels = test_data\n",
        "train_images.size, train_labels.size"
      ],
      "execution_count": 2,
      "outputs": [
        {
          "output_type": "execute_result",
          "data": {
            "text/plain": [
              "(7840000, 10000)"
            ]
          },
          "metadata": {
            "tags": []
          },
          "execution_count": 2
        }
      ]
    },
    {
      "cell_type": "code",
      "metadata": {
        "id": "pPjMExMZ4WOH",
        "colab_type": "code",
        "colab": {
          "base_uri": "https://localhost:8080/",
          "height": 34
        },
        "outputId": "d97ddc48-9a07-4d72-ccbb-bf0cf2b0782b"
      },
      "source": [
        "test_images, test_labels = test_data\n",
        "test_images.size, test_labels.size"
      ],
      "execution_count": 3,
      "outputs": [
        {
          "output_type": "execute_result",
          "data": {
            "text/plain": [
              "(7840000, 10000)"
            ]
          },
          "metadata": {
            "tags": []
          },
          "execution_count": 3
        }
      ]
    },
    {
      "cell_type": "code",
      "metadata": {
        "id": "pdYB8YKiTDl_",
        "colab_type": "code",
        "colab": {}
      },
      "source": [
        "# Normalize pixel values to be between 0 and 1\n",
        "train_images,test_images  = train_images / 255.0, test_images / 255.0"
      ],
      "execution_count": 4,
      "outputs": []
    },
    {
      "cell_type": "code",
      "metadata": {
        "id": "2UtlFqEsTm8B",
        "colab_type": "code",
        "colab": {
          "base_uri": "https://localhost:8080/",
          "height": 34
        },
        "outputId": "7f8a0295-88ee-4b9a-9aaf-bfdb8a713e92"
      },
      "source": [
        "train_images.shape[1:], test_images.shape[1:]"
      ],
      "execution_count": 5,
      "outputs": [
        {
          "output_type": "execute_result",
          "data": {
            "text/plain": [
              "((28, 28), (28, 28))"
            ]
          },
          "metadata": {
            "tags": []
          },
          "execution_count": 5
        }
      ]
    },
    {
      "cell_type": "code",
      "metadata": {
        "id": "-j1fRFKkTsGZ",
        "colab_type": "code",
        "colab": {}
      },
      "source": [
        "import numpy as np\n",
        "import pandas as pd\n",
        "import matplotlib.pyplot as plt"
      ],
      "execution_count": 6,
      "outputs": []
    },
    {
      "cell_type": "code",
      "metadata": {
        "id": "mXaQL7e84Rnh",
        "colab_type": "code",
        "colab": {
          "base_uri": "https://localhost:8080/",
          "height": 34
        },
        "outputId": "d2a18b40-3b4c-4509-d4bc-316a8c6930ed"
      },
      "source": [
        "\n",
        "classes =(np.unique(train_labels))\n",
        "classes"
      ],
      "execution_count": 7,
      "outputs": [
        {
          "output_type": "execute_result",
          "data": {
            "text/plain": [
              "array([0, 1, 2, 3, 4, 5, 6, 7, 8, 9], dtype=uint8)"
            ]
          },
          "metadata": {
            "tags": []
          },
          "execution_count": 7
        }
      ]
    },
    {
      "cell_type": "code",
      "metadata": {
        "id": "Rg2Y-qrB5Bm2",
        "colab_type": "code",
        "colab": {
          "base_uri": "https://localhost:8080/",
          "height": 51
        },
        "outputId": "7108626c-a906-43a5-98cc-ff209468775a"
      },
      "source": [
        "classnames = np.array(['T-shirt','Trouser','Pullover','Dress','Coat','Sandal','Shirt', 'sneaker', 'bag','ankle-boot'])\n",
        "classnames"
      ],
      "execution_count": 8,
      "outputs": [
        {
          "output_type": "execute_result",
          "data": {
            "text/plain": [
              "array(['T-shirt', 'Trouser', 'Pullover', 'Dress', 'Coat', 'Sandal',\n",
              "       'Shirt', 'sneaker', 'bag', 'ankle-boot'], dtype='<U10')"
            ]
          },
          "metadata": {
            "tags": []
          },
          "execution_count": 8
        }
      ]
    },
    {
      "cell_type": "code",
      "metadata": {
        "id": "JuHZf1Qs5nYv",
        "colab_type": "code",
        "colab": {}
      },
      "source": [
        "classes = classes.reshape((-1,1))\n",
        "classnames = classnames.reshape((-1,1))"
      ],
      "execution_count": 9,
      "outputs": []
    },
    {
      "cell_type": "code",
      "metadata": {
        "id": "q5e8oeCTHifC",
        "colab_type": "code",
        "colab": {}
      },
      "source": [
        "arrayclass = np.hstack((classes,classnames))"
      ],
      "execution_count": 10,
      "outputs": []
    },
    {
      "cell_type": "code",
      "metadata": {
        "id": "rj6SIng5HxJI",
        "colab_type": "code",
        "colab": {
          "base_uri": "https://localhost:8080/",
          "height": 359
        },
        "outputId": "13592a08-7066-4e7b-b0d1-ae679b8ad912"
      },
      "source": [
        "ClassDistribution = pd.DataFrame(arrayclass,columns=['Class','Class-name'])\n",
        "ClassDistribution"
      ],
      "execution_count": 11,
      "outputs": [
        {
          "output_type": "execute_result",
          "data": {
            "text/html": [
              "<div>\n",
              "<style scoped>\n",
              "    .dataframe tbody tr th:only-of-type {\n",
              "        vertical-align: middle;\n",
              "    }\n",
              "\n",
              "    .dataframe tbody tr th {\n",
              "        vertical-align: top;\n",
              "    }\n",
              "\n",
              "    .dataframe thead th {\n",
              "        text-align: right;\n",
              "    }\n",
              "</style>\n",
              "<table border=\"1\" class=\"dataframe\">\n",
              "  <thead>\n",
              "    <tr style=\"text-align: right;\">\n",
              "      <th></th>\n",
              "      <th>Class</th>\n",
              "      <th>Class-name</th>\n",
              "    </tr>\n",
              "  </thead>\n",
              "  <tbody>\n",
              "    <tr>\n",
              "      <th>0</th>\n",
              "      <td>0</td>\n",
              "      <td>T-shirt</td>\n",
              "    </tr>\n",
              "    <tr>\n",
              "      <th>1</th>\n",
              "      <td>1</td>\n",
              "      <td>Trouser</td>\n",
              "    </tr>\n",
              "    <tr>\n",
              "      <th>2</th>\n",
              "      <td>2</td>\n",
              "      <td>Pullover</td>\n",
              "    </tr>\n",
              "    <tr>\n",
              "      <th>3</th>\n",
              "      <td>3</td>\n",
              "      <td>Dress</td>\n",
              "    </tr>\n",
              "    <tr>\n",
              "      <th>4</th>\n",
              "      <td>4</td>\n",
              "      <td>Coat</td>\n",
              "    </tr>\n",
              "    <tr>\n",
              "      <th>5</th>\n",
              "      <td>5</td>\n",
              "      <td>Sandal</td>\n",
              "    </tr>\n",
              "    <tr>\n",
              "      <th>6</th>\n",
              "      <td>6</td>\n",
              "      <td>Shirt</td>\n",
              "    </tr>\n",
              "    <tr>\n",
              "      <th>7</th>\n",
              "      <td>7</td>\n",
              "      <td>sneaker</td>\n",
              "    </tr>\n",
              "    <tr>\n",
              "      <th>8</th>\n",
              "      <td>8</td>\n",
              "      <td>bag</td>\n",
              "    </tr>\n",
              "    <tr>\n",
              "      <th>9</th>\n",
              "      <td>9</td>\n",
              "      <td>ankle-boot</td>\n",
              "    </tr>\n",
              "  </tbody>\n",
              "</table>\n",
              "</div>"
            ],
            "text/plain": [
              "  Class  Class-name\n",
              "0     0     T-shirt\n",
              "1     1     Trouser\n",
              "2     2    Pullover\n",
              "3     3       Dress\n",
              "4     4        Coat\n",
              "5     5      Sandal\n",
              "6     6       Shirt\n",
              "7     7     sneaker\n",
              "8     8         bag\n",
              "9     9  ankle-boot"
            ]
          },
          "metadata": {
            "tags": []
          },
          "execution_count": 11
        }
      ]
    },
    {
      "cell_type": "code",
      "metadata": {
        "id": "QE3eMdKsJTiE",
        "colab_type": "code",
        "colab": {}
      },
      "source": [
        "freqs = [list(train_labels).count(x) for x in classes]"
      ],
      "execution_count": 12,
      "outputs": []
    },
    {
      "cell_type": "code",
      "metadata": {
        "id": "a1VfEklAJjKd",
        "colab_type": "code",
        "colab": {}
      },
      "source": [
        "ClassDistribution['Train Freq'] = freqs"
      ],
      "execution_count": 13,
      "outputs": []
    },
    {
      "cell_type": "code",
      "metadata": {
        "id": "HnRtcR2ld6DY",
        "colab_type": "code",
        "colab": {
          "base_uri": "https://localhost:8080/",
          "height": 359
        },
        "outputId": "92d0946b-82ab-4809-ba89-acb26213a604"
      },
      "source": [
        "ClassDistribution"
      ],
      "execution_count": 14,
      "outputs": [
        {
          "output_type": "execute_result",
          "data": {
            "text/html": [
              "<div>\n",
              "<style scoped>\n",
              "    .dataframe tbody tr th:only-of-type {\n",
              "        vertical-align: middle;\n",
              "    }\n",
              "\n",
              "    .dataframe tbody tr th {\n",
              "        vertical-align: top;\n",
              "    }\n",
              "\n",
              "    .dataframe thead th {\n",
              "        text-align: right;\n",
              "    }\n",
              "</style>\n",
              "<table border=\"1\" class=\"dataframe\">\n",
              "  <thead>\n",
              "    <tr style=\"text-align: right;\">\n",
              "      <th></th>\n",
              "      <th>Class</th>\n",
              "      <th>Class-name</th>\n",
              "      <th>Train Freq</th>\n",
              "    </tr>\n",
              "  </thead>\n",
              "  <tbody>\n",
              "    <tr>\n",
              "      <th>0</th>\n",
              "      <td>0</td>\n",
              "      <td>T-shirt</td>\n",
              "      <td>1000</td>\n",
              "    </tr>\n",
              "    <tr>\n",
              "      <th>1</th>\n",
              "      <td>1</td>\n",
              "      <td>Trouser</td>\n",
              "      <td>1000</td>\n",
              "    </tr>\n",
              "    <tr>\n",
              "      <th>2</th>\n",
              "      <td>2</td>\n",
              "      <td>Pullover</td>\n",
              "      <td>1000</td>\n",
              "    </tr>\n",
              "    <tr>\n",
              "      <th>3</th>\n",
              "      <td>3</td>\n",
              "      <td>Dress</td>\n",
              "      <td>1000</td>\n",
              "    </tr>\n",
              "    <tr>\n",
              "      <th>4</th>\n",
              "      <td>4</td>\n",
              "      <td>Coat</td>\n",
              "      <td>1000</td>\n",
              "    </tr>\n",
              "    <tr>\n",
              "      <th>5</th>\n",
              "      <td>5</td>\n",
              "      <td>Sandal</td>\n",
              "      <td>1000</td>\n",
              "    </tr>\n",
              "    <tr>\n",
              "      <th>6</th>\n",
              "      <td>6</td>\n",
              "      <td>Shirt</td>\n",
              "      <td>1000</td>\n",
              "    </tr>\n",
              "    <tr>\n",
              "      <th>7</th>\n",
              "      <td>7</td>\n",
              "      <td>sneaker</td>\n",
              "      <td>1000</td>\n",
              "    </tr>\n",
              "    <tr>\n",
              "      <th>8</th>\n",
              "      <td>8</td>\n",
              "      <td>bag</td>\n",
              "      <td>1000</td>\n",
              "    </tr>\n",
              "    <tr>\n",
              "      <th>9</th>\n",
              "      <td>9</td>\n",
              "      <td>ankle-boot</td>\n",
              "      <td>1000</td>\n",
              "    </tr>\n",
              "  </tbody>\n",
              "</table>\n",
              "</div>"
            ],
            "text/plain": [
              "  Class  Class-name  Train Freq\n",
              "0     0     T-shirt        1000\n",
              "1     1     Trouser        1000\n",
              "2     2    Pullover        1000\n",
              "3     3       Dress        1000\n",
              "4     4        Coat        1000\n",
              "5     5      Sandal        1000\n",
              "6     6       Shirt        1000\n",
              "7     7     sneaker        1000\n",
              "8     8         bag        1000\n",
              "9     9  ankle-boot        1000"
            ]
          },
          "metadata": {
            "tags": []
          },
          "execution_count": 14
        }
      ]
    },
    {
      "cell_type": "code",
      "metadata": {
        "id": "aHz8UcGHd7Qv",
        "colab_type": "code",
        "colab": {}
      },
      "source": [
        "test_freqs = [list(test_labels).count(x) for x in classes]"
      ],
      "execution_count": 15,
      "outputs": []
    },
    {
      "cell_type": "code",
      "metadata": {
        "id": "ylj1ZGK1eC4c",
        "colab_type": "code",
        "colab": {}
      },
      "source": [
        "ClassDistribution['Test Freq'] = freqs"
      ],
      "execution_count": 16,
      "outputs": []
    },
    {
      "cell_type": "code",
      "metadata": {
        "id": "jjMo-a48eFeT",
        "colab_type": "code",
        "colab": {
          "base_uri": "https://localhost:8080/",
          "height": 359
        },
        "outputId": "cb5bf2a8-ab53-48a3-906d-6920acdc5f00"
      },
      "source": [
        "ClassDistribution"
      ],
      "execution_count": 17,
      "outputs": [
        {
          "output_type": "execute_result",
          "data": {
            "text/html": [
              "<div>\n",
              "<style scoped>\n",
              "    .dataframe tbody tr th:only-of-type {\n",
              "        vertical-align: middle;\n",
              "    }\n",
              "\n",
              "    .dataframe tbody tr th {\n",
              "        vertical-align: top;\n",
              "    }\n",
              "\n",
              "    .dataframe thead th {\n",
              "        text-align: right;\n",
              "    }\n",
              "</style>\n",
              "<table border=\"1\" class=\"dataframe\">\n",
              "  <thead>\n",
              "    <tr style=\"text-align: right;\">\n",
              "      <th></th>\n",
              "      <th>Class</th>\n",
              "      <th>Class-name</th>\n",
              "      <th>Train Freq</th>\n",
              "      <th>Test Freq</th>\n",
              "    </tr>\n",
              "  </thead>\n",
              "  <tbody>\n",
              "    <tr>\n",
              "      <th>0</th>\n",
              "      <td>0</td>\n",
              "      <td>T-shirt</td>\n",
              "      <td>1000</td>\n",
              "      <td>1000</td>\n",
              "    </tr>\n",
              "    <tr>\n",
              "      <th>1</th>\n",
              "      <td>1</td>\n",
              "      <td>Trouser</td>\n",
              "      <td>1000</td>\n",
              "      <td>1000</td>\n",
              "    </tr>\n",
              "    <tr>\n",
              "      <th>2</th>\n",
              "      <td>2</td>\n",
              "      <td>Pullover</td>\n",
              "      <td>1000</td>\n",
              "      <td>1000</td>\n",
              "    </tr>\n",
              "    <tr>\n",
              "      <th>3</th>\n",
              "      <td>3</td>\n",
              "      <td>Dress</td>\n",
              "      <td>1000</td>\n",
              "      <td>1000</td>\n",
              "    </tr>\n",
              "    <tr>\n",
              "      <th>4</th>\n",
              "      <td>4</td>\n",
              "      <td>Coat</td>\n",
              "      <td>1000</td>\n",
              "      <td>1000</td>\n",
              "    </tr>\n",
              "    <tr>\n",
              "      <th>5</th>\n",
              "      <td>5</td>\n",
              "      <td>Sandal</td>\n",
              "      <td>1000</td>\n",
              "      <td>1000</td>\n",
              "    </tr>\n",
              "    <tr>\n",
              "      <th>6</th>\n",
              "      <td>6</td>\n",
              "      <td>Shirt</td>\n",
              "      <td>1000</td>\n",
              "      <td>1000</td>\n",
              "    </tr>\n",
              "    <tr>\n",
              "      <th>7</th>\n",
              "      <td>7</td>\n",
              "      <td>sneaker</td>\n",
              "      <td>1000</td>\n",
              "      <td>1000</td>\n",
              "    </tr>\n",
              "    <tr>\n",
              "      <th>8</th>\n",
              "      <td>8</td>\n",
              "      <td>bag</td>\n",
              "      <td>1000</td>\n",
              "      <td>1000</td>\n",
              "    </tr>\n",
              "    <tr>\n",
              "      <th>9</th>\n",
              "      <td>9</td>\n",
              "      <td>ankle-boot</td>\n",
              "      <td>1000</td>\n",
              "      <td>1000</td>\n",
              "    </tr>\n",
              "  </tbody>\n",
              "</table>\n",
              "</div>"
            ],
            "text/plain": [
              "  Class  Class-name  Train Freq  Test Freq\n",
              "0     0     T-shirt        1000       1000\n",
              "1     1     Trouser        1000       1000\n",
              "2     2    Pullover        1000       1000\n",
              "3     3       Dress        1000       1000\n",
              "4     4        Coat        1000       1000\n",
              "5     5      Sandal        1000       1000\n",
              "6     6       Shirt        1000       1000\n",
              "7     7     sneaker        1000       1000\n",
              "8     8         bag        1000       1000\n",
              "9     9  ankle-boot        1000       1000"
            ]
          },
          "metadata": {
            "tags": []
          },
          "execution_count": 17
        }
      ]
    },
    {
      "cell_type": "code",
      "metadata": {
        "id": "UQGX_HI3fxD8",
        "colab_type": "code",
        "colab": {
          "base_uri": "https://localhost:8080/",
          "height": 34
        },
        "outputId": "849eeaa0-2b05-44bf-84f5-b48ddc70e047"
      },
      "source": [
        "train_images[0].shape"
      ],
      "execution_count": 18,
      "outputs": [
        {
          "output_type": "execute_result",
          "data": {
            "text/plain": [
              "(28, 28)"
            ]
          },
          "metadata": {
            "tags": []
          },
          "execution_count": 18
        }
      ]
    },
    {
      "cell_type": "code",
      "metadata": {
        "id": "cQBg68byeGKQ",
        "colab_type": "code",
        "colab": {}
      },
      "source": [
        "#INSERT YOUR MODEL CODE HERE\n",
        "#YOU CAN ALSO CHANGE THE CODE BELOW TO COMPILE AND RUN THE MODEL\n",
        "\n",
        "model = models.Sequential()\n",
        "model.add(keras.layers.Reshape(input_shape=(28*28,), target_shape=(28, 28, 1))),\n",
        "model.add(layers.Conv2D(32, kernel_size=(3,3), padding='same', activation='relu', input_shape=(28,28)))\n",
        "model.add(layers.MaxPool2D(pool_size=(2,2)))\n",
        "#model.add(layers.BatchNormalization(center=True, scale=False))\n",
        "model.add(layers.Conv2D(64, kernel_size=(3,3), padding='same', activation='relu'))\n",
        "model.add(layers.MaxPool2D(pool_size=(2,2)))\n",
        "#model.add(layers.BatchNormalization(center=True, scale=False))\n",
        "model.add(layers.Flatten())\n",
        "model.add(layers.Dense(512, activation='relu'))\n",
        "#model.add(layers.BatchNormalization(center=True, scale=False))\n",
        "model.add(layers.Dropout(0.50))\n",
        "model.add(layers.Dense(10))\n"
      ],
      "execution_count": 19,
      "outputs": []
    },
    {
      "cell_type": "code",
      "metadata": {
        "id": "b1Qi75gfehGe",
        "colab_type": "code",
        "colab": {
          "base_uri": "https://localhost:8080/",
          "height": 428
        },
        "outputId": "1b6ceaaa-c7e4-42ab-bb74-5a35521483df"
      },
      "source": [
        "model.compile(optimizer='adam',\n",
        "              loss=tf.keras.losses.SparseCategoricalCrossentropy(from_logits=True),\n",
        "              metrics=['accuracy'])\n",
        "\n",
        "history = model.fit(train_images, train_labels, epochs=10, \n",
        "                    validation_data=(test_images, test_labels))"
      ],
      "execution_count": 20,
      "outputs": [
        {
          "output_type": "stream",
          "text": [
            "Epoch 1/10\n",
            "WARNING:tensorflow:Model was constructed with shape (None, 784) for input Tensor(\"reshape_input:0\", shape=(None, 784), dtype=float32), but it was called on an input with incompatible shape (None, 28, 28).\n",
            "WARNING:tensorflow:Model was constructed with shape (None, 784) for input Tensor(\"reshape_input:0\", shape=(None, 784), dtype=float32), but it was called on an input with incompatible shape (None, 28, 28).\n",
            "312/313 [============================>.] - ETA: 0s - loss: 0.6935 - accuracy: 0.7481WARNING:tensorflow:Model was constructed with shape (None, 784) for input Tensor(\"reshape_input:0\", shape=(None, 784), dtype=float32), but it was called on an input with incompatible shape (None, 28, 28).\n",
            "313/313 [==============================] - 20s 64ms/step - loss: 0.6936 - accuracy: 0.7482 - val_loss: 0.4346 - val_accuracy: 0.8434\n",
            "Epoch 2/10\n",
            "313/313 [==============================] - 20s 63ms/step - loss: 0.4503 - accuracy: 0.8340 - val_loss: 0.3475 - val_accuracy: 0.8768\n",
            "Epoch 3/10\n",
            "313/313 [==============================] - 20s 63ms/step - loss: 0.3739 - accuracy: 0.8672 - val_loss: 0.2835 - val_accuracy: 0.8972\n",
            "Epoch 4/10\n",
            "313/313 [==============================] - 19s 62ms/step - loss: 0.3301 - accuracy: 0.8778 - val_loss: 0.2456 - val_accuracy: 0.9109\n",
            "Epoch 5/10\n",
            "313/313 [==============================] - 20s 62ms/step - loss: 0.2912 - accuracy: 0.8954 - val_loss: 0.2171 - val_accuracy: 0.9226\n",
            "Epoch 6/10\n",
            "313/313 [==============================] - 20s 63ms/step - loss: 0.2603 - accuracy: 0.9056 - val_loss: 0.2026 - val_accuracy: 0.9286\n",
            "Epoch 7/10\n",
            "313/313 [==============================] - 19s 62ms/step - loss: 0.2267 - accuracy: 0.9173 - val_loss: 0.1675 - val_accuracy: 0.9386\n",
            "Epoch 8/10\n",
            "313/313 [==============================] - 20s 62ms/step - loss: 0.2053 - accuracy: 0.9224 - val_loss: 0.1329 - val_accuracy: 0.9531\n",
            "Epoch 9/10\n",
            "313/313 [==============================] - 20s 63ms/step - loss: 0.1826 - accuracy: 0.9290 - val_loss: 0.1289 - val_accuracy: 0.9563\n",
            "Epoch 10/10\n",
            "313/313 [==============================] - 20s 63ms/step - loss: 0.1578 - accuracy: 0.9401 - val_loss: 0.1049 - val_accuracy: 0.9636\n"
          ],
          "name": "stdout"
        }
      ]
    },
    {
      "cell_type": "code",
      "metadata": {
        "id": "hY4vjzIUeo5D",
        "colab_type": "code",
        "colab": {
          "base_uri": "https://localhost:8080/",
          "height": 300
        },
        "outputId": "757ba899-71e9-4453-a60a-5d04446062e4"
      },
      "source": [
        "plt.plot(history.history['accuracy'], label='accuracy')\n",
        "plt.plot(history.history['val_accuracy'], label = 'val_accuracy')\n",
        "plt.xlabel('Epoch')\n",
        "plt.ylabel('Accuracy')\n",
        "plt.ylim([0.5, 1])\n",
        "plt.legend(loc='lower right')\n",
        "\n",
        "test_loss, test_acc = model.evaluate(test_images,  test_labels, verbose=2)"
      ],
      "execution_count": 21,
      "outputs": [
        {
          "output_type": "stream",
          "text": [
            "313/313 - 4s - loss: 0.1049 - accuracy: 0.9636\n"
          ],
          "name": "stdout"
        },
        {
          "output_type": "display_data",
          "data": {
            "image/png": "[encoded data removed]",
            "text/plain": [
              "<Figure size 432x288 with 1 Axes>"
            ]
          },
          "metadata": {
            "tags": [],
            "needs_background": "light"
          }
        }
      ]
    },
    {
      "cell_type": "code",
      "metadata": {
        "id": "h4i1JBYqkX5u",
        "colab_type": "code",
        "colab": {
          "base_uri": "https://localhost:8080/",
          "height": 953
        },
        "outputId": "e83a8db7-f2e2-4d1a-c964-05c9e4df8a2e"
      },
      "source": [
        "keras.utils.plot_model(model)"
      ],
      "execution_count": 22,
      "outputs": [
        {
          "output_type": "execute_result",
          "data": {
            "image/png": "[encoded data removed]",
            "text/plain": [
              "<IPython.core.display.Image object>"
            ]
          },
          "metadata": {
            "tags": []
          },
          "execution_count": 22
        }
      ]
    },
    {
      "cell_type": "code",
      "metadata": {
        "id": "IRV3mzFnDHwE",
        "colab_type": "code",
        "colab": {}
      },
      "source": [
        ""
      ],
      "execution_count": null,
      "outputs": []
    }
  ]
}